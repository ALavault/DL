{
 "cells": [
  {
   "cell_type": "code",
   "execution_count": 15,
   "metadata": {},
   "outputs": [
    {
     "data": {
      "image/png": "[encoded data removed]",
      "text/plain": [
       "<matplotlib.figure.Figure at 0x7fd18c6ad160>"
      ]
     },
     "metadata": {},
     "output_type": "display_data"
    }
   ],
   "source": [
    "import matplotlib.pyplot as plt\n",
    "%matplotlib inline\n",
    "import numpy as np\n",
    "from keras.utils import np_utils\n",
    "from keras.callbacks import History \n",
    "\n",
    "\n",
    "def generate_a_drawing(figsize, U, V, noise=0.0):\n",
    "    fig = plt.figure(figsize=(figsize,figsize))\n",
    "    ax = plt.subplot(111)\n",
    "    plt.axis('Off')\n",
    "    ax.set_xlim(0,figsize)\n",
    "    ax.set_ylim(0,figsize)\n",
    "    ax.fill(U, V, \"k\")\n",
    "    fig.canvas.draw()\n",
    "    imdata = np.frombuffer(fig.canvas.tostring_rgb(), dtype=np.uint8)[::3].astype(np.float32)\n",
    "    imdata = imdata + noise * np.random.random(imdata.size)\n",
    "    plt.close(fig)\n",
    "    return imdata\n",
    "\n",
    "def generate_a_rectangle(noise=0.0, free_location=False):\n",
    "    figsize = 1.0    \n",
    "    U = np.zeros(4)\n",
    "    V = np.zeros(4)\n",
    "    if free_location:\n",
    "        corners = np.random.random(4)\n",
    "        top = max(corners[0], corners[1])\n",
    "        bottom = min(corners[0], corners[1])\n",
    "        left = min(corners[2], corners[3])\n",
    "        right = max(corners[2], corners[3])\n",
    "    else:\n",
    "        side = (0.3 + 0.7 * np.random.random()) * figsize\n",
    "        top = figsize/2 + side/2\n",
    "        bottom = figsize/2 - side/2\n",
    "        left = bottom\n",
    "        right = top\n",
    "    U[0] = U[1] = top\n",
    "    U[2] = U[3] = bottom\n",
    "    V[0] = V[3] = left\n",
    "    V[1] = V[2] = right\n",
    "    return generate_a_drawing(figsize, U, V, noise)\n",
    "\n",
    "\n",
    "def generate_a_disk(noise=0.0, free_location=False):\n",
    "    figsize = 1.0\n",
    "    if free_location:\n",
    "        center = np.random.random(2)\n",
    "    else:\n",
    "        center = (figsize/2, figsize/2)\n",
    "    radius = (0.3 + 0.7 * np.random.random()) * figsize/2\n",
    "    N = 50\n",
    "    U = np.zeros(N)\n",
    "    V = np.zeros(N)\n",
    "    i = 0\n",
    "    for t in np.linspace(0, 2*np.pi, N):\n",
    "        U[i] = center[0] + np.cos(t) * radius\n",
    "        V[i] = center[1] + np.sin(t) * radius\n",
    "        i = i + 1\n",
    "    return generate_a_drawing(figsize, U, V, noise)\n",
    "\n",
    "def generate_a_triangle(noise=0.0, free_location=False):\n",
    "    figsize = 1.0\n",
    "    if free_location:\n",
    "        U = np.random.random(3)\n",
    "        V = np.random.random(3)\n",
    "    else:\n",
    "        size = (0.3 + 0.7 * np.random.random())*figsize/2\n",
    "        middle = figsize/2\n",
    "        U = (middle, middle+size, middle-size)\n",
    "        V = (middle+size, middle-size, middle-size)\n",
    "    imdata = generate_a_drawing(figsize, U, V, noise)\n",
    "    return [imdata, [U[0], V[0], U[1], V[1], U[2], V[2]]]\n",
    "\n",
    "\n",
    "im = generate_a_rectangle(10, True)\n",
    "plt.imshow(im.reshape(72,72), cmap='gray')\n",
    "\n",
    "im = generate_a_disk(10)\n",
    "plt.imshow(im.reshape(72,72), cmap='gray')\n",
    "\n",
    "[im, v] = generate_a_triangle(20, False)\n",
    "plt.imshow(im.reshape(72,72), cmap='gray')\n",
    "\n",
    "\n",
    "def generate_dataset_classification(nb_samples, noise=0.0, free_location=False):\n",
    "    # Getting im_size:\n",
    "    im_size = generate_a_rectangle().shape[0]\n",
    "    X = np.zeros([nb_samples,im_size])\n",
    "    Y = np.zeros(nb_samples)\n",
    "    print('Creating data:')\n",
    "    for i in range(nb_samples):\n",
    "        if i % 10 == 0:\n",
    "            print(i)\n",
    "        category = np.random.randint(3)\n",
    "        if category == 0:\n",
    "            X[i] = generate_a_rectangle(noise, free_location)\n",
    "        elif category == 1: \n",
    "            X[i] = generate_a_disk(noise, free_location)\n",
    "        else:\n",
    "            [X[i], V] = generate_a_triangle(noise, free_location)\n",
    "        Y[i] = category\n",
    "    X = (X + noise) / (255 + 2 * noise)\n",
    "    return [X, Y]\n",
    "\n",
    "def generate_test_set_classification():\n",
    "    np.random.seed(42)\n",
    "    [X_test, Y_test] = generate_dataset_classification(300, 20, True)\n",
    "    Y_test = np_utils.to_categorical(Y_test, 3) \n",
    "    return [X_test, Y_test]\n",
    "\n",
    "def generate_dataset_regression(nb_samples, noise=0.0):\n",
    "    # Getting im_size:\n",
    "    im_size = generate_a_triangle()[0].shape[0]\n",
    "    X = np.zeros([nb_samples,im_size])\n",
    "    Y = np.zeros([nb_samples, 6])\n",
    "    print('Creating data:')\n",
    "    for i in range(nb_samples):\n",
    "        if i % 10 == 0:\n",
    "            print(i)\n",
    "        [X[i], Y[i]] = generate_a_triangle(noise, True)\n",
    "    X = (X + noise) / (255 + 2 * noise)\n",
    "    return [X, Y]\n",
    "\n",
    "import matplotlib.patches as patches\n",
    "\n",
    "def visualize_prediction(x, y):\n",
    "    fig, ax = plt.subplots(figsize=(5, 5))\n",
    "    I = x.reshape((72,72))\n",
    "    ax.imshow(I, extent=[-0.15,1.15,-0.15,1.15],cmap='gray')\n",
    "    ax.set_xlim([0,1])\n",
    "    ax.set_ylim([0,1])\n",
    "\n",
    "    xy = y.reshape(3,2)\n",
    "    tri = patches.Polygon(xy, closed=True, fill = False, edgecolor = 'r', linewidth = 5, alpha = 0.5)\n",
    "    ax.add_patch(tri)\n",
    "\n",
    "    plt.show()\n",
    "\n",
    "def generate_test_set_regression():\n",
    "    np.random.seed(42)\n",
    "    [X_test, Y_test] = generate_dataset_regression(300, 20)\n",
    "    Y_test = np_utils.to_categorical(Y_test, 3) \n",
    "    return [X_test, Y_test]\n",
    "\n"
   ]
  },
  {
   "cell_type": "markdown",
   "metadata": {},
   "source": [
    "# Partie 1 - Simple classification"
   ]
  },
  {
   "cell_type": "code",
   "execution_count": 3,
   "metadata": {},
   "outputs": [
    {
     "name": "stdout",
     "output_type": "stream",
     "text": [
      "Creating data:\n",
      "0\n",
      "10\n",
      "20\n",
      "30\n",
      "40\n",
      "50\n",
      "60\n",
      "70\n",
      "80\n",
      "90\n",
      "100\n",
      "110\n",
      "120\n",
      "130\n",
      "140\n",
      "150\n",
      "160\n",
      "170\n",
      "180\n",
      "190\n",
      "200\n",
      "210\n",
      "220\n",
      "230\n",
      "240\n",
      "250\n",
      "260\n",
      "270\n",
      "280\n",
      "290\n"
     ]
    }
   ],
   "source": [
    "[X_train, Y_train] = generate_dataset_classification(300, 20)"
   ]
  },
  {
   "cell_type": "code",
   "execution_count": 4,
   "metadata": {},
   "outputs": [
    {
     "data": {
      "text/plain": [
       "array([0.94199143, 0.99807865, 0.96529364, ..., 0.9673603 , 0.97514598,\n",
       "       0.99341282])"
      ]
     },
     "execution_count": 4,
     "metadata": {},
     "output_type": "execute_result"
    }
   ],
   "source": [
    "X_train[0]"
   ]
  },
  {
   "cell_type": "code",
   "execution_count": 5,
   "metadata": {},
   "outputs": [
    {
     "data": {
      "text/plain": [
       "(array([[0.94199143, 0.99807865, 0.96529364, ..., 0.9673603 , 0.97514598,\n",
       "         0.99341282],\n",
       "        [0.98593208, 0.95913481, 0.93590246, ..., 0.94260054, 0.94578904,\n",
       "         0.94101371],\n",
       "        [0.95449921, 0.97592602, 0.94711375, ..., 0.9825268 , 0.98596082,\n",
       "         0.94246449],\n",
       "        ...,\n",
       "        [0.98400455, 0.94195286, 0.99786731, ..., 0.94972293, 0.98337468,\n",
       "         0.99114846],\n",
       "        [0.98864737, 0.93371794, 0.95981962, ..., 0.98826084, 0.93294249,\n",
       "         0.96534596],\n",
       "        [0.9712856 , 0.96264034, 0.93932593, ..., 0.99604649, 0.99186014,\n",
       "         0.961185  ]]), array([[0., 0., 1.],\n",
       "        [1., 0., 0.],\n",
       "        [1., 0., 0.],\n",
       "        [0., 1., 0.],\n",
       "        [0., 0., 1.],\n",
       "        [0., 0., 1.],\n",
       "        [1., 0., 0.],\n",
       "        [0., 1., 0.],\n",
       "        [1., 0., 0.],\n",
       "        [0., 0., 1.],\n",
       "        [0., 1., 0.],\n",
       "        [1., 0., 0.],\n",
       "        [0., 0., 1.],\n",
       "        [1., 0., 0.],\n",
       "        [0., 1., 0.],\n",
       "        [0., 0., 1.],\n",
       "        [1., 0., 0.],\n",
       "        [0., 0., 1.],\n",
       "        [1., 0., 0.],\n",
       "        [0., 0., 1.],\n",
       "        [1., 0., 0.],\n",
       "        [0., 1., 0.],\n",
       "        [1., 0., 0.],\n",
       "        [1., 0., 0.],\n",
       "        [0., 1., 0.],\n",
       "        [0., 0., 1.],\n",
       "        [0., 0., 1.],\n",
       "        [0., 1., 0.],\n",
       "        [0., 0., 1.],\n",
       "        [0., 0., 1.],\n",
       "        [1., 0., 0.],\n",
       "        [0., 0., 1.],\n",
       "        [0., 0., 1.],\n",
       "        [1., 0., 0.],\n",
       "        [0., 0., 1.],\n",
       "        [0., 0., 1.],\n",
       "        [0., 0., 1.],\n",
       "        [0., 0., 1.],\n",
       "        [0., 1., 0.],\n",
       "        [0., 1., 0.],\n",
       "        [1., 0., 0.],\n",
       "        [1., 0., 0.],\n",
       "        [1., 0., 0.],\n",
       "        [1., 0., 0.],\n",
       "        [0., 0., 1.],\n",
       "        [1., 0., 0.],\n",
       "        [0., 0., 1.],\n",
       "        [1., 0., 0.],\n",
       "        [0., 0., 1.],\n",
       "        [0., 1., 0.],\n",
       "        [0., 0., 1.],\n",
       "        [0., 0., 1.],\n",
       "        [0., 0., 1.],\n",
       "        [1., 0., 0.],\n",
       "        [1., 0., 0.],\n",
       "        [0., 1., 0.],\n",
       "        [0., 0., 1.],\n",
       "        [0., 0., 1.],\n",
       "        [1., 0., 0.],\n",
       "        [0., 0., 1.],\n",
       "        [0., 1., 0.],\n",
       "        [1., 0., 0.],\n",
       "        [0., 1., 0.],\n",
       "        [1., 0., 0.],\n",
       "        [1., 0., 0.],\n",
       "        [0., 0., 1.],\n",
       "        [1., 0., 0.],\n",
       "        [1., 0., 0.],\n",
       "        [0., 1., 0.],\n",
       "        [0., 1., 0.],\n",
       "        [0., 0., 1.],\n",
       "        [0., 0., 1.],\n",
       "        [0., 0., 1.],\n",
       "        [1., 0., 0.],\n",
       "        [0., 1., 0.],\n",
       "        [1., 0., 0.],\n",
       "        [0., 1., 0.],\n",
       "        [0., 0., 1.],\n",
       "        [0., 0., 1.],\n",
       "        [0., 1., 0.],\n",
       "        [1., 0., 0.],\n",
       "        [0., 0., 1.],\n",
       "        [1., 0., 0.],\n",
       "        [0., 0., 1.],\n",
       "        [0., 1., 0.],\n",
       "        [1., 0., 0.],\n",
       "        [1., 0., 0.],\n",
       "        [0., 1., 0.],\n",
       "        [0., 1., 0.],\n",
       "        [0., 0., 1.],\n",
       "        [0., 1., 0.],\n",
       "        [0., 1., 0.],\n",
       "        [1., 0., 0.],\n",
       "        [0., 0., 1.],\n",
       "        [0., 1., 0.],\n",
       "        [0., 0., 1.],\n",
       "        [0., 1., 0.],\n",
       "        [1., 0., 0.],\n",
       "        [1., 0., 0.],\n",
       "        [0., 1., 0.],\n",
       "        [0., 1., 0.],\n",
       "        [0., 0., 1.],\n",
       "        [0., 1., 0.],\n",
       "        [0., 0., 1.],\n",
       "        [0., 0., 1.],\n",
       "        [0., 1., 0.],\n",
       "        [0., 0., 1.],\n",
       "        [0., 1., 0.],\n",
       "        [0., 0., 1.],\n",
       "        [0., 0., 1.],\n",
       "        [1., 0., 0.],\n",
       "        [0., 1., 0.],\n",
       "        [1., 0., 0.],\n",
       "        [0., 1., 0.],\n",
       "        [0., 1., 0.],\n",
       "        [0., 1., 0.],\n",
       "        [0., 1., 0.],\n",
       "        [1., 0., 0.],\n",
       "        [0., 0., 1.],\n",
       "        [1., 0., 0.],\n",
       "        [0., 0., 1.],\n",
       "        [1., 0., 0.],\n",
       "        [0., 0., 1.],\n",
       "        [0., 0., 1.],\n",
       "        [1., 0., 0.],\n",
       "        [0., 1., 0.],\n",
       "        [1., 0., 0.],\n",
       "        [1., 0., 0.],\n",
       "        [0., 1., 0.],\n",
       "        [1., 0., 0.],\n",
       "        [0., 0., 1.],\n",
       "        [0., 1., 0.],\n",
       "        [1., 0., 0.],\n",
       "        [0., 0., 1.],\n",
       "        [0., 0., 1.],\n",
       "        [0., 0., 1.],\n",
       "        [0., 1., 0.],\n",
       "        [0., 0., 1.],\n",
       "        [0., 1., 0.],\n",
       "        [1., 0., 0.],\n",
       "        [0., 0., 1.],\n",
       "        [1., 0., 0.],\n",
       "        [1., 0., 0.],\n",
       "        [1., 0., 0.],\n",
       "        [1., 0., 0.],\n",
       "        [0., 0., 1.],\n",
       "        [0., 1., 0.],\n",
       "        [0., 0., 1.],\n",
       "        [1., 0., 0.],\n",
       "        [0., 1., 0.],\n",
       "        [1., 0., 0.],\n",
       "        [1., 0., 0.],\n",
       "        [0., 0., 1.],\n",
       "        [0., 1., 0.],\n",
       "        [0., 1., 0.],\n",
       "        [0., 0., 1.],\n",
       "        [0., 0., 1.],\n",
       "        [1., 0., 0.],\n",
       "        [0., 0., 1.],\n",
       "        [0., 1., 0.],\n",
       "        [0., 0., 1.],\n",
       "        [0., 0., 1.],\n",
       "        [0., 1., 0.],\n",
       "        [1., 0., 0.],\n",
       "        [0., 0., 1.],\n",
       "        [0., 0., 1.],\n",
       "        [0., 0., 1.],\n",
       "        [0., 1., 0.],\n",
       "        [1., 0., 0.],\n",
       "        [0., 0., 1.],\n",
       "        [1., 0., 0.],\n",
       "        [1., 0., 0.],\n",
       "        [1., 0., 0.],\n",
       "        [0., 1., 0.],\n",
       "        [0., 0., 1.],\n",
       "        [0., 1., 0.],\n",
       "        [1., 0., 0.],\n",
       "        [0., 1., 0.],\n",
       "        [1., 0., 0.],\n",
       "        [0., 0., 1.],\n",
       "        [0., 1., 0.],\n",
       "        [1., 0., 0.],\n",
       "        [0., 0., 1.],\n",
       "        [0., 1., 0.],\n",
       "        [0., 1., 0.],\n",
       "        [0., 1., 0.],\n",
       "        [0., 0., 1.],\n",
       "        [0., 1., 0.],\n",
       "        [1., 0., 0.],\n",
       "        [0., 1., 0.],\n",
       "        [1., 0., 0.],\n",
       "        [1., 0., 0.],\n",
       "        [0., 1., 0.],\n",
       "        [0., 0., 1.],\n",
       "        [1., 0., 0.],\n",
       "        [0., 0., 1.],\n",
       "        [0., 0., 1.],\n",
       "        [1., 0., 0.],\n",
       "        [0., 1., 0.],\n",
       "        [1., 0., 0.],\n",
       "        [0., 0., 1.],\n",
       "        [0., 0., 1.],\n",
       "        [0., 0., 1.],\n",
       "        [1., 0., 0.],\n",
       "        [0., 0., 1.],\n",
       "        [0., 0., 1.],\n",
       "        [0., 1., 0.],\n",
       "        [0., 1., 0.],\n",
       "        [0., 1., 0.],\n",
       "        [0., 0., 1.],\n",
       "        [0., 0., 1.],\n",
       "        [0., 1., 0.],\n",
       "        [1., 0., 0.],\n",
       "        [0., 0., 1.],\n",
       "        [0., 0., 1.],\n",
       "        [0., 1., 0.],\n",
       "        [0., 1., 0.],\n",
       "        [0., 1., 0.],\n",
       "        [1., 0., 0.],\n",
       "        [0., 0., 1.],\n",
       "        [1., 0., 0.],\n",
       "        [1., 0., 0.],\n",
       "        [1., 0., 0.],\n",
       "        [0., 1., 0.],\n",
       "        [1., 0., 0.],\n",
       "        [0., 0., 1.],\n",
       "        [1., 0., 0.],\n",
       "        [0., 1., 0.],\n",
       "        [1., 0., 0.],\n",
       "        [0., 0., 1.],\n",
       "        [0., 0., 1.],\n",
       "        [0., 0., 1.],\n",
       "        [1., 0., 0.],\n",
       "        [0., 0., 1.],\n",
       "        [1., 0., 0.],\n",
       "        [1., 0., 0.],\n",
       "        [0., 1., 0.],\n",
       "        [1., 0., 0.],\n",
       "        [0., 0., 1.],\n",
       "        [0., 1., 0.],\n",
       "        [0., 0., 1.],\n",
       "        [0., 1., 0.],\n",
       "        [0., 1., 0.],\n",
       "        [0., 1., 0.],\n",
       "        [0., 1., 0.],\n",
       "        [0., 1., 0.],\n",
       "        [1., 0., 0.],\n",
       "        [0., 1., 0.],\n",
       "        [1., 0., 0.],\n",
       "        [0., 0., 1.],\n",
       "        [0., 0., 1.],\n",
       "        [0., 0., 1.],\n",
       "        [0., 0., 1.],\n",
       "        [0., 0., 1.],\n",
       "        [0., 1., 0.],\n",
       "        [0., 0., 1.],\n",
       "        [1., 0., 0.],\n",
       "        [0., 1., 0.],\n",
       "        [0., 0., 1.],\n",
       "        [0., 1., 0.],\n",
       "        [0., 0., 1.],\n",
       "        [0., 1., 0.],\n",
       "        [0., 0., 1.],\n",
       "        [0., 0., 1.],\n",
       "        [0., 1., 0.],\n",
       "        [1., 0., 0.],\n",
       "        [0., 0., 1.],\n",
       "        [1., 0., 0.],\n",
       "        [0., 0., 1.],\n",
       "        [0., 0., 1.],\n",
       "        [1., 0., 0.],\n",
       "        [1., 0., 0.],\n",
       "        [1., 0., 0.],\n",
       "        [0., 0., 1.],\n",
       "        [0., 0., 1.],\n",
       "        [1., 0., 0.],\n",
       "        [0., 1., 0.],\n",
       "        [0., 0., 1.],\n",
       "        [1., 0., 0.],\n",
       "        [0., 0., 1.],\n",
       "        [0., 0., 1.],\n",
       "        [0., 1., 0.],\n",
       "        [1., 0., 0.],\n",
       "        [1., 0., 0.],\n",
       "        [0., 1., 0.],\n",
       "        [1., 0., 0.],\n",
       "        [1., 0., 0.],\n",
       "        [0., 1., 0.],\n",
       "        [0., 1., 0.],\n",
       "        [0., 0., 1.],\n",
       "        [0., 1., 0.],\n",
       "        [1., 0., 0.],\n",
       "        [1., 0., 0.],\n",
       "        [1., 0., 0.],\n",
       "        [1., 0., 0.],\n",
       "        [0., 0., 1.],\n",
       "        [0., 1., 0.],\n",
       "        [1., 0., 0.],\n",
       "        [0., 0., 1.],\n",
       "        [1., 0., 0.]]))"
      ]
     },
     "execution_count": 5,
     "metadata": {},
     "output_type": "execute_result"
    }
   ],
   "source": [
    "Y_train = np_utils.to_categorical(Y_train,3)\n",
    "X_train, Y_train"
   ]
  },
  {
   "cell_type": "code",
   "execution_count": 6,
   "metadata": {},
   "outputs": [
    {
     "data": {
      "text/plain": [
       "(300, 5184)"
      ]
     },
     "execution_count": 6,
     "metadata": {},
     "output_type": "execute_result"
    }
   ],
   "source": [
    "X_train = X_train.reshape(X_train.shape[0], X_train.shape[1])\n",
    "X_train.shape"
   ]
  },
  {
   "cell_type": "code",
   "execution_count": 8,
   "metadata": {
    "scrolled": true
   },
   "outputs": [
    {
     "name": "stdout",
     "output_type": "stream",
     "text": [
      "Epoch 1/100\n",
      "300/300 [==============================] - 1s 4ms/step - loss: 1.3948\n",
      "Epoch 2/100\n",
      "300/300 [==============================] - 0s 163us/step - loss: 0.6821\n",
      "Epoch 3/100\n",
      "300/300 [==============================] - 0s 165us/step - loss: 0.5362\n",
      "Epoch 4/100\n",
      "300/300 [==============================] - 0s 172us/step - loss: 0.3921\n",
      "Epoch 5/100\n",
      "300/300 [==============================] - 0s 168us/step - loss: 0.2935\n",
      "Epoch 6/100\n",
      "300/300 [==============================] - 0s 162us/step - loss: 0.2631\n",
      "Epoch 7/100\n",
      "300/300 [==============================] - 0s 162us/step - loss: 0.2202\n",
      "Epoch 8/100\n",
      "300/300 [==============================] - 0s 156us/step - loss: 0.2187\n",
      "Epoch 9/100\n",
      "300/300 [==============================] - 0s 166us/step - loss: 0.2437\n",
      "Epoch 10/100\n",
      "300/300 [==============================] - 0s 172us/step - loss: 0.2236\n",
      "Epoch 11/100\n",
      "300/300 [==============================] - 0s 172us/step - loss: 0.1669\n",
      "Epoch 12/100\n",
      "300/300 [==============================] - 0s 162us/step - loss: 0.1267\n",
      "Epoch 13/100\n",
      "300/300 [==============================] - 0s 160us/step - loss: 0.1182\n",
      "Epoch 14/100\n",
      "300/300 [==============================] - 0s 163us/step - loss: 0.1183\n",
      "Epoch 15/100\n",
      "300/300 [==============================] - 0s 155us/step - loss: 0.1081\n",
      "Epoch 16/100\n",
      "300/300 [==============================] - 0s 162us/step - loss: 0.0927\n",
      "Epoch 17/100\n",
      "300/300 [==============================] - 0s 150us/step - loss: 0.0860\n",
      "Epoch 18/100\n",
      "300/300 [==============================] - 0s 154us/step - loss: 0.0818\n",
      "Epoch 19/100\n",
      "300/300 [==============================] - 0s 153us/step - loss: 0.0800\n",
      "Epoch 20/100\n",
      "300/300 [==============================] - 0s 152us/step - loss: 0.0767\n",
      "Epoch 21/100\n",
      "300/300 [==============================] - 0s 151us/step - loss: 0.0666\n",
      "Epoch 22/100\n",
      "300/300 [==============================] - 0s 142us/step - loss: 0.0649\n",
      "Epoch 23/100\n",
      "300/300 [==============================] - 0s 149us/step - loss: 0.0621\n",
      "Epoch 24/100\n",
      "300/300 [==============================] - 0s 164us/step - loss: 0.0606\n",
      "Epoch 25/100\n",
      "300/300 [==============================] - 0s 163us/step - loss: 0.0548\n",
      "Epoch 26/100\n",
      "300/300 [==============================] - 0s 211us/step - loss: 0.0504\n",
      "Epoch 27/100\n",
      "300/300 [==============================] - 0s 159us/step - loss: 0.0577\n",
      "Epoch 28/100\n",
      "300/300 [==============================] - 0s 157us/step - loss: 0.0470\n",
      "Epoch 29/100\n",
      "300/300 [==============================] - 0s 148us/step - loss: 0.0432\n",
      "Epoch 30/100\n",
      "300/300 [==============================] - 0s 146us/step - loss: 0.0440\n",
      "Epoch 31/100\n",
      "300/300 [==============================] - 0s 167us/step - loss: 0.0406\n",
      "Epoch 32/100\n",
      "300/300 [==============================] - 0s 162us/step - loss: 0.0387\n",
      "Epoch 33/100\n",
      "300/300 [==============================] - 0s 152us/step - loss: 0.0387\n",
      "Epoch 34/100\n",
      "300/300 [==============================] - 0s 150us/step - loss: 0.0358\n",
      "Epoch 35/100\n",
      "300/300 [==============================] - 0s 150us/step - loss: 0.0344\n",
      "Epoch 36/100\n",
      "300/300 [==============================] - 0s 160us/step - loss: 0.0328\n",
      "Epoch 37/100\n",
      "300/300 [==============================] - 0s 157us/step - loss: 0.0355\n",
      "Epoch 38/100\n",
      "300/300 [==============================] - 0s 161us/step - loss: 0.0332\n",
      "Epoch 39/100\n",
      "300/300 [==============================] - 0s 159us/step - loss: 0.0392\n",
      "Epoch 40/100\n",
      "300/300 [==============================] - 0s 149us/step - loss: 0.0322\n",
      "Epoch 41/100\n",
      "300/300 [==============================] - 0s 147us/step - loss: 0.0300\n",
      "Epoch 42/100\n",
      "300/300 [==============================] - 0s 143us/step - loss: 0.0282\n",
      "Epoch 43/100\n",
      "300/300 [==============================] - 0s 157us/step - loss: 0.0298\n",
      "Epoch 44/100\n",
      "300/300 [==============================] - 0s 170us/step - loss: 0.0253\n",
      "Epoch 45/100\n",
      "300/300 [==============================] - 0s 168us/step - loss: 0.0242\n",
      "Epoch 46/100\n",
      "300/300 [==============================] - 0s 163us/step - loss: 0.0271\n",
      "Epoch 47/100\n",
      "300/300 [==============================] - 0s 163us/step - loss: 0.0237\n",
      "Epoch 48/100\n",
      "300/300 [==============================] - 0s 162us/step - loss: 0.0233\n",
      "Epoch 49/100\n",
      "300/300 [==============================] - 0s 161us/step - loss: 0.0201\n",
      "Epoch 50/100\n",
      "300/300 [==============================] - 0s 163us/step - loss: 0.0192\n",
      "Epoch 51/100\n",
      "300/300 [==============================] - 0s 157us/step - loss: 0.0193\n",
      "Epoch 52/100\n",
      "300/300 [==============================] - 0s 154us/step - loss: 0.0179\n",
      "Epoch 53/100\n",
      "300/300 [==============================] - 0s 169us/step - loss: 0.0176\n",
      "Epoch 54/100\n",
      "300/300 [==============================] - 0s 165us/step - loss: 0.0171\n",
      "Epoch 55/100\n",
      "300/300 [==============================] - 0s 159us/step - loss: 0.0182\n",
      "Epoch 56/100\n",
      "300/300 [==============================] - 0s 156us/step - loss: 0.0161\n",
      "Epoch 57/100\n",
      "300/300 [==============================] - 0s 164us/step - loss: 0.0172\n",
      "Epoch 58/100\n",
      "300/300 [==============================] - 0s 167us/step - loss: 0.0155\n",
      "Epoch 59/100\n",
      "300/300 [==============================] - 0s 165us/step - loss: 0.0150\n",
      "Epoch 60/100\n",
      "300/300 [==============================] - 0s 173us/step - loss: 0.0151\n",
      "Epoch 61/100\n",
      "300/300 [==============================] - 0s 167us/step - loss: 0.0145\n",
      "Epoch 62/100\n",
      "300/300 [==============================] - 0s 157us/step - loss: 0.0144\n",
      "Epoch 63/100\n",
      "300/300 [==============================] - 0s 164us/step - loss: 0.0144\n",
      "Epoch 64/100\n",
      "300/300 [==============================] - 0s 163us/step - loss: 0.0142\n",
      "Epoch 65/100\n",
      "300/300 [==============================] - 0s 166us/step - loss: 0.0136\n",
      "Epoch 66/100\n",
      "300/300 [==============================] - 0s 157us/step - loss: 0.0134\n",
      "Epoch 67/100\n",
      "300/300 [==============================] - 0s 151us/step - loss: 0.0129\n",
      "Epoch 68/100\n",
      "300/300 [==============================] - 0s 149us/step - loss: 0.0120\n",
      "Epoch 69/100\n",
      "300/300 [==============================] - 0s 158us/step - loss: 0.0119\n",
      "Epoch 70/100\n",
      "300/300 [==============================] - 0s 153us/step - loss: 0.0115\n",
      "Epoch 71/100\n",
      "300/300 [==============================] - 0s 144us/step - loss: 0.0115\n",
      "Epoch 72/100\n",
      "300/300 [==============================] - 0s 143us/step - loss: 0.0118\n",
      "Epoch 73/100\n",
      "300/300 [==============================] - 0s 151us/step - loss: 0.0118\n",
      "Epoch 74/100\n",
      "300/300 [==============================] - 0s 155us/step - loss: 0.0108\n",
      "Epoch 75/100\n",
      "300/300 [==============================] - 0s 151us/step - loss: 0.0105\n",
      "Epoch 76/100\n",
      "300/300 [==============================] - 0s 146us/step - loss: 0.0107\n",
      "Epoch 77/100\n",
      "300/300 [==============================] - 0s 172us/step - loss: 0.0103\n",
      "Epoch 78/100\n",
      "300/300 [==============================] - 0s 158us/step - loss: 0.0099\n",
      "Epoch 79/100\n",
      "300/300 [==============================] - 0s 155us/step - loss: 0.0099\n",
      "Epoch 80/100\n",
      "300/300 [==============================] - 0s 161us/step - loss: 0.0096\n",
      "Epoch 81/100\n",
      "300/300 [==============================] - 0s 145us/step - loss: 0.0096\n",
      "Epoch 82/100\n",
      "300/300 [==============================] - 0s 148us/step - loss: 0.0093\n",
      "Epoch 83/100\n",
      "300/300 [==============================] - 0s 156us/step - loss: 0.0095\n",
      "Epoch 84/100\n",
      "300/300 [==============================] - 0s 153us/step - loss: 0.0087\n",
      "Epoch 85/100\n",
      "300/300 [==============================] - 0s 144us/step - loss: 0.0090\n",
      "Epoch 86/100\n",
      "300/300 [==============================] - 0s 142us/step - loss: 0.0084\n",
      "Epoch 87/100\n",
      "300/300 [==============================] - 0s 140us/step - loss: 0.0083\n",
      "Epoch 88/100\n",
      "300/300 [==============================] - 0s 138us/step - loss: 0.0081\n",
      "Epoch 89/100\n",
      "300/300 [==============================] - 0s 138us/step - loss: 0.0079\n",
      "Epoch 90/100\n",
      "300/300 [==============================] - 0s 136us/step - loss: 0.0079\n",
      "Epoch 91/100\n",
      "300/300 [==============================] - 0s 135us/step - loss: 0.0080\n",
      "Epoch 92/100\n",
      "300/300 [==============================] - 0s 135us/step - loss: 0.0077\n",
      "Epoch 93/100\n",
      "300/300 [==============================] - 0s 138us/step - loss: 0.0087\n",
      "Epoch 94/100\n",
      "300/300 [==============================] - 0s 136us/step - loss: 0.0076\n",
      "Epoch 95/100\n",
      "300/300 [==============================] - 0s 165us/step - loss: 0.0072\n",
      "Epoch 96/100\n",
      "300/300 [==============================] - 0s 160us/step - loss: 0.0074\n",
      "Epoch 97/100\n"
     ]
    },
    {
     "name": "stdout",
     "output_type": "stream",
     "text": [
      "300/300 [==============================] - 0s 153us/step - loss: 0.0080\n",
      "Epoch 98/100\n",
      "300/300 [==============================] - 0s 149us/step - loss: 0.0070\n",
      "Epoch 99/100\n",
      "300/300 [==============================] - 0s 146us/step - loss: 0.0069\n",
      "Epoch 100/100\n",
      "300/300 [==============================] - 0s 151us/step - loss: 0.0069\n"
     ]
    },
    {
     "data": {
      "text/plain": [
       "<keras.callbacks.History at 0x7fd114543a58>"
      ]
     },
     "execution_count": 8,
     "metadata": {},
     "output_type": "execute_result"
    }
   ],
   "source": [
    "from keras.models import Sequential \n",
    "from keras import utils\n",
    "model = Sequential()\n",
    "\n",
    "from keras.layers import Dense, Activation, Flatten\n",
    "\n",
    "model.add(Dense(3, input_shape=(X_train.shape[1],), activation='softmax'))\n",
    "#model.add(Flatten())\n",
    "#model.add(Dense(3, activation='softmax'))\n",
    "\n",
    "from keras.optimizers import SGD, adam\n",
    "sgd = SGD(lr=0.01,decay=1e-6, momentum=0.9, nesterov=True) \n",
    "adam = adam(lr=0.001, beta_1=0.9, beta_2=0.999, epsilon=None, decay=0.0, amsgrad=False)\n",
    "model.compile(loss='categorical_crossentropy', optimizer=adam)\n",
    "\n",
    "\n",
    "model.fit(X_train, Y_train, epochs=100, batch_size=32)"
   ]
  },
  {
   "cell_type": "code",
   "execution_count": 9,
   "metadata": {},
   "outputs": [
    {
     "name": "stdout",
     "output_type": "stream",
     "text": [
      "_________________________________________________________________\n",
      "Layer (type)                 Output Shape              Param #   \n",
      "=================================================================\n",
      "dense_2 (Dense)              (None, 3)                 15555     \n",
      "=================================================================\n",
      "Total params: 15,555\n",
      "Trainable params: 15,555\n",
      "Non-trainable params: 0\n",
      "_________________________________________________________________\n"
     ]
    }
   ],
   "source": [
    "model.summary()"
   ]
  },
  {
   "cell_type": "code",
   "execution_count": 10,
   "metadata": {
    "scrolled": true
   },
   "outputs": [
    {
     "data": {
      "text/plain": [
       "array([[0., 1., 0.]], dtype=float32)"
      ]
     },
     "execution_count": 10,
     "metadata": {},
     "output_type": "execute_result"
    }
   ],
   "source": [
    "X_test = generate_a_disk()\n",
    "X_test = X_test.reshape(1, X_test.shape[0])\n",
    "model.predict(X_test)"
   ]
  },
  {
   "cell_type": "markdown",
   "metadata": {},
   "source": [
    "# Partie 2 - Visualization of the solution"
   ]
  },
  {
   "cell_type": "code",
   "execution_count": 11,
   "metadata": {},
   "outputs": [],
   "source": [
    "weights = model.get_weights()\n",
    "weightMat = np.asarray(weights[0])"
   ]
  },
  {
   "cell_type": "code",
   "execution_count": 60,
   "metadata": {},
   "outputs": [
    {
     "data": {
      "image/png": "[encoded data removed]",
      "text/plain": [
       "<matplotlib.figure.Figure at 0x7fd11aa2a940>"
      ]
     },
     "metadata": {},
     "output_type": "display_data"
    }
   ],
   "source": [
    "plt.figure(); plt.suptitle('Extracted features');\n",
    "plt.subplot(1, 3, 1)\n",
    "plt.imshow(weightMat[:,0].reshape(72,72),cmap='gray')\n",
    "plt.title('Square')\n",
    "plt.subplot(1, 3, 2)\n",
    "plt.imshow(weightMat[:,1].reshape(72,72),cmap='gray')\n",
    "plt.title('Circle')\n",
    "\n",
    "plt.subplot(1, 3, 3)\n",
    "plt.imshow(weightMat[:,2].reshape(72,72), cmap='gray')\n",
    "plt.title('Triangle')\n",
    "\n",
    "plt.savefig('figures/part2_features')\n",
    "\n",
    "plt.show()"
   ]
  },
  {
   "cell_type": "markdown",
   "metadata": {},
   "source": [
    "# Partie 3 - A More Difficult Classification Problem"
   ]
  },
  {
   "cell_type": "code",
   "execution_count": 43,
   "metadata": {
    "scrolled": true
   },
   "outputs": [
    {
     "name": "stdout",
     "output_type": "stream",
     "text": [
      "Creating data:\n",
      "0\n",
      "10\n",
      "20\n",
      "30\n",
      "40\n",
      "50\n",
      "60\n",
      "70\n",
      "80\n",
      "90\n",
      "100\n",
      "110\n",
      "120\n",
      "130\n",
      "140\n",
      "150\n",
      "160\n",
      "170\n",
      "180\n",
      "190\n",
      "200\n",
      "210\n",
      "220\n",
      "230\n",
      "240\n",
      "250\n",
      "260\n",
      "270\n",
      "280\n",
      "290\n",
      "Creating data:\n",
      "0\n",
      "10\n",
      "20\n",
      "30\n",
      "40\n",
      "50\n",
      "60\n",
      "70\n",
      "80\n",
      "90\n",
      "100\n",
      "110\n",
      "120\n",
      "130\n",
      "140\n",
      "150\n",
      "160\n",
      "170\n",
      "180\n",
      "190\n",
      "200\n",
      "210\n",
      "220\n",
      "230\n",
      "240\n",
      "250\n",
      "260\n",
      "270\n",
      "280\n",
      "290\n"
     ]
    }
   ],
   "source": [
    "[X_train, Y_train] = generate_dataset_classification(300, 20, True)\n",
    "Y_train = utils.np_utils.to_categorical(Y_train,3)\n",
    "[X_test, Y_test] = generate_test_set_classification()"
   ]
  },
  {
   "cell_type": "markdown",
   "metadata": {},
   "source": [
    "## Classifieur linéaire"
   ]
  },
  {
   "cell_type": "code",
   "execution_count": 44,
   "metadata": {},
   "outputs": [
    {
     "name": "stdout",
     "output_type": "stream",
     "text": [
      "Train on 300 samples, validate on 300 samples\n",
      "Epoch 1/40\n",
      "300/300 [==============================] - 0s 1ms/step - loss: 1.9700 - acc: 0.3667 - val_loss: 2.6708 - val_acc: 0.3333\n",
      "Epoch 2/40\n",
      "300/300 [==============================] - 0s 288us/step - loss: 1.7345 - acc: 0.3900 - val_loss: 1.6607 - val_acc: 0.4600\n",
      "Epoch 3/40\n",
      "300/300 [==============================] - 0s 278us/step - loss: 1.1510 - acc: 0.4467 - val_loss: 1.0932 - val_acc: 0.3400\n",
      "Epoch 4/40\n",
      "300/300 [==============================] - 0s 264us/step - loss: 1.0688 - acc: 0.4733 - val_loss: 0.9505 - val_acc: 0.5033\n",
      "Epoch 5/40\n",
      "300/300 [==============================] - 0s 262us/step - loss: 0.9022 - acc: 0.5600 - val_loss: 0.9568 - val_acc: 0.5533\n",
      "Epoch 6/40\n",
      "300/300 [==============================] - 0s 272us/step - loss: 0.8681 - acc: 0.5700 - val_loss: 0.9102 - val_acc: 0.5767\n",
      "Epoch 7/40\n",
      "300/300 [==============================] - 0s 262us/step - loss: 0.8649 - acc: 0.5600 - val_loss: 0.8966 - val_acc: 0.5733\n",
      "Epoch 8/40\n",
      "300/300 [==============================] - 0s 277us/step - loss: 0.8387 - acc: 0.6200 - val_loss: 1.0451 - val_acc: 0.5133\n",
      "Epoch 9/40\n",
      "300/300 [==============================] - 0s 276us/step - loss: 0.8604 - acc: 0.5933 - val_loss: 0.9311 - val_acc: 0.5467\n",
      "Epoch 10/40\n",
      "300/300 [==============================] - 0s 279us/step - loss: 0.8304 - acc: 0.6167 - val_loss: 0.9454 - val_acc: 0.5333\n",
      "Epoch 11/40\n",
      "300/300 [==============================] - 0s 272us/step - loss: 0.8053 - acc: 0.6400 - val_loss: 0.8480 - val_acc: 0.5533\n",
      "Epoch 12/40\n",
      "300/300 [==============================] - 0s 267us/step - loss: 0.7754 - acc: 0.6600 - val_loss: 1.0421 - val_acc: 0.5967\n",
      "Epoch 13/40\n",
      "300/300 [==============================] - 0s 261us/step - loss: 0.8413 - acc: 0.6567 - val_loss: 0.9057 - val_acc: 0.5933\n",
      "Epoch 14/40\n",
      "300/300 [==============================] - 0s 275us/step - loss: 0.7111 - acc: 0.7133 - val_loss: 0.8937 - val_acc: 0.6033\n",
      "Epoch 15/40\n",
      "300/300 [==============================] - 0s 283us/step - loss: 0.7543 - acc: 0.6467 - val_loss: 0.8777 - val_acc: 0.5567\n",
      "Epoch 16/40\n",
      "300/300 [==============================] - 0s 279us/step - loss: 0.7236 - acc: 0.6767 - val_loss: 0.8240 - val_acc: 0.5833\n",
      "Epoch 17/40\n",
      "300/300 [==============================] - 0s 269us/step - loss: 0.7148 - acc: 0.7067 - val_loss: 1.0723 - val_acc: 0.4467\n",
      "Epoch 18/40\n",
      "300/300 [==============================] - 0s 258us/step - loss: 0.7461 - acc: 0.6567 - val_loss: 0.8437 - val_acc: 0.6000\n",
      "Epoch 19/40\n",
      "300/300 [==============================] - 0s 247us/step - loss: 0.7648 - acc: 0.6400 - val_loss: 0.9089 - val_acc: 0.6033\n",
      "Epoch 20/40\n",
      "300/300 [==============================] - 0s 249us/step - loss: 0.7736 - acc: 0.6700 - val_loss: 0.9871 - val_acc: 0.5867\n",
      "Epoch 21/40\n",
      "300/300 [==============================] - 0s 253us/step - loss: 0.6902 - acc: 0.6867 - val_loss: 0.8733 - val_acc: 0.5767\n",
      "Epoch 22/40\n",
      "300/300 [==============================] - 0s 248us/step - loss: 0.6867 - acc: 0.6967 - val_loss: 0.8156 - val_acc: 0.5233\n",
      "Epoch 23/40\n",
      "300/300 [==============================] - 0s 246us/step - loss: 0.6459 - acc: 0.7400 - val_loss: 1.0819 - val_acc: 0.5933\n",
      "Epoch 24/40\n",
      "300/300 [==============================] - 0s 253us/step - loss: 0.7655 - acc: 0.6800 - val_loss: 0.8418 - val_acc: 0.6033\n",
      "Epoch 25/40\n",
      "300/300 [==============================] - 0s 242us/step - loss: 0.7804 - acc: 0.6433 - val_loss: 0.9978 - val_acc: 0.5567\n",
      "Epoch 26/40\n",
      "300/300 [==============================] - 0s 238us/step - loss: 0.8355 - acc: 0.6400 - val_loss: 1.2413 - val_acc: 0.5733\n",
      "Epoch 27/40\n",
      "300/300 [==============================] - 0s 270us/step - loss: 0.8460 - acc: 0.6333 - val_loss: 1.1192 - val_acc: 0.5367\n",
      "Epoch 28/40\n",
      "300/300 [==============================] - 0s 269us/step - loss: 0.9262 - acc: 0.6000 - val_loss: 0.8336 - val_acc: 0.5700\n",
      "Epoch 29/40\n",
      "300/300 [==============================] - 0s 273us/step - loss: 0.6848 - acc: 0.7000 - val_loss: 0.9249 - val_acc: 0.5933\n",
      "Epoch 30/40\n",
      "300/300 [==============================] - 0s 271us/step - loss: 0.6707 - acc: 0.7033 - val_loss: 0.8486 - val_acc: 0.5733\n",
      "Epoch 31/40\n",
      "300/300 [==============================] - 0s 269us/step - loss: 0.6547 - acc: 0.7267 - val_loss: 0.8556 - val_acc: 0.6200\n",
      "Epoch 32/40\n",
      "300/300 [==============================] - 0s 274us/step - loss: 0.7033 - acc: 0.7167 - val_loss: 0.8299 - val_acc: 0.6067\n",
      "Epoch 33/40\n",
      "300/300 [==============================] - 0s 271us/step - loss: 0.6976 - acc: 0.7067 - val_loss: 1.0446 - val_acc: 0.5633\n",
      "Epoch 34/40\n",
      "300/300 [==============================] - 0s 265us/step - loss: 0.6646 - acc: 0.7000 - val_loss: 0.8779 - val_acc: 0.6000\n",
      "Epoch 35/40\n",
      "300/300 [==============================] - 0s 261us/step - loss: 0.7702 - acc: 0.6467 - val_loss: 0.9783 - val_acc: 0.5000\n",
      "Epoch 36/40\n",
      "300/300 [==============================] - 0s 247us/step - loss: 0.7973 - acc: 0.6367 - val_loss: 1.2690 - val_acc: 0.5800\n",
      "Epoch 37/40\n",
      "300/300 [==============================] - 0s 240us/step - loss: 0.8544 - acc: 0.6033 - val_loss: 1.4453 - val_acc: 0.5300\n",
      "Epoch 38/40\n",
      "300/300 [==============================] - 0s 270us/step - loss: 0.6804 - acc: 0.7267 - val_loss: 0.9005 - val_acc: 0.4933\n",
      "Epoch 39/40\n",
      "300/300 [==============================] - 0s 264us/step - loss: 0.6440 - acc: 0.6933 - val_loss: 0.9746 - val_acc: 0.5533\n",
      "Epoch 40/40\n",
      "300/300 [==============================] - 0s 253us/step - loss: 0.6811 - acc: 0.7133 - val_loss: 0.8774 - val_acc: 0.5967\n"
     ]
    },
    {
     "data": {
      "text/plain": [
       "<keras.callbacks.History at 0x7fcf982f63c8>"
      ]
     },
     "execution_count": 44,
     "metadata": {},
     "output_type": "execute_result"
    }
   ],
   "source": [
    "from keras.models import Sequential \n",
    "from keras import utils\n",
    "model2 = Sequential()\n",
    "\n",
    "from keras.layers import Dense, Activation, Flatten\n",
    "\n",
    "history3 = History()\n",
    "\n",
    "\n",
    "model2.add(Dense(3, input_shape=(X_train.shape[1],), activation='softmax'))\n",
    "#model.add(Flatten())\n",
    "#model.add(Dense(3, activation='softmax'))\n",
    "\n",
    "from keras.optimizers import SGD, adam\n",
    "sgd = SGD(lr=0.01,decay=1e-6, momentum=0.9, nesterov=True) \n",
    "adam = adam(lr=0.001, beta_1=0.9, beta_2=0.999, epsilon=None, decay=0.0, amsgrad=False)\n",
    "model2.compile(loss='categorical_crossentropy', optimizer=adam,  metrics=['accuracy'])\n",
    "\n",
    "\n",
    "model2.fit(X_train, Y_train, epochs=40, batch_size=32, validation_data = (X_test, Y_test), callbacks=[history3])"
   ]
  },
  {
   "cell_type": "code",
   "execution_count": 30,
   "metadata": {},
   "outputs": [
    {
     "name": "stdout",
     "output_type": "stream",
     "text": [
      "Creating data:\n",
      "0\n",
      "10\n",
      "20\n",
      "30\n",
      "40\n",
      "50\n",
      "60\n",
      "70\n",
      "80\n",
      "90\n",
      "100\n",
      "110\n",
      "120\n",
      "130\n",
      "140\n",
      "150\n",
      "160\n",
      "170\n",
      "180\n",
      "190\n",
      "200\n",
      "210\n",
      "220\n",
      "230\n",
      "240\n",
      "250\n",
      "260\n",
      "270\n",
      "280\n",
      "290\n"
     ]
    }
   ],
   "source": [
    "[X_test, Y_test] = generate_test_set_classification()"
   ]
  },
  {
   "cell_type": "code",
   "execution_count": 31,
   "metadata": {},
   "outputs": [
    {
     "name": "stdout",
     "output_type": "stream",
     "text": [
      "300/300 [==============================] - 0s 216us/step\n"
     ]
    },
    {
     "data": {
      "text/plain": [
       "[0.7805130855242411, 0.5999999992052714]"
      ]
     },
     "execution_count": 31,
     "metadata": {},
     "output_type": "execute_result"
    }
   ],
   "source": [
    "evaluation = model2.evaluate(X_test, Y_test)\n",
    "evaluation"
   ]
  },
  {
   "cell_type": "code",
   "execution_count": 53,
   "metadata": {},
   "outputs": [
    {
     "data": {
      "image/png": "[encoded data removed]",
      "text/plain": [
       "<matplotlib.figure.Figure at 0x7fd11b1fa5c0>"
      ]
     },
     "metadata": {},
     "output_type": "display_data"
    }
   ],
   "source": [
    "plt.figure(); plt.suptitle('Linear Classifier');\n",
    "plt.subplot(1, 2, 1)\n",
    "plt.plot(history3.history['loss'])\n",
    "plt.plot(history3.history['val_loss'])\n",
    "\n",
    "plt.title('Loss')\n",
    "\n",
    "\n",
    "plt.subplot(1, 2, 2)\n",
    "plt.plot(history3.history['acc'])\n",
    "plt.plot(history3.history['val_acc'])\n",
    "plt.legend(['training','evaluation'])\n",
    "\n",
    "\n",
    "plt.title('Training accuracy')\n",
    "plt.savefig('figures/part3_linear')\n",
    "plt.show()"
   ]
  },
  {
   "cell_type": "code",
   "execution_count": 49,
   "metadata": {},
   "outputs": [
    {
     "data": {
      "text/plain": [
       "dict_keys(['val_loss', 'val_acc', 'loss', 'acc'])"
      ]
     },
     "execution_count": 49,
     "metadata": {},
     "output_type": "execute_result"
    }
   ],
   "source": [
    "history3.history.keys()"
   ]
  },
  {
   "cell_type": "markdown",
   "metadata": {},
   "source": [
    "## CNN"
   ]
  },
  {
   "cell_type": "code",
   "execution_count": 38,
   "metadata": {},
   "outputs": [],
   "source": [
    "X_train.shape\n",
    "X_train.reshape(X_train.shape[0],72,72,1)"
   ]
  },
  {
   "cell_type": "code",
   "execution_count": 56,
   "metadata": {},
   "outputs": [
    {
     "name": "stdout",
     "output_type": "stream",
     "text": [
      "Train on 300 samples, validate on 300 samples\n",
      "Epoch 1/25\n",
      "300/300 [==============================] - 0s 2ms/step - loss: 2.2656 - acc: 0.3167 - val_loss: 1.3258 - val_acc: 0.3300\n",
      "Epoch 2/25\n",
      "300/300 [==============================] - 0s 496us/step - loss: 1.2659 - acc: 0.3833 - val_loss: 1.1966 - val_acc: 0.3333\n",
      "Epoch 3/25\n",
      "300/300 [==============================] - 0s 496us/step - loss: 1.0563 - acc: 0.3933 - val_loss: 1.0578 - val_acc: 0.4833\n",
      "Epoch 4/25\n",
      "300/300 [==============================] - 0s 497us/step - loss: 0.9624 - acc: 0.6467 - val_loss: 0.9650 - val_acc: 0.5200\n",
      "Epoch 5/25\n",
      "300/300 [==============================] - 0s 501us/step - loss: 0.8907 - acc: 0.6167 - val_loss: 0.9187 - val_acc: 0.6100\n",
      "Epoch 6/25\n",
      "300/300 [==============================] - 0s 493us/step - loss: 0.8412 - acc: 0.7433 - val_loss: 0.8818 - val_acc: 0.6633\n",
      "Epoch 7/25\n",
      "300/300 [==============================] - 0s 488us/step - loss: 0.8057 - acc: 0.7200 - val_loss: 0.8459 - val_acc: 0.6467\n",
      "Epoch 8/25\n",
      "300/300 [==============================] - 0s 476us/step - loss: 0.7573 - acc: 0.7800 - val_loss: 0.8363 - val_acc: 0.6400\n",
      "Epoch 9/25\n",
      "300/300 [==============================] - 0s 486us/step - loss: 0.7050 - acc: 0.8000 - val_loss: 0.7988 - val_acc: 0.6667\n",
      "Epoch 10/25\n",
      "300/300 [==============================] - 0s 493us/step - loss: 0.6652 - acc: 0.8433 - val_loss: 0.7782 - val_acc: 0.6833\n",
      "Epoch 11/25\n",
      "300/300 [==============================] - 0s 489us/step - loss: 0.6201 - acc: 0.8400 - val_loss: 0.7440 - val_acc: 0.7233\n",
      "Epoch 12/25\n",
      "300/300 [==============================] - 0s 473us/step - loss: 0.5905 - acc: 0.8367 - val_loss: 0.7398 - val_acc: 0.6533\n",
      "Epoch 13/25\n",
      "300/300 [==============================] - 0s 492us/step - loss: 0.5889 - acc: 0.7800 - val_loss: 0.7150 - val_acc: 0.7333\n",
      "Epoch 14/25\n",
      "300/300 [==============================] - 0s 482us/step - loss: 0.5281 - acc: 0.8700 - val_loss: 0.7996 - val_acc: 0.6167\n",
      "Epoch 15/25\n",
      "300/300 [==============================] - 0s 454us/step - loss: 0.5321 - acc: 0.8033 - val_loss: 0.7038 - val_acc: 0.7300\n",
      "Epoch 16/25\n",
      "300/300 [==============================] - 0s 471us/step - loss: 0.4853 - acc: 0.8833 - val_loss: 0.6913 - val_acc: 0.7200\n",
      "Epoch 17/25\n",
      "300/300 [==============================] - 0s 483us/step - loss: 0.4888 - acc: 0.8200 - val_loss: 0.7173 - val_acc: 0.7200\n",
      "Epoch 18/25\n",
      "300/300 [==============================] - 0s 487us/step - loss: 0.4562 - acc: 0.8867 - val_loss: 0.7729 - val_acc: 0.6300\n",
      "Epoch 19/25\n",
      "300/300 [==============================] - 0s 475us/step - loss: 0.4255 - acc: 0.8833 - val_loss: 0.6819 - val_acc: 0.7267\n",
      "Epoch 20/25\n",
      "300/300 [==============================] - 0s 486us/step - loss: 0.4241 - acc: 0.8567 - val_loss: 0.7296 - val_acc: 0.6500\n",
      "Epoch 21/25\n",
      "300/300 [==============================] - 0s 495us/step - loss: 0.4484 - acc: 0.8233 - val_loss: 0.7449 - val_acc: 0.6700\n",
      "Epoch 22/25\n",
      "300/300 [==============================] - 0s 491us/step - loss: 0.3911 - acc: 0.9100 - val_loss: 0.6846 - val_acc: 0.7333\n",
      "Epoch 23/25\n",
      "300/300 [==============================] - 0s 491us/step - loss: 0.3697 - acc: 0.9000 - val_loss: 0.7040 - val_acc: 0.6933\n",
      "Epoch 24/25\n",
      "300/300 [==============================] - 0s 489us/step - loss: 0.3554 - acc: 0.9133 - val_loss: 0.6805 - val_acc: 0.7267\n",
      "Epoch 25/25\n",
      "300/300 [==============================] - 0s 483us/step - loss: 0.3320 - acc: 0.9333 - val_loss: 0.6781 - val_acc: 0.7100\n"
     ]
    },
    {
     "data": {
      "text/plain": [
       "<keras.callbacks.History at 0x7fd1142edc18>"
      ]
     },
     "execution_count": 56,
     "metadata": {},
     "output_type": "execute_result"
    }
   ],
   "source": [
    "from keras.models import Sequential \n",
    "from keras import utils\n",
    "model3 = Sequential()\n",
    "\n",
    "from keras.layers import Dense, Activation, Flatten, Conv2D, MaxPooling2D\n",
    "from keras.callbacks import History \n",
    "history = History()\n",
    "\n",
    "model3.add(Conv2D(16, (5,5), input_shape=(72,72,1)   )    )\n",
    "model3.add( MaxPooling2D() )\n",
    "model3.add(Flatten())\n",
    "model3.add(Dense(3, input_shape=(X_train.shape[1],), activation='softmax'))\n",
    "\n",
    "\n",
    "from keras.optimizers import SGD, adam\n",
    "sgd = SGD(lr=0.01,decay=1e-6, momentum=0.9, nesterov=True) \n",
    "adam = adam(lr=0.001, beta_1=0.9, beta_2=0.999, epsilon=None, decay=0.0, amsgrad=False)\n",
    "model3.compile(loss='categorical_crossentropy', optimizer=adam,  metrics=['accuracy'])\n",
    "\n",
    "\n",
    "model3.fit(X_train.reshape(X_train.shape[0],72,72,1), Y_train, epochs=25, batch_size=32,  callbacks=[history], validation_data = (X_test.reshape(X_test.shape[0],72,72,1), Y_test),)"
   ]
  },
  {
   "cell_type": "code",
   "execution_count": 40,
   "metadata": {},
   "outputs": [
    {
     "name": "stdout",
     "output_type": "stream",
     "text": [
      "Creating data:\n",
      "0\n",
      "10\n",
      "20\n",
      "30\n",
      "40\n",
      "50\n",
      "60\n",
      "70\n",
      "80\n",
      "90\n",
      "100\n",
      "110\n",
      "120\n",
      "130\n",
      "140\n",
      "150\n",
      "160\n",
      "170\n",
      "180\n",
      "190\n",
      "200\n",
      "210\n",
      "220\n",
      "230\n",
      "240\n",
      "250\n",
      "260\n",
      "270\n",
      "280\n",
      "290\n",
      "300/300 [==============================] - 0s 275us/step\n"
     ]
    },
    {
     "data": {
      "text/plain": [
       "[0.7252303568522135, 0.6833333333333333]"
      ]
     },
     "execution_count": 40,
     "metadata": {},
     "output_type": "execute_result"
    }
   ],
   "source": [
    "[X_test, Y_test] = generate_test_set_classification()\n",
    "X_test = X_test.reshape(X_test.shape[0],72,72,1)\n",
    "evaluation = model3.evaluate(X_test, Y_test)\n",
    "evaluation"
   ]
  },
  {
   "cell_type": "code",
   "execution_count": 57,
   "metadata": {},
   "outputs": [
    {
     "data": {
      "image/png": "[encoded data removed]",
      "text/plain": [
       "<matplotlib.figure.Figure at 0x7fd11c0d6c88>"
      ]
     },
     "metadata": {},
     "output_type": "display_data"
    }
   ],
   "source": [
    "plt.figure(); plt.suptitle('Suggested CNN');\n",
    "plt.subplot(1, 2, 1)\n",
    "plt.plot(history.history['loss'])\n",
    "plt.plot(history.history['val_loss'])\n",
    "\n",
    "plt.title('Loss')\n",
    "\n",
    "\n",
    "plt.subplot(1, 2, 2)\n",
    "plt.plot(history.history['acc'])\n",
    "plt.plot(history.history['val_acc'])\n",
    "plt.legend(['training','evaluation'])\n",
    "\n",
    "\n",
    "plt.title('Training accuracy')\n",
    "plt.savefig('figures/part3_cnn')\n",
    "plt.show()"
   ]
  },
  {
   "cell_type": "markdown",
   "metadata": {},
   "source": [
    "## Big Fat CNN"
   ]
  },
  {
   "cell_type": "code",
   "execution_count": null,
   "metadata": {},
   "outputs": [],
   "source": [
    "fat = Sequential()\n",
    "\n",
    "from keras.layers import Dense, Activation, Flatten, Conv2D, MaxPooling2D\n",
    "from keras.callbacks import History \n",
    "history2 = History()\n",
    "\n",
    "fat.add(Conv2D(48, (12,12), input_shape=(X_train.shape[1],X_train.shape[2],X_train.shape[3]) , activation='relu' )    )\n",
    "fat.add(Conv2D(96, (5,5), activation='relu'  )    )\n",
    "fat.add( MaxPooling2D() ) \n",
    "\n",
    "fat.add(Flatten())\n",
    "fat.add(Dense(96, activation='relu'))\n",
    "\n",
    "fat.add(Dense(3,  activation='softmax'))\n",
    "\n",
    "\n",
    "from keras.optimizers import SGD, adam\n",
    "sgd = SGD(lr=0.01,decay=1e-6, momentum=0.9, nesterov=True) \n",
    "adam = adam(lr=0.001, beta_1=0.9, beta_2=0.999, epsilon=None, decay=0.0, amsgrad=False)\n",
    "fat.compile(loss='categorical_crossentropy', optimizer=adam,  metrics=['accuracy'])\n",
    "\n",
    "\n",
    "fat.fit(X_train2, Y_train2, epochs=25, batch_size=32,  callbacks=[history2])\n"
   ]
  },
  {
   "cell_type": "code",
   "execution_count": null,
   "metadata": {
    "scrolled": true
   },
   "outputs": [],
   "source": [
    "fat.evaluate(X_test, Y_test)"
   ]
  },
  {
   "cell_type": "code",
   "execution_count": null,
   "metadata": {},
   "outputs": [],
   "source": [
    "plt.figure(); plt.suptitle('Deeper CNN');\n",
    "plt.subplot(1, 2, 1)\n",
    "plt.plot(history2.history['loss'])\n",
    "plt.title('Loss')\n",
    "\n",
    "\n",
    "plt.subplot(1, 2, 2)\n",
    "plt.plot(history2.history['acc'])\n",
    "plt.title('Training accuracy')\n",
    "plt.savefig('figures/part3_deeper_cnn')\n",
    "plt.show()"
   ]
  },
  {
   "cell_type": "markdown",
   "metadata": {},
   "source": [
    "# Partie 4 - Regression"
   ]
  },
  {
   "cell_type": "code",
   "execution_count": null,
   "metadata": {},
   "outputs": [],
   "source": [
    "[X_train, Y_train] = generate_dataset_regression(300, 20)\n"
   ]
  },
  {
   "cell_type": "code",
   "execution_count": null,
   "metadata": {},
   "outputs": [],
   "source": [
    "visualize_prediction(X_train[1], Y_train[1])"
   ]
  },
  {
   "cell_type": "code",
   "execution_count": null,
   "metadata": {},
   "outputs": [],
   "source": [
    "X_train = X_train.reshape(X_train.shape[0],72,72,1)\n",
    "X_train.shape"
   ]
  },
  {
   "cell_type": "code",
   "execution_count": null,
   "metadata": {},
   "outputs": [],
   "source": [
    "X_train.shape[1]\n"
   ]
  },
  {
   "cell_type": "code",
   "execution_count": null,
   "metadata": {},
   "outputs": [],
   "source": [
    "from keras.models import Sequential \n",
    "from keras import utils\n",
    "model4 = Sequential()\n",
    "\n",
    "from keras.layers import Dense, Activation, Flatten, Dropout\n",
    "\n",
    "model4.add(Conv2D(32, (10,10), input_shape=(X_train.shape[1],X_train.shape[2],X_train.shape[3])   )    )\n",
    "model4.add(Dropout(0.4))\n",
    "model4.add( MaxPooling2D() )\n",
    "model4.add(Flatten())\n",
    "\n",
    "model4.add(Dense(128, activation = 'linear'))\n",
    "model4.add(Dropout(0.4))\n",
    "model4.add(Dense(6, activation = 'linear'))\n",
    "\n",
    "\n",
    "from keras.optimizers import SGD, adam\n",
    "sgd = SGD(lr=0.01,decay=1e-6, momentum=0.9, nesterov=True) \n",
    "adam = adam(lr=0.001, beta_1=0.9, beta_2=0.999, epsilon=None, decay=0.0, amsgrad=False)\n",
    "model4.compile(loss='mean_squared_error', optimizer='rmsprop')\n",
    "\n",
    "\n",
    "model4.fit(X_train, Y_train, epochs=400, batch_size=2)"
   ]
  },
  {
   "cell_type": "code",
   "execution_count": null,
   "metadata": {},
   "outputs": [],
   "source": [
    "model4.summary()"
   ]
  },
  {
   "cell_type": "code",
   "execution_count": null,
   "metadata": {},
   "outputs": [],
   "source": [
    "Y_n"
   ]
  },
  {
   "cell_type": "code",
   "execution_count": null,
   "metadata": {
    "scrolled": true
   },
   "outputs": [],
   "source": [
    "[X_test, Y_test] = generate_test_set_regression()\n",
    "X_test = X_test.reshape(X_test.shape[0],72,72,1)"
   ]
  },
  {
   "cell_type": "code",
   "execution_count": null,
   "metadata": {},
   "outputs": [],
   "source": [
    "Y_test = model4.predict(X_test)\n",
    "Y_test2 = model4.predict(X_train)"
   ]
  },
  {
   "cell_type": "code",
   "execution_count": null,
   "metadata": {},
   "outputs": [],
   "source": [
    "i=2\n",
    "visualize_prediction(X_train[i], (Y_test2[i]))"
   ]
  },
  {
   "cell_type": "code",
   "execution_count": null,
   "metadata": {},
   "outputs": [],
   "source": [
    "Y_test[0]"
   ]
  },
  {
   "cell_type": "code",
   "execution_count": null,
   "metadata": {},
   "outputs": [],
   "source": [
    "Y_train.shape"
   ]
  },
  {
   "cell_type": "code",
   "execution_count": null,
   "metadata": {},
   "outputs": [],
   "source": [
    "Y_test[0]"
   ]
  },
  {
   "cell_type": "code",
   "execution_count": null,
   "metadata": {},
   "outputs": [],
   "source": [
    "Y_train[0]"
   ]
  },
  {
   "cell_type": "code",
   "execution_count": null,
   "metadata": {},
   "outputs": [],
   "source": [
    "np_utils.to_categorical(Y_train[3], 3) "
   ]
  },
  {
   "cell_type": "code",
   "execution_count": null,
   "metadata": {},
   "outputs": [],
   "source": []
  }
 ],
 "metadata": {
  "kernelspec": {
   "display_name": "Python 3",
   "language": "python",
   "name": "python3"
  },
  "language_info": {
   "codemirror_mode": {
    "name": "ipython",
    "version": 3
   },
   "file_extension": ".py",
   "mimetype": "text/x-python",
   "name": "python",
   "nbconvert_exporter": "python",
   "pygments_lexer": "ipython3",
   "version": "3.6.4"
  }
 },
 "nbformat": 4,
 "nbformat_minor": 2
}
