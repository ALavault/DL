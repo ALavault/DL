{
 "cells": [
  {
   "cell_type": "code",
   "execution_count": 48,
   "metadata": {},
   "outputs": [
    {
     "data": {
      "image/png": "[encoded data removed]",
      "text/plain": [
       "<matplotlib.figure.Figure at 0x7fe9b83de400>"
      ]
     },
     "metadata": {},
     "output_type": "display_data"
    }
   ],
   "source": [
    "import matplotlib.pyplot as plt\n",
    "%matplotlib inline\n",
    "import numpy as np\n",
    "from keras.utils import np_utils\n",
    "\n",
    "def generate_a_drawing(figsize, U, V, noise=0.0):\n",
    "    fig = plt.figure(figsize=(figsize,figsize))\n",
    "    ax = plt.subplot(111)\n",
    "    plt.axis('Off')\n",
    "    ax.set_xlim(0,figsize)\n",
    "    ax.set_ylim(0,figsize)\n",
    "    ax.fill(U, V, \"k\")\n",
    "    fig.canvas.draw()\n",
    "    imdata = np.frombuffer(fig.canvas.tostring_rgb(), dtype=np.uint8)[::3].astype(np.float32)\n",
    "    imdata = imdata + noise * np.random.random(imdata.size)\n",
    "    plt.close(fig)\n",
    "    return imdata\n",
    "\n",
    "def generate_a_rectangle(noise=0.0, free_location=False):\n",
    "    figsize = 1.0    \n",
    "    U = np.zeros(4)\n",
    "    V = np.zeros(4)\n",
    "    if free_location:\n",
    "        corners = np.random.random(4)\n",
    "        top = max(corners[0], corners[1])\n",
    "        bottom = min(corners[0], corners[1])\n",
    "        left = min(corners[2], corners[3])\n",
    "        right = max(corners[2], corners[3])\n",
    "    else:\n",
    "        side = (0.3 + 0.7 * np.random.random()) * figsize\n",
    "        top = figsize/2 + side/2\n",
    "        bottom = figsize/2 - side/2\n",
    "        left = bottom\n",
    "        right = top\n",
    "    U[0] = U[1] = top\n",
    "    U[2] = U[3] = bottom\n",
    "    V[0] = V[3] = left\n",
    "    V[1] = V[2] = right\n",
    "    return generate_a_drawing(figsize, U, V, noise)\n",
    "\n",
    "\n",
    "def generate_a_disk(noise=0.0, free_location=False):\n",
    "    figsize = 1.0\n",
    "    if free_location:\n",
    "        center = np.random.random(2)\n",
    "    else:\n",
    "        center = (figsize/2, figsize/2)\n",
    "    radius = (0.3 + 0.7 * np.random.random()) * figsize/2\n",
    "    N = 50\n",
    "    U = np.zeros(N)\n",
    "    V = np.zeros(N)\n",
    "    i = 0\n",
    "    for t in np.linspace(0, 2*np.pi, N):\n",
    "        U[i] = center[0] + np.cos(t) * radius\n",
    "        V[i] = center[1] + np.sin(t) * radius\n",
    "        i = i + 1\n",
    "    return generate_a_drawing(figsize, U, V, noise)\n",
    "\n",
    "def generate_a_triangle(noise=0.0, free_location=False):\n",
    "    figsize = 1.0\n",
    "    if free_location:\n",
    "        U = np.random.random(3)\n",
    "        V = np.random.random(3)\n",
    "    else:\n",
    "        size = (0.3 + 0.7 * np.random.random())*figsize/2\n",
    "        middle = figsize/2\n",
    "        U = (middle, middle+size, middle-size)\n",
    "        V = (middle+size, middle-size, middle-size)\n",
    "    imdata = generate_a_drawing(figsize, U, V, noise)\n",
    "    return [imdata, [U[0], V[0], U[1], V[1], U[2], V[2]]]\n",
    "\n",
    "\n",
    "im = generate_a_rectangle(10, True)\n",
    "plt.imshow(im.reshape(72,72), cmap='gray')\n",
    "\n",
    "im = generate_a_disk(10)\n",
    "plt.imshow(im.reshape(72,72), cmap='gray')\n",
    "\n",
    "[im, v] = generate_a_triangle(20, False)\n",
    "plt.imshow(im.reshape(72,72), cmap='gray')\n",
    "\n",
    "\n",
    "def generate_dataset_classification(nb_samples, noise=0.0, free_location=False):\n",
    "    # Getting im_size:\n",
    "    im_size = generate_a_rectangle().shape[0]\n",
    "    X = np.zeros([nb_samples,im_size])\n",
    "    Y = np.zeros(nb_samples)\n",
    "    print('Creating data:')\n",
    "    for i in range(nb_samples):\n",
    "        if i % 10 == 0:\n",
    "            print(i)\n",
    "        category = np.random.randint(3)\n",
    "        if category == 0:\n",
    "            X[i] = generate_a_rectangle(noise, free_location)\n",
    "        elif category == 1: \n",
    "            X[i] = generate_a_disk(noise, free_location)\n",
    "        else:\n",
    "            [X[i], V] = generate_a_triangle(noise, free_location)\n",
    "        Y[i] = category\n",
    "    X = (X + noise) / (255 + 2 * noise)\n",
    "    return [X, Y]\n",
    "\n",
    "def generate_test_set_classification():\n",
    "    np.random.seed(42)\n",
    "    [X_test, Y_test] = generate_dataset_classification(300, 20, True)\n",
    "    Y_test = np_utils.to_categorical(Y_test, 3) \n",
    "    return [X_test, Y_test]\n",
    "\n",
    "def generate_dataset_regression(nb_samples, noise=0.0):\n",
    "    # Getting im_size:\n",
    "    im_size = generate_a_triangle()[0].shape[0]\n",
    "    X = np.zeros([nb_samples,im_size])\n",
    "    Y = np.zeros([nb_samples, 6])\n",
    "    print('Creating data:')\n",
    "    for i in range(nb_samples):\n",
    "        if i % 10 == 0:\n",
    "            print(i)\n",
    "        [X[i], Y[i]] = generate_a_triangle(noise, True)\n",
    "    X = (X + noise) / (255 + 2 * noise)\n",
    "    return [X, Y]\n",
    "\n",
    "import matplotlib.patches as patches\n",
    "\n",
    "def visualize_prediction(x, y):\n",
    "    fig, ax = plt.subplots(figsize=(5, 5))\n",
    "    I = x.reshape((72,72))\n",
    "    ax.imshow(I, extent=[-0.15,1.15,-0.15,1.15],cmap='gray')\n",
    "    ax.set_xlim([0,1])\n",
    "    ax.set_ylim([0,1])\n",
    "\n",
    "    xy = y.reshape(3,2)\n",
    "    tri = patches.Polygon(xy, closed=True, fill = False, edgecolor = 'r', linewidth = 5, alpha = 0.5)\n",
    "    ax.add_patch(tri)\n",
    "\n",
    "    plt.show()\n",
    "\n",
    "def generate_test_set_regression():\n",
    "    np.random.seed(42)\n",
    "    [X_test, Y_test] = generate_dataset_regression(300, 20)\n",
    "    Y_test = np_utils.to_categorical(Y_test, 3) \n",
    "    return [X_test, Y_test]\n",
    "\n"
   ]
  },
  {
   "cell_type": "markdown",
   "metadata": {},
   "source": [
    "# Partie 1 - Simple classification"
   ]
  },
  {
   "cell_type": "code",
   "execution_count": 2,
   "metadata": {},
   "outputs": [
    {
     "name": "stdout",
     "output_type": "stream",
     "text": [
      "Creating data:\n",
      "0\n",
      "10\n",
      "20\n",
      "30\n",
      "40\n",
      "50\n",
      "60\n",
      "70\n",
      "80\n",
      "90\n",
      "100\n",
      "110\n",
      "120\n",
      "130\n",
      "140\n",
      "150\n",
      "160\n",
      "170\n",
      "180\n",
      "190\n",
      "200\n",
      "210\n",
      "220\n",
      "230\n",
      "240\n",
      "250\n",
      "260\n",
      "270\n",
      "280\n",
      "290\n"
     ]
    }
   ],
   "source": [
    "[X_train, Y_train] = generate_dataset_classification(300, 20)"
   ]
  },
  {
   "cell_type": "code",
   "execution_count": 3,
   "metadata": {},
   "outputs": [
    {
     "data": {
      "text/plain": [
       "array([0.975718  , 0.96042806, 0.97728088, ..., 0.99578229, 0.97647269,\n",
       "       0.94842842])"
      ]
     },
     "execution_count": 3,
     "metadata": {},
     "output_type": "execute_result"
    }
   ],
   "source": [
    "X_train[0]"
   ]
  },
  {
   "cell_type": "code",
   "execution_count": 4,
   "metadata": {},
   "outputs": [
    {
     "data": {
      "text/plain": [
       "(array([[0.975718  , 0.96042806, 0.97728088, ..., 0.99578229, 0.97647269,\n",
       "         0.94842842],\n",
       "        [0.96846966, 0.9448611 , 0.93998344, ..., 0.94683657, 0.94838128,\n",
       "         0.96960347],\n",
       "        [0.95327816, 0.96072678, 0.93792906, ..., 0.9921822 , 0.96112416,\n",
       "         0.9967388 ],\n",
       "        ...,\n",
       "        [0.99626285, 0.98174914, 0.98242299, ..., 0.99874151, 0.97594249,\n",
       "         0.99182528],\n",
       "        [0.98664809, 0.93936551, 0.94238969, ..., 0.95990409, 0.96756356,\n",
       "         0.93397371],\n",
       "        [0.97947548, 0.94347326, 0.94803995, ..., 0.9907499 , 0.93686335,\n",
       "         0.97191153]]), array([[1., 0., 0.],\n",
       "        [1., 0., 0.],\n",
       "        [0., 1., 0.],\n",
       "        [1., 0., 0.],\n",
       "        [1., 0., 0.],\n",
       "        [1., 0., 0.],\n",
       "        [0., 1., 0.],\n",
       "        [0., 0., 1.],\n",
       "        [1., 0., 0.],\n",
       "        [0., 0., 1.],\n",
       "        [1., 0., 0.],\n",
       "        [0., 1., 0.],\n",
       "        [0., 0., 1.],\n",
       "        [1., 0., 0.],\n",
       "        [0., 0., 1.],\n",
       "        [0., 1., 0.],\n",
       "        [0., 1., 0.],\n",
       "        [0., 1., 0.],\n",
       "        [0., 1., 0.],\n",
       "        [1., 0., 0.],\n",
       "        [0., 1., 0.],\n",
       "        [1., 0., 0.],\n",
       "        [0., 0., 1.],\n",
       "        [0., 1., 0.],\n",
       "        [0., 0., 1.],\n",
       "        [1., 0., 0.],\n",
       "        [0., 1., 0.],\n",
       "        [0., 0., 1.],\n",
       "        [1., 0., 0.],\n",
       "        [0., 1., 0.],\n",
       "        [0., 0., 1.],\n",
       "        [0., 0., 1.],\n",
       "        [0., 1., 0.],\n",
       "        [0., 1., 0.],\n",
       "        [1., 0., 0.],\n",
       "        [0., 1., 0.],\n",
       "        [0., 1., 0.],\n",
       "        [0., 0., 1.],\n",
       "        [0., 0., 1.],\n",
       "        [0., 1., 0.],\n",
       "        [0., 0., 1.],\n",
       "        [0., 1., 0.],\n",
       "        [1., 0., 0.],\n",
       "        [1., 0., 0.],\n",
       "        [0., 1., 0.],\n",
       "        [0., 0., 1.],\n",
       "        [0., 0., 1.],\n",
       "        [1., 0., 0.],\n",
       "        [0., 1., 0.],\n",
       "        [1., 0., 0.],\n",
       "        [0., 0., 1.],\n",
       "        [1., 0., 0.],\n",
       "        [0., 0., 1.],\n",
       "        [0., 1., 0.],\n",
       "        [0., 1., 0.],\n",
       "        [0., 1., 0.],\n",
       "        [1., 0., 0.],\n",
       "        [1., 0., 0.],\n",
       "        [1., 0., 0.],\n",
       "        [1., 0., 0.],\n",
       "        [0., 1., 0.],\n",
       "        [0., 0., 1.],\n",
       "        [0., 0., 1.],\n",
       "        [1., 0., 0.],\n",
       "        [1., 0., 0.],\n",
       "        [0., 1., 0.],\n",
       "        [0., 0., 1.],\n",
       "        [0., 1., 0.],\n",
       "        [0., 1., 0.],\n",
       "        [0., 1., 0.],\n",
       "        [0., 0., 1.],\n",
       "        [0., 0., 1.],\n",
       "        [0., 0., 1.],\n",
       "        [1., 0., 0.],\n",
       "        [1., 0., 0.],\n",
       "        [0., 0., 1.],\n",
       "        [0., 0., 1.],\n",
       "        [0., 0., 1.],\n",
       "        [0., 0., 1.],\n",
       "        [1., 0., 0.],\n",
       "        [1., 0., 0.],\n",
       "        [1., 0., 0.],\n",
       "        [0., 1., 0.],\n",
       "        [1., 0., 0.],\n",
       "        [1., 0., 0.],\n",
       "        [0., 1., 0.],\n",
       "        [1., 0., 0.],\n",
       "        [0., 0., 1.],\n",
       "        [0., 1., 0.],\n",
       "        [0., 1., 0.],\n",
       "        [0., 0., 1.],\n",
       "        [0., 1., 0.],\n",
       "        [1., 0., 0.],\n",
       "        [0., 0., 1.],\n",
       "        [0., 0., 1.],\n",
       "        [0., 0., 1.],\n",
       "        [1., 0., 0.],\n",
       "        [1., 0., 0.],\n",
       "        [1., 0., 0.],\n",
       "        [1., 0., 0.],\n",
       "        [1., 0., 0.],\n",
       "        [0., 0., 1.],\n",
       "        [0., 1., 0.],\n",
       "        [1., 0., 0.],\n",
       "        [0., 1., 0.],\n",
       "        [1., 0., 0.],\n",
       "        [1., 0., 0.],\n",
       "        [0., 0., 1.],\n",
       "        [0., 1., 0.],\n",
       "        [1., 0., 0.],\n",
       "        [0., 0., 1.],\n",
       "        [0., 0., 1.],\n",
       "        [0., 1., 0.],\n",
       "        [0., 0., 1.],\n",
       "        [0., 0., 1.],\n",
       "        [0., 1., 0.],\n",
       "        [0., 0., 1.],\n",
       "        [1., 0., 0.],\n",
       "        [0., 0., 1.],\n",
       "        [0., 0., 1.],\n",
       "        [0., 1., 0.],\n",
       "        [0., 1., 0.],\n",
       "        [0., 1., 0.],\n",
       "        [0., 0., 1.],\n",
       "        [0., 0., 1.],\n",
       "        [0., 1., 0.],\n",
       "        [0., 1., 0.],\n",
       "        [1., 0., 0.],\n",
       "        [0., 0., 1.],\n",
       "        [0., 1., 0.],\n",
       "        [1., 0., 0.],\n",
       "        [0., 0., 1.],\n",
       "        [1., 0., 0.],\n",
       "        [0., 1., 0.],\n",
       "        [0., 0., 1.],\n",
       "        [1., 0., 0.],\n",
       "        [1., 0., 0.],\n",
       "        [0., 1., 0.],\n",
       "        [0., 1., 0.],\n",
       "        [0., 1., 0.],\n",
       "        [0., 1., 0.],\n",
       "        [0., 0., 1.],\n",
       "        [0., 1., 0.],\n",
       "        [0., 1., 0.],\n",
       "        [1., 0., 0.],\n",
       "        [1., 0., 0.],\n",
       "        [0., 1., 0.],\n",
       "        [0., 0., 1.],\n",
       "        [0., 1., 0.],\n",
       "        [1., 0., 0.],\n",
       "        [1., 0., 0.],\n",
       "        [1., 0., 0.],\n",
       "        [1., 0., 0.],\n",
       "        [0., 1., 0.],\n",
       "        [0., 1., 0.],\n",
       "        [1., 0., 0.],\n",
       "        [0., 0., 1.],\n",
       "        [0., 0., 1.],\n",
       "        [0., 1., 0.],\n",
       "        [0., 1., 0.],\n",
       "        [0., 1., 0.],\n",
       "        [0., 0., 1.],\n",
       "        [0., 0., 1.],\n",
       "        [0., 0., 1.],\n",
       "        [1., 0., 0.],\n",
       "        [0., 1., 0.],\n",
       "        [0., 0., 1.],\n",
       "        [1., 0., 0.],\n",
       "        [0., 1., 0.],\n",
       "        [1., 0., 0.],\n",
       "        [1., 0., 0.],\n",
       "        [0., 1., 0.],\n",
       "        [0., 1., 0.],\n",
       "        [0., 0., 1.],\n",
       "        [0., 1., 0.],\n",
       "        [1., 0., 0.],\n",
       "        [0., 1., 0.],\n",
       "        [0., 1., 0.],\n",
       "        [0., 1., 0.],\n",
       "        [0., 1., 0.],\n",
       "        [0., 0., 1.],\n",
       "        [0., 0., 1.],\n",
       "        [1., 0., 0.],\n",
       "        [1., 0., 0.],\n",
       "        [0., 0., 1.],\n",
       "        [0., 1., 0.],\n",
       "        [0., 0., 1.],\n",
       "        [0., 0., 1.],\n",
       "        [0., 1., 0.],\n",
       "        [1., 0., 0.],\n",
       "        [0., 0., 1.],\n",
       "        [0., 1., 0.],\n",
       "        [0., 0., 1.],\n",
       "        [1., 0., 0.],\n",
       "        [0., 1., 0.],\n",
       "        [0., 0., 1.],\n",
       "        [0., 1., 0.],\n",
       "        [1., 0., 0.],\n",
       "        [0., 0., 1.],\n",
       "        [0., 0., 1.],\n",
       "        [0., 0., 1.],\n",
       "        [0., 1., 0.],\n",
       "        [0., 1., 0.],\n",
       "        [1., 0., 0.],\n",
       "        [0., 1., 0.],\n",
       "        [1., 0., 0.],\n",
       "        [1., 0., 0.],\n",
       "        [1., 0., 0.],\n",
       "        [0., 1., 0.],\n",
       "        [0., 1., 0.],\n",
       "        [1., 0., 0.],\n",
       "        [0., 0., 1.],\n",
       "        [0., 1., 0.],\n",
       "        [0., 0., 1.],\n",
       "        [0., 1., 0.],\n",
       "        [0., 0., 1.],\n",
       "        [0., 1., 0.],\n",
       "        [1., 0., 0.],\n",
       "        [0., 1., 0.],\n",
       "        [1., 0., 0.],\n",
       "        [0., 0., 1.],\n",
       "        [1., 0., 0.],\n",
       "        [1., 0., 0.],\n",
       "        [0., 0., 1.],\n",
       "        [0., 1., 0.],\n",
       "        [1., 0., 0.],\n",
       "        [1., 0., 0.],\n",
       "        [1., 0., 0.],\n",
       "        [0., 0., 1.],\n",
       "        [0., 1., 0.],\n",
       "        [0., 1., 0.],\n",
       "        [1., 0., 0.],\n",
       "        [0., 1., 0.],\n",
       "        [0., 1., 0.],\n",
       "        [0., 0., 1.],\n",
       "        [1., 0., 0.],\n",
       "        [1., 0., 0.],\n",
       "        [0., 1., 0.],\n",
       "        [0., 0., 1.],\n",
       "        [1., 0., 0.],\n",
       "        [1., 0., 0.],\n",
       "        [1., 0., 0.],\n",
       "        [0., 1., 0.],\n",
       "        [0., 1., 0.],\n",
       "        [0., 0., 1.],\n",
       "        [0., 1., 0.],\n",
       "        [1., 0., 0.],\n",
       "        [1., 0., 0.],\n",
       "        [1., 0., 0.],\n",
       "        [1., 0., 0.],\n",
       "        [0., 0., 1.],\n",
       "        [0., 0., 1.],\n",
       "        [0., 0., 1.],\n",
       "        [0., 1., 0.],\n",
       "        [0., 1., 0.],\n",
       "        [0., 0., 1.],\n",
       "        [0., 0., 1.],\n",
       "        [0., 1., 0.],\n",
       "        [1., 0., 0.],\n",
       "        [1., 0., 0.],\n",
       "        [0., 0., 1.],\n",
       "        [1., 0., 0.],\n",
       "        [0., 1., 0.],\n",
       "        [0., 1., 0.],\n",
       "        [0., 0., 1.],\n",
       "        [1., 0., 0.],\n",
       "        [1., 0., 0.],\n",
       "        [0., 1., 0.],\n",
       "        [1., 0., 0.],\n",
       "        [1., 0., 0.],\n",
       "        [0., 0., 1.],\n",
       "        [0., 0., 1.],\n",
       "        [1., 0., 0.],\n",
       "        [0., 0., 1.],\n",
       "        [1., 0., 0.],\n",
       "        [0., 0., 1.],\n",
       "        [0., 0., 1.],\n",
       "        [1., 0., 0.],\n",
       "        [1., 0., 0.],\n",
       "        [0., 0., 1.],\n",
       "        [0., 1., 0.],\n",
       "        [1., 0., 0.],\n",
       "        [1., 0., 0.],\n",
       "        [0., 0., 1.],\n",
       "        [0., 1., 0.],\n",
       "        [0., 1., 0.],\n",
       "        [1., 0., 0.],\n",
       "        [0., 0., 1.],\n",
       "        [1., 0., 0.],\n",
       "        [0., 0., 1.],\n",
       "        [0., 0., 1.],\n",
       "        [1., 0., 0.],\n",
       "        [0., 0., 1.],\n",
       "        [0., 0., 1.],\n",
       "        [0., 1., 0.],\n",
       "        [0., 1., 0.],\n",
       "        [0., 1., 0.],\n",
       "        [0., 0., 1.],\n",
       "        [0., 1., 0.],\n",
       "        [1., 0., 0.]]))"
      ]
     },
     "execution_count": 4,
     "metadata": {},
     "output_type": "execute_result"
    }
   ],
   "source": [
    "Y_train = np_utils.to_categorical(Y_train,3)\n",
    "X_train, Y_train"
   ]
  },
  {
   "cell_type": "code",
   "execution_count": 5,
   "metadata": {},
   "outputs": [
    {
     "data": {
      "text/plain": [
       "(300, 5184)"
      ]
     },
     "execution_count": 5,
     "metadata": {},
     "output_type": "execute_result"
    }
   ],
   "source": [
    "X_train = X_train.reshape(X_train.shape[0], X_train.shape[1])\n",
    "X_train.shape"
   ]
  },
  {
   "cell_type": "code",
   "execution_count": 10,
   "metadata": {
    "scrolled": true
   },
   "outputs": [
    {
     "name": "stdout",
     "output_type": "stream",
     "text": [
      "Epoch 1/100\n",
      "300/300 [==============================] - 0s 841us/step - loss: 1.8306\n",
      "Epoch 2/100\n",
      "300/300 [==============================] - 0s 175us/step - loss: 0.8455\n",
      "Epoch 3/100\n",
      "300/300 [==============================] - 0s 177us/step - loss: 0.4937\n",
      "Epoch 4/100\n",
      "300/300 [==============================] - 0s 180us/step - loss: 0.4173\n",
      "Epoch 5/100\n",
      "300/300 [==============================] - 0s 175us/step - loss: 0.3822\n",
      "Epoch 6/100\n",
      "300/300 [==============================] - 0s 179us/step - loss: 0.2922\n",
      "Epoch 7/100\n",
      "300/300 [==============================] - 0s 174us/step - loss: 0.2459\n",
      "Epoch 8/100\n",
      "300/300 [==============================] - 0s 174us/step - loss: 0.2225\n",
      "Epoch 9/100\n",
      "300/300 [==============================] - 0s 163us/step - loss: 0.1865\n",
      "Epoch 10/100\n",
      "300/300 [==============================] - 0s 178us/step - loss: 0.1762\n",
      "Epoch 11/100\n",
      "300/300 [==============================] - 0s 179us/step - loss: 0.1512\n",
      "Epoch 12/100\n",
      "300/300 [==============================] - 0s 175us/step - loss: 0.1797\n",
      "Epoch 13/100\n",
      "300/300 [==============================] - 0s 180us/step - loss: 0.1305\n",
      "Epoch 14/100\n",
      "300/300 [==============================] - 0s 169us/step - loss: 0.1168\n",
      "Epoch 15/100\n",
      "300/300 [==============================] - 0s 185us/step - loss: 0.1065\n",
      "Epoch 16/100\n",
      "300/300 [==============================] - 0s 171us/step - loss: 0.1002\n",
      "Epoch 17/100\n",
      "300/300 [==============================] - 0s 172us/step - loss: 0.0990\n",
      "Epoch 18/100\n",
      "300/300 [==============================] - 0s 174us/step - loss: 0.0979\n",
      "Epoch 19/100\n",
      "300/300 [==============================] - 0s 173us/step - loss: 0.1134\n",
      "Epoch 20/100\n",
      "300/300 [==============================] - 0s 177us/step - loss: 0.1130\n",
      "Epoch 21/100\n",
      "300/300 [==============================] - 0s 170us/step - loss: 0.1058\n",
      "Epoch 22/100\n",
      "300/300 [==============================] - 0s 169us/step - loss: 0.1389\n",
      "Epoch 23/100\n",
      "300/300 [==============================] - 0s 170us/step - loss: 0.0708\n",
      "Epoch 24/100\n",
      "300/300 [==============================] - 0s 161us/step - loss: 0.0623\n",
      "Epoch 25/100\n",
      "300/300 [==============================] - 0s 163us/step - loss: 0.0529\n",
      "Epoch 26/100\n",
      "300/300 [==============================] - 0s 170us/step - loss: 0.0533\n",
      "Epoch 27/100\n",
      "300/300 [==============================] - 0s 170us/step - loss: 0.0576\n",
      "Epoch 28/100\n",
      "300/300 [==============================] - 0s 157us/step - loss: 0.0489\n",
      "Epoch 29/100\n",
      "300/300 [==============================] - 0s 164us/step - loss: 0.0458\n",
      "Epoch 30/100\n",
      "300/300 [==============================] - 0s 166us/step - loss: 0.0454\n",
      "Epoch 31/100\n",
      "300/300 [==============================] - 0s 151us/step - loss: 0.0430\n",
      "Epoch 32/100\n",
      "300/300 [==============================] - 0s 152us/step - loss: 0.0382\n",
      "Epoch 33/100\n",
      "300/300 [==============================] - 0s 155us/step - loss: 0.0368\n",
      "Epoch 34/100\n",
      "300/300 [==============================] - 0s 151us/step - loss: 0.0355\n",
      "Epoch 35/100\n",
      "300/300 [==============================] - 0s 167us/step - loss: 0.0361\n",
      "Epoch 36/100\n",
      "300/300 [==============================] - 0s 168us/step - loss: 0.0329\n",
      "Epoch 37/100\n",
      "300/300 [==============================] - 0s 153us/step - loss: 0.0309\n",
      "Epoch 38/100\n",
      "300/300 [==============================] - 0s 157us/step - loss: 0.0299\n",
      "Epoch 39/100\n",
      "300/300 [==============================] - 0s 173us/step - loss: 0.0315\n",
      "Epoch 40/100\n",
      "300/300 [==============================] - 0s 172us/step - loss: 0.0343\n",
      "Epoch 41/100\n",
      "300/300 [==============================] - 0s 165us/step - loss: 0.0298\n",
      "Epoch 42/100\n",
      "300/300 [==============================] - 0s 170us/step - loss: 0.0267\n",
      "Epoch 43/100\n",
      "300/300 [==============================] - 0s 174us/step - loss: 0.0257\n",
      "Epoch 44/100\n",
      "300/300 [==============================] - 0s 163us/step - loss: 0.0258\n",
      "Epoch 45/100\n",
      "300/300 [==============================] - 0s 152us/step - loss: 0.0239\n",
      "Epoch 46/100\n",
      "300/300 [==============================] - 0s 154us/step - loss: 0.0237\n",
      "Epoch 47/100\n",
      "300/300 [==============================] - 0s 148us/step - loss: 0.0283\n",
      "Epoch 48/100\n",
      "300/300 [==============================] - 0s 147us/step - loss: 0.0277\n",
      "Epoch 49/100\n",
      "300/300 [==============================] - 0s 151us/step - loss: 0.0270\n",
      "Epoch 50/100\n",
      "300/300 [==============================] - 0s 163us/step - loss: 0.0234\n",
      "Epoch 51/100\n",
      "300/300 [==============================] - 0s 164us/step - loss: 0.0202\n",
      "Epoch 52/100\n",
      "300/300 [==============================] - 0s 157us/step - loss: 0.0209\n",
      "Epoch 53/100\n",
      "300/300 [==============================] - 0s 168us/step - loss: 0.0191\n",
      "Epoch 54/100\n",
      "300/300 [==============================] - 0s 168us/step - loss: 0.0195\n",
      "Epoch 55/100\n",
      "300/300 [==============================] - 0s 163us/step - loss: 0.0190\n",
      "Epoch 56/100\n",
      "300/300 [==============================] - 0s 167us/step - loss: 0.0180\n",
      "Epoch 57/100\n",
      "300/300 [==============================] - 0s 164us/step - loss: 0.0175\n",
      "Epoch 58/100\n",
      "300/300 [==============================] - 0s 171us/step - loss: 0.0163\n",
      "Epoch 59/100\n",
      "300/300 [==============================] - 0s 168us/step - loss: 0.0160\n",
      "Epoch 60/100\n",
      "300/300 [==============================] - 0s 165us/step - loss: 0.0155\n",
      "Epoch 61/100\n",
      "300/300 [==============================] - 0s 166us/step - loss: 0.0156\n",
      "Epoch 62/100\n",
      "300/300 [==============================] - 0s 173us/step - loss: 0.0153\n",
      "Epoch 63/100\n",
      "300/300 [==============================] - 0s 168us/step - loss: 0.0160\n",
      "Epoch 64/100\n",
      "300/300 [==============================] - 0s 172us/step - loss: 0.0156\n",
      "Epoch 65/100\n",
      "300/300 [==============================] - 0s 176us/step - loss: 0.0150\n",
      "Epoch 66/100\n",
      "300/300 [==============================] - 0s 168us/step - loss: 0.0140\n",
      "Epoch 67/100\n",
      "300/300 [==============================] - 0s 162us/step - loss: 0.0134\n",
      "Epoch 68/100\n",
      "300/300 [==============================] - 0s 164us/step - loss: 0.0135\n",
      "Epoch 69/100\n",
      "300/300 [==============================] - 0s 147us/step - loss: 0.0138\n",
      "Epoch 70/100\n",
      "300/300 [==============================] - 0s 166us/step - loss: 0.0127\n",
      "Epoch 71/100\n",
      "300/300 [==============================] - 0s 167us/step - loss: 0.0125\n",
      "Epoch 72/100\n",
      "300/300 [==============================] - 0s 167us/step - loss: 0.0129\n",
      "Epoch 73/100\n",
      "300/300 [==============================] - 0s 182us/step - loss: 0.0114\n",
      "Epoch 74/100\n",
      "300/300 [==============================] - 0s 176us/step - loss: 0.0112\n",
      "Epoch 75/100\n",
      "300/300 [==============================] - 0s 167us/step - loss: 0.0117\n",
      "Epoch 76/100\n",
      "300/300 [==============================] - 0s 165us/step - loss: 0.0121\n",
      "Epoch 77/100\n",
      "300/300 [==============================] - 0s 165us/step - loss: 0.0106\n",
      "Epoch 78/100\n",
      "300/300 [==============================] - 0s 163us/step - loss: 0.0105\n",
      "Epoch 79/100\n",
      "300/300 [==============================] - 0s 163us/step - loss: 0.0120\n",
      "Epoch 80/100\n",
      "300/300 [==============================] - 0s 172us/step - loss: 0.0105\n",
      "Epoch 81/100\n",
      "300/300 [==============================] - 0s 165us/step - loss: 0.0098\n",
      "Epoch 82/100\n",
      "300/300 [==============================] - 0s 169us/step - loss: 0.0094\n",
      "Epoch 83/100\n",
      "300/300 [==============================] - 0s 168us/step - loss: 0.0093\n",
      "Epoch 84/100\n",
      "300/300 [==============================] - 0s 173us/step - loss: 0.0093\n",
      "Epoch 85/100\n",
      "300/300 [==============================] - 0s 172us/step - loss: 0.0090\n",
      "Epoch 86/100\n",
      "300/300 [==============================] - 0s 168us/step - loss: 0.0088\n",
      "Epoch 87/100\n",
      "300/300 [==============================] - 0s 176us/step - loss: 0.0088\n",
      "Epoch 88/100\n",
      "300/300 [==============================] - 0s 170us/step - loss: 0.0086\n",
      "Epoch 89/100\n",
      "300/300 [==============================] - 0s 169us/step - loss: 0.0084\n",
      "Epoch 90/100\n",
      "300/300 [==============================] - 0s 173us/step - loss: 0.0085\n",
      "Epoch 91/100\n",
      "300/300 [==============================] - 0s 171us/step - loss: 0.0087\n",
      "Epoch 92/100\n",
      "300/300 [==============================] - 0s 169us/step - loss: 0.0079\n",
      "Epoch 93/100\n",
      "300/300 [==============================] - 0s 168us/step - loss: 0.0078\n",
      "Epoch 94/100\n",
      "300/300 [==============================] - 0s 168us/step - loss: 0.0079\n",
      "Epoch 95/100\n",
      "300/300 [==============================] - 0s 174us/step - loss: 0.0081\n",
      "Epoch 96/100\n",
      "300/300 [==============================] - 0s 174us/step - loss: 0.0091\n",
      "Epoch 97/100\n"
     ]
    },
    {
     "name": "stdout",
     "output_type": "stream",
     "text": [
      "300/300 [==============================] - 0s 172us/step - loss: 0.0078\n",
      "Epoch 98/100\n",
      "300/300 [==============================] - 0s 165us/step - loss: 0.0074\n",
      "Epoch 99/100\n",
      "300/300 [==============================] - 0s 176us/step - loss: 0.0071\n",
      "Epoch 100/100\n",
      "300/300 [==============================] - 0s 175us/step - loss: 0.0069\n"
     ]
    },
    {
     "data": {
      "text/plain": [
       "<keras.callbacks.History at 0x7feb35457860>"
      ]
     },
     "execution_count": 10,
     "metadata": {},
     "output_type": "execute_result"
    }
   ],
   "source": [
    "from keras.models import Sequential \n",
    "from keras import utils\n",
    "model = Sequential()\n",
    "\n",
    "from keras.layers import Dense, Activation, Flatten\n",
    "\n",
    "model.add(Dense(3, input_shape=(X_train.shape[1],), activation='softmax'))\n",
    "#model.add(Flatten())\n",
    "#model.add(Dense(3, activation='softmax'))\n",
    "\n",
    "from keras.optimizers import SGD, adam\n",
    "sgd = SGD(lr=0.01,decay=1e-6, momentum=0.9, nesterov=True) \n",
    "adam = adam(lr=0.001, beta_1=0.9, beta_2=0.999, epsilon=None, decay=0.0, amsgrad=False)\n",
    "model.compile(loss='categorical_crossentropy', optimizer=adam)\n",
    "\n",
    "\n",
    "model.fit(X_train, Y_train, epochs=100, batch_size=32)"
   ]
  },
  {
   "cell_type": "code",
   "execution_count": 11,
   "metadata": {},
   "outputs": [
    {
     "name": "stdout",
     "output_type": "stream",
     "text": [
      "_________________________________________________________________\n",
      "Layer (type)                 Output Shape              Param #   \n",
      "=================================================================\n",
      "dense_5 (Dense)              (None, 3)                 15555     \n",
      "=================================================================\n",
      "Total params: 15,555\n",
      "Trainable params: 15,555\n",
      "Non-trainable params: 0\n",
      "_________________________________________________________________\n"
     ]
    }
   ],
   "source": [
    "model.summary()"
   ]
  },
  {
   "cell_type": "code",
   "execution_count": 12,
   "metadata": {
    "scrolled": true
   },
   "outputs": [
    {
     "data": {
      "text/plain": [
       "array([[0., 1., 0.]], dtype=float32)"
      ]
     },
     "execution_count": 12,
     "metadata": {},
     "output_type": "execute_result"
    }
   ],
   "source": [
    "X_test = generate_a_disk()\n",
    "X_test = X_test.reshape(1, X_test.shape[0])\n",
    "model.predict(X_test)\n"
   ]
  },
  {
   "cell_type": "markdown",
   "metadata": {},
   "source": [
    "# Partie 2 - Visualization of the solution"
   ]
  },
  {
   "cell_type": "code",
   "execution_count": 13,
   "metadata": {},
   "outputs": [],
   "source": [
    "weights = model.get_weights()\n",
    "weightMat = np.asarray(weights[0])"
   ]
  },
  {
   "cell_type": "code",
   "execution_count": 14,
   "metadata": {},
   "outputs": [
    {
     "data": {
      "text/plain": [
       "<matplotlib.image.AxesImage at 0x7feb36c95a90>"
      ]
     },
     "execution_count": 14,
     "metadata": {},
     "output_type": "execute_result"
    },
    {
     "data": {
      "image/png": "[encoded data removed]",
      "text/plain": [
       "<matplotlib.figure.Figure at 0x7feb368565f8>"
      ]
     },
     "metadata": {},
     "output_type": "display_data"
    },
    {
     "data": {
      "image/png": "[encoded data removed]",
      "text/plain": [
       "<matplotlib.figure.Figure at 0x7feb368565c0>"
      ]
     },
     "metadata": {},
     "output_type": "display_data"
    },
    {
     "data": {
      "image/png": "[encoded data removed]",
      "text/plain": [
       "<matplotlib.figure.Figure at 0x7feb36ca1390>"
      ]
     },
     "metadata": {},
     "output_type": "display_data"
    }
   ],
   "source": [
    "plt.imshow(weightMat[:,0].reshape(72,72),interpolation='none')\n",
    "plt.figure()\n",
    "plt.imshow(weightMat[:,1].reshape(72,72),interpolation='none')\n",
    "plt.figure()\n",
    "plt.imshow(weightMat[:,2].reshape(72,72),interpolation='none')"
   ]
  },
  {
   "cell_type": "markdown",
   "metadata": {},
   "source": [
    "# Partie 3 - A More Difficult Classification Problem"
   ]
  },
  {
   "cell_type": "code",
   "execution_count": null,
   "metadata": {
    "scrolled": true
   },
   "outputs": [],
   "source": [
    "[X_train, Y_train] = generate_dataset_classification(300, 20, True)\n",
    "Y_train = utils.np_utils.to_categorical(Y_train,3)\n",
    "\n",
    "[X_train2, Y_train2] = generate_dataset_classification(900, 20, True)\n",
    "Y_train2 = utils.np_utils.to_categorical(Y_train2,3)"
   ]
  },
  {
   "cell_type": "markdown",
   "metadata": {},
   "source": [
    "## Classifieur linéaire"
   ]
  },
  {
   "cell_type": "code",
   "execution_count": 16,
   "metadata": {},
   "outputs": [
    {
     "name": "stdout",
     "output_type": "stream",
     "text": [
      "Epoch 1/40\n",
      "300/300 [==============================] - 0s 833us/step - loss: 1.8684 - acc: 0.3000\n",
      "Epoch 2/40\n",
      "300/300 [==============================] - 0s 166us/step - loss: 1.2678 - acc: 0.3700\n",
      "Epoch 3/40\n",
      "300/300 [==============================] - 0s 166us/step - loss: 1.1551 - acc: 0.4067\n",
      "Epoch 4/40\n",
      "300/300 [==============================] - 0s 185us/step - loss: 1.1658 - acc: 0.3967\n",
      "Epoch 5/40\n",
      "300/300 [==============================] - 0s 200us/step - loss: 1.0433 - acc: 0.4833\n",
      "Epoch 6/40\n",
      "300/300 [==============================] - 0s 193us/step - loss: 0.9165 - acc: 0.5533\n",
      "Epoch 7/40\n",
      "300/300 [==============================] - 0s 186us/step - loss: 0.8968 - acc: 0.5500\n",
      "Epoch 8/40\n",
      "300/300 [==============================] - 0s 181us/step - loss: 0.9283 - acc: 0.5633\n",
      "Epoch 9/40\n",
      "300/300 [==============================] - 0s 176us/step - loss: 0.8569 - acc: 0.6067\n",
      "Epoch 10/40\n",
      "300/300 [==============================] - 0s 174us/step - loss: 0.8864 - acc: 0.6133\n",
      "Epoch 11/40\n",
      "300/300 [==============================] - 0s 173us/step - loss: 0.9387 - acc: 0.5700\n",
      "Epoch 12/40\n",
      "300/300 [==============================] - 0s 186us/step - loss: 0.8158 - acc: 0.6233\n",
      "Epoch 13/40\n",
      "300/300 [==============================] - 0s 178us/step - loss: 0.8204 - acc: 0.5967\n",
      "Epoch 14/40\n",
      "300/300 [==============================] - 0s 177us/step - loss: 0.9194 - acc: 0.5933\n",
      "Epoch 15/40\n",
      "300/300 [==============================] - 0s 174us/step - loss: 0.9902 - acc: 0.5633\n",
      "Epoch 16/40\n",
      "300/300 [==============================] - 0s 216us/step - loss: 0.8479 - acc: 0.6000\n",
      "Epoch 17/40\n",
      "300/300 [==============================] - 0s 181us/step - loss: 0.8137 - acc: 0.6067\n",
      "Epoch 18/40\n",
      "300/300 [==============================] - 0s 178us/step - loss: 0.8737 - acc: 0.5967\n",
      "Epoch 19/40\n",
      "300/300 [==============================] - 0s 162us/step - loss: 0.7322 - acc: 0.6467\n",
      "Epoch 20/40\n",
      "300/300 [==============================] - 0s 189us/step - loss: 0.7252 - acc: 0.6900\n",
      "Epoch 21/40\n",
      "300/300 [==============================] - 0s 186us/step - loss: 0.7293 - acc: 0.6667\n",
      "Epoch 22/40\n",
      "300/300 [==============================] - 0s 183us/step - loss: 0.8425 - acc: 0.6067\n",
      "Epoch 23/40\n",
      "300/300 [==============================] - 0s 190us/step - loss: 0.7559 - acc: 0.6433\n",
      "Epoch 24/40\n",
      "300/300 [==============================] - 0s 183us/step - loss: 0.6937 - acc: 0.6967\n",
      "Epoch 25/40\n",
      "300/300 [==============================] - 0s 192us/step - loss: 0.6677 - acc: 0.7167\n",
      "Epoch 26/40\n",
      "300/300 [==============================] - 0s 179us/step - loss: 0.7367 - acc: 0.6267\n",
      "Epoch 27/40\n",
      "300/300 [==============================] - 0s 188us/step - loss: 0.7129 - acc: 0.6600\n",
      "Epoch 28/40\n",
      "300/300 [==============================] - 0s 183us/step - loss: 0.7936 - acc: 0.6200\n",
      "Epoch 29/40\n",
      "300/300 [==============================] - 0s 177us/step - loss: 0.7731 - acc: 0.6667\n",
      "Epoch 30/40\n",
      "300/300 [==============================] - 0s 178us/step - loss: 0.7847 - acc: 0.6433\n",
      "Epoch 31/40\n",
      "300/300 [==============================] - 0s 170us/step - loss: 0.7538 - acc: 0.6400\n",
      "Epoch 32/40\n",
      "300/300 [==============================] - 0s 165us/step - loss: 0.7595 - acc: 0.6300\n",
      "Epoch 33/40\n",
      "300/300 [==============================] - 0s 158us/step - loss: 0.6993 - acc: 0.6933\n",
      "Epoch 34/40\n",
      "300/300 [==============================] - 0s 191us/step - loss: 0.6890 - acc: 0.7200\n",
      "Epoch 35/40\n",
      "300/300 [==============================] - 0s 174us/step - loss: 0.7647 - acc: 0.6600\n",
      "Epoch 36/40\n",
      "300/300 [==============================] - 0s 181us/step - loss: 0.7331 - acc: 0.6433\n",
      "Epoch 37/40\n",
      "300/300 [==============================] - 0s 182us/step - loss: 0.8419 - acc: 0.6200\n",
      "Epoch 38/40\n",
      "300/300 [==============================] - 0s 188us/step - loss: 0.7227 - acc: 0.6433\n",
      "Epoch 39/40\n",
      "300/300 [==============================] - 0s 178us/step - loss: 0.7522 - acc: 0.6700\n",
      "Epoch 40/40\n",
      "300/300 [==============================] - 0s 185us/step - loss: 0.6020 - acc: 0.7533\n"
     ]
    },
    {
     "data": {
      "text/plain": [
       "<keras.callbacks.History at 0x7fea600ef160>"
      ]
     },
     "execution_count": 16,
     "metadata": {},
     "output_type": "execute_result"
    }
   ],
   "source": [
    "from keras.models import Sequential \n",
    "from keras import utils\n",
    "model2 = Sequential()\n",
    "\n",
    "from keras.layers import Dense, Activation, Flatten\n",
    "\n",
    "model2.add(Dense(3, input_shape=(X_train.shape[1],), activation='softmax'))\n",
    "#model.add(Flatten())\n",
    "#model.add(Dense(3, activation='softmax'))\n",
    "\n",
    "from keras.optimizers import SGD, adam\n",
    "sgd = SGD(lr=0.01,decay=1e-6, momentum=0.9, nesterov=True) \n",
    "adam = adam(lr=0.001, beta_1=0.9, beta_2=0.999, epsilon=None, decay=0.0, amsgrad=False)\n",
    "model2.compile(loss='categorical_crossentropy', optimizer=adam,  metrics=['accuracy'])\n",
    "\n",
    "\n",
    "model2.fit(X_train, Y_train, epochs=40, batch_size=32)"
   ]
  },
  {
   "cell_type": "code",
   "execution_count": 17,
   "metadata": {},
   "outputs": [
    {
     "name": "stdout",
     "output_type": "stream",
     "text": [
      "Creating data:\n",
      "0\n",
      "10\n",
      "20\n",
      "30\n",
      "40\n",
      "50\n",
      "60\n",
      "70\n",
      "80\n",
      "90\n",
      "100\n",
      "110\n",
      "120\n",
      "130\n",
      "140\n",
      "150\n",
      "160\n",
      "170\n",
      "180\n",
      "190\n",
      "200\n",
      "210\n",
      "220\n",
      "230\n",
      "240\n",
      "250\n",
      "260\n",
      "270\n",
      "280\n",
      "290\n",
      "300/300 [==============================] - 0s 223us/step\n"
     ]
    },
    {
     "data": {
      "text/plain": [
       "[1.0204947018623352, 0.5633333333333334]"
      ]
     },
     "execution_count": 17,
     "metadata": {},
     "output_type": "execute_result"
    }
   ],
   "source": [
    "[X_test, Y_test] = generate_test_set_classification()\n",
    "model2.evaluate(X_test, Y_test)"
   ]
  },
  {
   "cell_type": "markdown",
   "metadata": {},
   "source": [
    "## CNN"
   ]
  },
  {
   "cell_type": "code",
   "execution_count": 18,
   "metadata": {},
   "outputs": [],
   "source": [
    "X_train.shape\n",
    "X_train = X_train.reshape(X_train.shape[0],72,72,1)"
   ]
  },
  {
   "cell_type": "code",
   "execution_count": 19,
   "metadata": {},
   "outputs": [
    {
     "name": "stdout",
     "output_type": "stream",
     "text": [
      "Epoch 1/25\n",
      "300/300 [==============================] - 1s 5ms/step - loss: 1.4219 - acc: 0.3267\n",
      "Epoch 2/25\n",
      "300/300 [==============================] - 0s 324us/step - loss: 1.0517 - acc: 0.4667\n",
      "Epoch 3/25\n",
      "300/300 [==============================] - 0s 323us/step - loss: 0.9106 - acc: 0.5800\n",
      "Epoch 4/25\n",
      "300/300 [==============================] - 0s 339us/step - loss: 0.8055 - acc: 0.7333\n",
      "Epoch 5/25\n",
      "300/300 [==============================] - 0s 345us/step - loss: 0.7318 - acc: 0.7633\n",
      "Epoch 6/25\n",
      "300/300 [==============================] - 0s 346us/step - loss: 0.6842 - acc: 0.7233\n",
      "Epoch 7/25\n",
      "300/300 [==============================] - 0s 350us/step - loss: 0.6841 - acc: 0.7033\n",
      "Epoch 8/25\n",
      "300/300 [==============================] - 0s 356us/step - loss: 0.5879 - acc: 0.8567\n",
      "Epoch 9/25\n",
      "300/300 [==============================] - 0s 350us/step - loss: 0.5491 - acc: 0.8533\n",
      "Epoch 10/25\n",
      "300/300 [==============================] - 0s 350us/step - loss: 0.5135 - acc: 0.8467\n",
      "Epoch 11/25\n",
      "300/300 [==============================] - 0s 341us/step - loss: 0.4994 - acc: 0.8400\n",
      "Epoch 12/25\n",
      "300/300 [==============================] - 0s 347us/step - loss: 0.4470 - acc: 0.9300\n",
      "Epoch 13/25\n",
      "300/300 [==============================] - 0s 350us/step - loss: 0.4218 - acc: 0.9200\n",
      "Epoch 14/25\n",
      "300/300 [==============================] - 0s 355us/step - loss: 0.3943 - acc: 0.9300\n",
      "Epoch 15/25\n",
      "300/300 [==============================] - 0s 337us/step - loss: 0.3736 - acc: 0.9300\n",
      "Epoch 16/25\n",
      "300/300 [==============================] - 0s 343us/step - loss: 0.3636 - acc: 0.9133\n",
      "Epoch 17/25\n",
      "300/300 [==============================] - 0s 348us/step - loss: 0.3446 - acc: 0.9300\n",
      "Epoch 18/25\n",
      "300/300 [==============================] - 0s 346us/step - loss: 0.3298 - acc: 0.9400\n",
      "Epoch 19/25\n",
      "300/300 [==============================] - 0s 344us/step - loss: 0.2924 - acc: 0.9533\n",
      "Epoch 20/25\n",
      "300/300 [==============================] - 0s 349us/step - loss: 0.2842 - acc: 0.9567\n",
      "Epoch 21/25\n",
      "300/300 [==============================] - 0s 350us/step - loss: 0.2658 - acc: 0.9533\n",
      "Epoch 22/25\n",
      "300/300 [==============================] - 0s 348us/step - loss: 0.2550 - acc: 0.9567\n",
      "Epoch 23/25\n",
      "300/300 [==============================] - 0s 352us/step - loss: 0.2495 - acc: 0.9667\n",
      "Epoch 24/25\n",
      "300/300 [==============================] - 0s 345us/step - loss: 0.2306 - acc: 0.9667\n",
      "Epoch 25/25\n",
      "300/300 [==============================] - 0s 334us/step - loss: 0.2287 - acc: 0.9600\n"
     ]
    },
    {
     "data": {
      "text/plain": [
       "<keras.callbacks.History at 0x7feae0348a20>"
      ]
     },
     "execution_count": 19,
     "metadata": {},
     "output_type": "execute_result"
    }
   ],
   "source": [
    "from keras.models import Sequential \n",
    "from keras import utils\n",
    "model3 = Sequential()\n",
    "\n",
    "from keras.layers import Dense, Activation, Flatten, Conv2D, MaxPooling2D\n",
    "from keras.callbacks import History \n",
    "history = History()\n",
    "\n",
    "model3.add(Conv2D(16, (5,5), input_shape=(X_train.shape[1],X_train.shape[2],X_train.shape[3])   )    )\n",
    "model3.add( MaxPooling2D() )\n",
    "model3.add(Flatten())\n",
    "model3.add(Dense(3, input_shape=(X_train.shape[1],), activation='softmax'))\n",
    "\n",
    "\n",
    "from keras.optimizers import SGD, adam\n",
    "sgd = SGD(lr=0.01,decay=1e-6, momentum=0.9, nesterov=True) \n",
    "adam = adam(lr=0.001, beta_1=0.9, beta_2=0.999, epsilon=None, decay=0.0, amsgrad=False)\n",
    "model3.compile(loss='categorical_crossentropy', optimizer=adam,  metrics=['accuracy'])\n",
    "\n",
    "\n",
    "model3.fit(X_train, Y_train, epochs=25, batch_size=32,  callbacks=[history])"
   ]
  },
  {
   "cell_type": "code",
   "execution_count": 60,
   "metadata": {},
   "outputs": [
    {
     "data": {
      "image/png": "[encoded data removed]",
      "text/plain": [
       "<matplotlib.figure.Figure at 0x7fe91f5b5dd8>"
      ]
     },
     "metadata": {},
     "output_type": "display_data"
    }
   ],
   "source": [
    "plt.figure(); plt.suptitle('Suggested CNN');\n",
    "plt.subplot(1, 2, 1)\n",
    "plt.plot(history.history['loss'])\n",
    "plt.title('Loss')\n",
    "\n",
    "\n",
    "plt.subplot(1, 2, 2)\n",
    "plt.plot(history.history['acc'])\n",
    "plt.title('Training accuracy')\n",
    "plt.savefig('figures/part3_cnn')\n",
    "plt.show()"
   ]
  },
  {
   "cell_type": "code",
   "execution_count": 49,
   "metadata": {},
   "outputs": [
    {
     "name": "stdout",
     "output_type": "stream",
     "text": [
      "Creating data:\n",
      "0\n",
      "10\n",
      "20\n",
      "30\n",
      "40\n",
      "50\n",
      "60\n",
      "70\n",
      "80\n",
      "90\n",
      "100\n",
      "110\n",
      "120\n",
      "130\n",
      "140\n",
      "150\n",
      "160\n",
      "170\n",
      "180\n",
      "190\n",
      "200\n",
      "210\n",
      "220\n",
      "230\n",
      "240\n",
      "250\n",
      "260\n",
      "270\n",
      "280\n",
      "290\n",
      "300/300 [==============================] - 0s 575us/step\n"
     ]
    },
    {
     "data": {
      "text/plain": [
       "[1.3078667243321738, 0.6900000007947286]"
      ]
     },
     "execution_count": 49,
     "metadata": {},
     "output_type": "execute_result"
    }
   ],
   "source": [
    "[X_test, Y_test] = generate_test_set_classification()\n",
    "X_test = X_test.reshape(X_test.shape[0],72,72,1)\n",
    "model3.evaluate(X_test, Y_test)"
   ]
  },
  {
   "cell_type": "markdown",
   "metadata": {},
   "source": [
    "## Big Fat CNN"
   ]
  },
  {
   "cell_type": "code",
   "execution_count": 52,
   "metadata": {},
   "outputs": [
    {
     "name": "stdout",
     "output_type": "stream",
     "text": [
      "Epoch 1/25\n",
      "300/300 [==============================] - 2s 6ms/step - loss: 1.2366 - acc: 0.3967\n",
      "Epoch 2/25\n",
      "300/300 [==============================] - 1s 2ms/step - loss: 1.0111 - acc: 0.5200\n",
      "Epoch 3/25\n",
      "300/300 [==============================] - 1s 2ms/step - loss: 0.7931 - acc: 0.6500\n",
      "Epoch 4/25\n",
      "300/300 [==============================] - 1s 2ms/step - loss: 0.6486 - acc: 0.7133\n",
      "Epoch 5/25\n",
      "300/300 [==============================] - 1s 2ms/step - loss: 0.5456 - acc: 0.7367\n",
      "Epoch 6/25\n",
      "300/300 [==============================] - 1s 2ms/step - loss: 0.4862 - acc: 0.8000\n",
      "Epoch 7/25\n",
      "300/300 [==============================] - 1s 2ms/step - loss: 0.3368 - acc: 0.8667\n",
      "Epoch 8/25\n",
      "300/300 [==============================] - 1s 2ms/step - loss: 0.2837 - acc: 0.8867\n",
      "Epoch 9/25\n",
      "300/300 [==============================] - 1s 2ms/step - loss: 0.2161 - acc: 0.9200\n",
      "Epoch 10/25\n",
      "300/300 [==============================] - 1s 2ms/step - loss: 0.2077 - acc: 0.9200\n",
      "Epoch 11/25\n",
      "300/300 [==============================] - 1s 2ms/step - loss: 0.1287 - acc: 0.9467\n",
      "Epoch 12/25\n",
      "300/300 [==============================] - 1s 2ms/step - loss: 0.1003 - acc: 0.9733\n",
      "Epoch 13/25\n",
      "300/300 [==============================] - 1s 2ms/step - loss: 0.1356 - acc: 0.9500\n",
      "Epoch 14/25\n",
      "300/300 [==============================] - 1s 2ms/step - loss: 0.1025 - acc: 0.9667\n",
      "Epoch 15/25\n",
      "300/300 [==============================] - 1s 2ms/step - loss: 0.1406 - acc: 0.9533\n",
      "Epoch 16/25\n",
      "300/300 [==============================] - 1s 2ms/step - loss: 0.1480 - acc: 0.9667\n",
      "Epoch 17/25\n",
      "300/300 [==============================] - 1s 2ms/step - loss: 0.2626 - acc: 0.9267\n",
      "Epoch 18/25\n",
      "300/300 [==============================] - 1s 2ms/step - loss: 0.2305 - acc: 0.9200\n",
      "Epoch 19/25\n",
      "300/300 [==============================] - 1s 2ms/step - loss: 0.0932 - acc: 0.9733\n",
      "Epoch 20/25\n",
      "300/300 [==============================] - 1s 2ms/step - loss: 0.0356 - acc: 0.9900\n",
      "Epoch 21/25\n",
      "300/300 [==============================] - 1s 2ms/step - loss: 0.0178 - acc: 0.9967\n",
      "Epoch 22/25\n",
      "300/300 [==============================] - 1s 2ms/step - loss: 0.0142 - acc: 0.9967\n",
      "Epoch 23/25\n",
      "300/300 [==============================] - 1s 2ms/step - loss: 0.0077 - acc: 1.0000\n",
      "Epoch 24/25\n",
      "300/300 [==============================] - 1s 2ms/step - loss: 0.0036 - acc: 1.0000\n",
      "Epoch 25/25\n",
      "300/300 [==============================] - 1s 2ms/step - loss: 0.0025 - acc: 1.0000\n"
     ]
    },
    {
     "data": {
      "text/plain": [
       "<keras.callbacks.History at 0x7fe9700570f0>"
      ]
     },
     "execution_count": 52,
     "metadata": {},
     "output_type": "execute_result"
    }
   ],
   "source": [
    "fat = Sequential()\n",
    "\n",
    "from keras.layers import Dense, Activation, Flatten, Conv2D, MaxPooling2D\n",
    "from keras.callbacks import History \n",
    "history2 = History()\n",
    "\n",
    "fat.add(Conv2D(48, (12,12), input_shape=(X_train.shape[1],X_train.shape[2],X_train.shape[3]) , activation='relu' )    )\n",
    "fat.add(Conv2D(96, (5,5), activation='relu'  )    )\n",
    "fat.add( MaxPooling2D() ) \n",
    "\n",
    "fat.add(Flatten())\n",
    "fat.add(Dense(96, activation='relu'))\n",
    "\n",
    "fat.add(Dense(3,  activation='softmax'))\n",
    "\n",
    "\n",
    "from keras.optimizers import SGD, adam\n",
    "sgd = SGD(lr=0.01,decay=1e-6, momentum=0.9, nesterov=True) \n",
    "adam = adam(lr=0.001, beta_1=0.9, beta_2=0.999, epsilon=None, decay=0.0, amsgrad=False)\n",
    "fat.compile(loss='categorical_crossentropy', optimizer=adam,  metrics=['accuracy'])\n",
    "\n",
    "\n",
    "fat.fit(X_train2, Y_train2, epochs=25, batch_size=32,  callbacks=[history2])\n"
   ]
  },
  {
   "cell_type": "code",
   "execution_count": 53,
   "metadata": {
    "scrolled": true
   },
   "outputs": [
    {
     "name": "stdout",
     "output_type": "stream",
     "text": [
      "300/300 [==============================] - 0s 1ms/step\n"
     ]
    },
    {
     "data": {
      "text/plain": [
       "[2.343162752787272, 0.6599999992052714]"
      ]
     },
     "execution_count": 53,
     "metadata": {},
     "output_type": "execute_result"
    }
   ],
   "source": [
    "fat.evaluate(X_test, Y_test)"
   ]
  },
  {
   "cell_type": "code",
   "execution_count": 54,
   "metadata": {},
   "outputs": [
    {
     "data": {
      "image/png": "[encoded data removed]",
      "text/plain": [
       "<matplotlib.figure.Figure at 0x7fe9701ad898>"
      ]
     },
     "metadata": {},
     "output_type": "display_data"
    }
   ],
   "source": [
    "plt.figure(); plt.suptitle('Deeper CNN');\n",
    "plt.subplot(1, 2, 1)\n",
    "plt.plot(history2.history['loss'])\n",
    "plt.title('Loss')\n",
    "\n",
    "\n",
    "plt.subplot(1, 2, 2)\n",
    "plt.plot(history2.history['acc'])\n",
    "plt.title('Training accuracy')\n",
    "\n",
    "plt.show()"
   ]
  },
  {
   "cell_type": "markdown",
   "metadata": {},
   "source": [
    "# Partie 4 - Regression"
   ]
  },
  {
   "cell_type": "code",
   "execution_count": null,
   "metadata": {},
   "outputs": [],
   "source": [
    "[X_train, Y_train] = generate_dataset_regression(300, 20)\n"
   ]
  },
  {
   "cell_type": "code",
   "execution_count": null,
   "metadata": {},
   "outputs": [],
   "source": [
    "visualize_prediction(X_train[1], Y_train[1])"
   ]
  },
  {
   "cell_type": "code",
   "execution_count": null,
   "metadata": {},
   "outputs": [],
   "source": [
    "X_train = X_train.reshape(X_train.shape[0],72*72)\n",
    "X_train.shape"
   ]
  },
  {
   "cell_type": "code",
   "execution_count": null,
   "metadata": {},
   "outputs": [],
   "source": [
    "X_train.shape[1]"
   ]
  },
  {
   "cell_type": "code",
   "execution_count": null,
   "metadata": {},
   "outputs": [],
   "source": [
    "from keras.models import Sequential \n",
    "from keras import utils\n",
    "model4 = Sequential()\n",
    "\n",
    "from keras.layers import Dense, Activation, Flatten, Dropout\n",
    "\n",
    "\n",
    "model4.add(Dense(100, input_shape = (X_train.shape[1],),activation = 'relu'))\n",
    "model4.add(Dropout(0.4))\n",
    "model4.add(Dense(6, activation = 'linear'))\n",
    "\n",
    "#model.add(Flatten())\n",
    "#model.add(Dense(3, activation='softmax'))\n",
    "\n",
    "from keras.optimizers import SGD, adam\n",
    "sgd = SGD(lr=0.01,decay=1e-6, momentum=0.9, nesterov=True) \n",
    "adam = adam(lr=0.001, beta_1=0.9, beta_2=0.999, epsilon=None, decay=0.0, amsgrad=False)\n",
    "model4.compile(loss='logcosh', optimizer=adam)\n",
    "\n",
    "\n",
    "model4.fit(X_train, Y_train, epochs=200, batch_size=32)"
   ]
  },
  {
   "cell_type": "code",
   "execution_count": null,
   "metadata": {},
   "outputs": [],
   "source": []
  },
  {
   "cell_type": "code",
   "execution_count": null,
   "metadata": {},
   "outputs": [],
   "source": [
    "Y_train"
   ]
  },
  {
   "cell_type": "code",
   "execution_count": null,
   "metadata": {
    "scrolled": true
   },
   "outputs": [],
   "source": [
    "[X_test, Y_test] = generate_test_set_regression()\n",
    "X_test = X_test.reshape(X_test.shape[0],72*72)"
   ]
  },
  {
   "cell_type": "code",
   "execution_count": null,
   "metadata": {},
   "outputs": [],
   "source": [
    "Y_test = model4.predict(X_test)"
   ]
  },
  {
   "cell_type": "code",
   "execution_count": null,
   "metadata": {},
   "outputs": [],
   "source": [
    "i=10\n",
    "visualize_prediction(X_test[i], Y_test[i])"
   ]
  },
  {
   "cell_type": "code",
   "execution_count": null,
   "metadata": {},
   "outputs": [],
   "source": [
    "Y_test[0]"
   ]
  },
  {
   "cell_type": "code",
   "execution_count": null,
   "metadata": {},
   "outputs": [],
   "source": [
    "Y_train.shape"
   ]
  },
  {
   "cell_type": "code",
   "execution_count": null,
   "metadata": {},
   "outputs": [],
   "source": [
    "Y_test[0]"
   ]
  },
  {
   "cell_type": "code",
   "execution_count": null,
   "metadata": {},
   "outputs": [],
   "source": [
    "Y_train[0]"
   ]
  },
  {
   "cell_type": "code",
   "execution_count": null,
   "metadata": {},
   "outputs": [],
   "source": [
    "np_utils.to_categorical(Y_train[3], 3) "
   ]
  },
  {
   "cell_type": "code",
   "execution_count": null,
   "metadata": {},
   "outputs": [],
   "source": []
  }
 ],
 "metadata": {
  "kernelspec": {
   "display_name": "Python 3",
   "language": "python",
   "name": "python3"
  },
  "language_info": {
   "codemirror_mode": {
    "name": "ipython",
    "version": 3
   },
   "file_extension": ".py",
   "mimetype": "text/x-python",
   "name": "python",
   "nbconvert_exporter": "python",
   "pygments_lexer": "ipython3",
   "version": "3.6.4"
  }
 },
 "nbformat": 4,
 "nbformat_minor": 2
}
