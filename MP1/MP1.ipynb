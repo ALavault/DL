{
 "cells": [
  {
   "cell_type": "code",
   "execution_count": 6,
   "metadata": {},
   "outputs": [
    {
     "data": {
      "image/png": "[encoded data removed]",
      "text/plain": [
       "<matplotlib.figure.Figure at 0x7f5768286a90>"
      ]
     },
     "metadata": {},
     "output_type": "display_data"
    }
   ],
   "source": [
    "import matplotlib.pyplot as plt\n",
    "%matplotlib inline\n",
    "import numpy as np\n",
    "from keras.utils import np_utils\n",
    "\n",
    "def generate_a_drawing(figsize, U, V, noise=0.0):\n",
    "    fig = plt.figure(figsize=(figsize,figsize))\n",
    "    ax = plt.subplot(111)\n",
    "    plt.axis('Off')\n",
    "    ax.set_xlim(0,figsize)\n",
    "    ax.set_ylim(0,figsize)\n",
    "    ax.fill(U, V, \"k\")\n",
    "    fig.canvas.draw()\n",
    "    imdata = np.frombuffer(fig.canvas.tostring_rgb(), dtype=np.uint8)[::3].astype(np.float32)\n",
    "    imdata = imdata + noise * np.random.random(imdata.size)\n",
    "    plt.close(fig)\n",
    "    return imdata\n",
    "\n",
    "def generate_a_rectangle(noise=0.0, free_location=False):\n",
    "    figsize = 1.0    \n",
    "    U = np.zeros(4)\n",
    "    V = np.zeros(4)\n",
    "    if free_location:\n",
    "        corners = np.random.random(4)\n",
    "        top = max(corners[0], corners[1])\n",
    "        bottom = min(corners[0], corners[1])\n",
    "        left = min(corners[2], corners[3])\n",
    "        right = max(corners[2], corners[3])\n",
    "    else:\n",
    "        side = (0.3 + 0.7 * np.random.random()) * figsize\n",
    "        top = figsize/2 + side/2\n",
    "        bottom = figsize/2 - side/2\n",
    "        left = bottom\n",
    "        right = top\n",
    "    U[0] = U[1] = top\n",
    "    U[2] = U[3] = bottom\n",
    "    V[0] = V[3] = left\n",
    "    V[1] = V[2] = right\n",
    "    return generate_a_drawing(figsize, U, V, noise)\n",
    "\n",
    "\n",
    "def generate_a_disk(noise=0.0, free_location=False):\n",
    "    figsize = 1.0\n",
    "    if free_location:\n",
    "        center = np.random.random(2)\n",
    "    else:\n",
    "        center = (figsize/2, figsize/2)\n",
    "    radius = (0.3 + 0.7 * np.random.random()) * figsize/2\n",
    "    N = 50\n",
    "    U = np.zeros(N)\n",
    "    V = np.zeros(N)\n",
    "    i = 0\n",
    "    for t in np.linspace(0, 2*np.pi, N):\n",
    "        U[i] = center[0] + np.cos(t) * radius\n",
    "        V[i] = center[1] + np.sin(t) * radius\n",
    "        i = i + 1\n",
    "    return generate_a_drawing(figsize, U, V, noise)\n",
    "\n",
    "def generate_a_triangle(noise=0.0, free_location=False):\n",
    "    figsize = 1.0\n",
    "    if free_location:\n",
    "        U = np.random.random(3)\n",
    "        V = np.random.random(3)\n",
    "    else:\n",
    "        size = (0.3 + 0.7 * np.random.random())*figsize/2\n",
    "        middle = figsize/2\n",
    "        U = (middle, middle+size, middle-size)\n",
    "        V = (middle+size, middle-size, middle-size)\n",
    "    imdata = generate_a_drawing(figsize, U, V, noise)\n",
    "    return [imdata, [U[0], V[0], U[1], V[1], U[2], V[2]]]\n",
    "\n",
    "\n",
    "im = generate_a_rectangle(10, True)\n",
    "plt.imshow(im.reshape(72,72), cmap='gray')\n",
    "\n",
    "im = generate_a_disk(10)\n",
    "plt.imshow(im.reshape(72,72), cmap='gray')\n",
    "\n",
    "[im, v] = generate_a_triangle(20, False)\n",
    "plt.imshow(im.reshape(72,72), cmap='gray')\n",
    "\n",
    "\n",
    "def generate_dataset_classification(nb_samples, noise=0.0, free_location=False):\n",
    "    # Getting im_size:\n",
    "    im_size = generate_a_rectangle().shape[0]\n",
    "    X = np.zeros([nb_samples,im_size])\n",
    "    Y = np.zeros(nb_samples)\n",
    "    print('Creating data:')\n",
    "    for i in range(nb_samples):\n",
    "        if i % 10 == 0:\n",
    "            print(i)\n",
    "        category = np.random.randint(3)\n",
    "        if category == 0:\n",
    "            X[i] = generate_a_rectangle(noise, free_location)\n",
    "        elif category == 1: \n",
    "            X[i] = generate_a_disk(noise, free_location)\n",
    "        else:\n",
    "            [X[i], V] = generate_a_triangle(noise, free_location)\n",
    "        Y[i] = category\n",
    "    X = (X + noise) / (255 + 2 * noise)\n",
    "    return [X, Y]\n",
    "\n",
    "def generate_test_set_classification():\n",
    "    np.random.seed(42)\n",
    "    [X_test, Y_test] = generate_dataset_classification(300, 20, True)\n",
    "    Y_test = np_utils.to_categorical(Y_test, 3) \n",
    "    return [X_test, Y_test]\n",
    "\n",
    "def generate_dataset_regression(nb_samples, noise=0.0):\n",
    "    # Getting im_size:\n",
    "    im_size = generate_a_triangle()[0].shape[0]\n",
    "    X = np.zeros([nb_samples,im_size])\n",
    "    Y = np.zeros([nb_samples, 6])\n",
    "    print('Creating data:')\n",
    "    for i in range(nb_samples):\n",
    "        if i % 10 == 0:\n",
    "            print(i)\n",
    "        [X[i], Y[i]] = generate_a_triangle(noise, True)\n",
    "    X = (X + noise) / (255 + 2 * noise)\n",
    "    return [X, Y]\n",
    "\n",
    "import matplotlib.patches as patches\n",
    "\n",
    "def visualize_prediction(x, y):\n",
    "    fig, ax = plt.subplots(figsize=(5, 5))\n",
    "    I = x.reshape((72,72))\n",
    "    ax.imshow(I, extent=[-0.15,1.15,-0.15,1.15],cmap='gray')\n",
    "    ax.set_xlim([0,1])\n",
    "    ax.set_ylim([0,1])\n",
    "\n",
    "    xy = y.reshape(3,2)\n",
    "    tri = patches.Polygon(xy, closed=True, fill = False, edgecolor = 'r', linewidth = 5, alpha = 0.5)\n",
    "    ax.add_patch(tri)\n",
    "\n",
    "    plt.show()\n",
    "\n",
    "def generate_test_set_regression():\n",
    "    np.random.seed(42)\n",
    "    [X_test, Y_test] = generate_dataset_regression(300, 20)\n",
    "    Y_test = np_utils.to_categorical(Y_test, 3) \n",
    "    return [X_test, Y_test]\n",
    "\n"
   ]
  },
  {
   "cell_type": "markdown",
   "metadata": {},
   "source": [
    "# Partie 1 - Simple classification"
   ]
  },
  {
   "cell_type": "code",
   "execution_count": 7,
   "metadata": {},
   "outputs": [
    {
     "name": "stdout",
     "output_type": "stream",
     "text": [
      "Creating data:\n",
      "0\n",
      "10\n",
      "20\n",
      "30\n",
      "40\n",
      "50\n",
      "60\n",
      "70\n",
      "80\n",
      "90\n",
      "100\n",
      "110\n",
      "120\n",
      "130\n",
      "140\n",
      "150\n",
      "160\n",
      "170\n",
      "180\n",
      "190\n",
      "200\n",
      "210\n",
      "220\n",
      "230\n",
      "240\n",
      "250\n",
      "260\n",
      "270\n",
      "280\n",
      "290\n"
     ]
    }
   ],
   "source": [
    "[X_train, Y_train] = generate_dataset_classification(300, 20)"
   ]
  },
  {
   "cell_type": "code",
   "execution_count": 8,
   "metadata": {},
   "outputs": [
    {
     "data": {
      "text/plain": [
       "array([ 0.99773842,  0.95474101,  0.99235939, ...,  0.94048148,\n",
       "        0.95347374,  0.96823073])"
      ]
     },
     "execution_count": 8,
     "metadata": {},
     "output_type": "execute_result"
    }
   ],
   "source": [
    "X_train[0]"
   ]
  },
  {
   "cell_type": "code",
   "execution_count": 9,
   "metadata": {},
   "outputs": [
    {
     "data": {
      "text/plain": [
       "(array([[ 0.99773842,  0.95474101,  0.99235939, ...,  0.94048148,\n",
       "          0.95347374,  0.96823073],\n",
       "        [ 0.93629763,  0.97787279,  0.99469653, ...,  0.98605856,\n",
       "          0.93794543,  0.99063502],\n",
       "        [ 0.99149558,  0.99350975,  0.97582845, ...,  0.98767464,\n",
       "          0.95186302,  0.9566027 ],\n",
       "        ..., \n",
       "        [ 0.94076221,  0.97047209,  0.9752595 , ...,  0.99548418,\n",
       "          0.96176647,  0.99576542],\n",
       "        [ 0.9463509 ,  0.96590299,  0.99420764, ...,  0.95965353,\n",
       "          0.96545159,  0.99030882],\n",
       "        [ 0.9528998 ,  0.95488202,  0.97474224, ...,  0.96826054,\n",
       "          0.9531674 ,  0.98457734]]), array([[ 0.,  0.,  1.],\n",
       "        [ 0.,  0.,  1.],\n",
       "        [ 1.,  0.,  0.],\n",
       "        [ 1.,  0.,  0.],\n",
       "        [ 0.,  0.,  1.],\n",
       "        [ 0.,  0.,  1.],\n",
       "        [ 1.,  0.,  0.],\n",
       "        [ 1.,  0.,  0.],\n",
       "        [ 1.,  0.,  0.],\n",
       "        [ 1.,  0.,  0.],\n",
       "        [ 0.,  0.,  1.],\n",
       "        [ 0.,  0.,  1.],\n",
       "        [ 0.,  1.,  0.],\n",
       "        [ 1.,  0.,  0.],\n",
       "        [ 0.,  0.,  1.],\n",
       "        [ 0.,  1.,  0.],\n",
       "        [ 1.,  0.,  0.],\n",
       "        [ 0.,  0.,  1.],\n",
       "        [ 0.,  0.,  1.],\n",
       "        [ 0.,  1.,  0.],\n",
       "        [ 0.,  0.,  1.],\n",
       "        [ 1.,  0.,  0.],\n",
       "        [ 0.,  0.,  1.],\n",
       "        [ 1.,  0.,  0.],\n",
       "        [ 0.,  0.,  1.],\n",
       "        [ 0.,  0.,  1.],\n",
       "        [ 0.,  0.,  1.],\n",
       "        [ 0.,  1.,  0.],\n",
       "        [ 0.,  1.,  0.],\n",
       "        [ 0.,  1.,  0.],\n",
       "        [ 1.,  0.,  0.],\n",
       "        [ 0.,  0.,  1.],\n",
       "        [ 0.,  1.,  0.],\n",
       "        [ 0.,  1.,  0.],\n",
       "        [ 1.,  0.,  0.],\n",
       "        [ 0.,  0.,  1.],\n",
       "        [ 0.,  1.,  0.],\n",
       "        [ 1.,  0.,  0.],\n",
       "        [ 0.,  0.,  1.],\n",
       "        [ 0.,  0.,  1.],\n",
       "        [ 0.,  0.,  1.],\n",
       "        [ 0.,  0.,  1.],\n",
       "        [ 1.,  0.,  0.],\n",
       "        [ 0.,  0.,  1.],\n",
       "        [ 1.,  0.,  0.],\n",
       "        [ 0.,  1.,  0.],\n",
       "        [ 0.,  0.,  1.],\n",
       "        [ 0.,  1.,  0.],\n",
       "        [ 0.,  0.,  1.],\n",
       "        [ 1.,  0.,  0.],\n",
       "        [ 0.,  1.,  0.],\n",
       "        [ 1.,  0.,  0.],\n",
       "        [ 0.,  1.,  0.],\n",
       "        [ 0.,  1.,  0.],\n",
       "        [ 0.,  0.,  1.],\n",
       "        [ 0.,  0.,  1.],\n",
       "        [ 0.,  1.,  0.],\n",
       "        [ 0.,  1.,  0.],\n",
       "        [ 1.,  0.,  0.],\n",
       "        [ 1.,  0.,  0.],\n",
       "        [ 0.,  1.,  0.],\n",
       "        [ 1.,  0.,  0.],\n",
       "        [ 0.,  1.,  0.],\n",
       "        [ 0.,  1.,  0.],\n",
       "        [ 0.,  1.,  0.],\n",
       "        [ 1.,  0.,  0.],\n",
       "        [ 1.,  0.,  0.],\n",
       "        [ 0.,  1.,  0.],\n",
       "        [ 0.,  0.,  1.],\n",
       "        [ 0.,  1.,  0.],\n",
       "        [ 0.,  1.,  0.],\n",
       "        [ 1.,  0.,  0.],\n",
       "        [ 0.,  0.,  1.],\n",
       "        [ 0.,  1.,  0.],\n",
       "        [ 0.,  0.,  1.],\n",
       "        [ 1.,  0.,  0.],\n",
       "        [ 0.,  0.,  1.],\n",
       "        [ 0.,  1.,  0.],\n",
       "        [ 1.,  0.,  0.],\n",
       "        [ 0.,  0.,  1.],\n",
       "        [ 0.,  0.,  1.],\n",
       "        [ 0.,  1.,  0.],\n",
       "        [ 0.,  1.,  0.],\n",
       "        [ 0.,  1.,  0.],\n",
       "        [ 1.,  0.,  0.],\n",
       "        [ 0.,  0.,  1.],\n",
       "        [ 0.,  1.,  0.],\n",
       "        [ 1.,  0.,  0.],\n",
       "        [ 1.,  0.,  0.],\n",
       "        [ 0.,  0.,  1.],\n",
       "        [ 1.,  0.,  0.],\n",
       "        [ 1.,  0.,  0.],\n",
       "        [ 1.,  0.,  0.],\n",
       "        [ 0.,  0.,  1.],\n",
       "        [ 0.,  1.,  0.],\n",
       "        [ 1.,  0.,  0.],\n",
       "        [ 0.,  1.,  0.],\n",
       "        [ 0.,  1.,  0.],\n",
       "        [ 0.,  0.,  1.],\n",
       "        [ 1.,  0.,  0.],\n",
       "        [ 1.,  0.,  0.],\n",
       "        [ 0.,  0.,  1.],\n",
       "        [ 0.,  0.,  1.],\n",
       "        [ 1.,  0.,  0.],\n",
       "        [ 0.,  0.,  1.],\n",
       "        [ 1.,  0.,  0.],\n",
       "        [ 1.,  0.,  0.],\n",
       "        [ 0.,  0.,  1.],\n",
       "        [ 1.,  0.,  0.],\n",
       "        [ 0.,  0.,  1.],\n",
       "        [ 1.,  0.,  0.],\n",
       "        [ 0.,  1.,  0.],\n",
       "        [ 0.,  0.,  1.],\n",
       "        [ 0.,  1.,  0.],\n",
       "        [ 0.,  1.,  0.],\n",
       "        [ 1.,  0.,  0.],\n",
       "        [ 0.,  1.,  0.],\n",
       "        [ 1.,  0.,  0.],\n",
       "        [ 0.,  1.,  0.],\n",
       "        [ 1.,  0.,  0.],\n",
       "        [ 1.,  0.,  0.],\n",
       "        [ 0.,  0.,  1.],\n",
       "        [ 0.,  0.,  1.],\n",
       "        [ 1.,  0.,  0.],\n",
       "        [ 0.,  1.,  0.],\n",
       "        [ 1.,  0.,  0.],\n",
       "        [ 1.,  0.,  0.],\n",
       "        [ 1.,  0.,  0.],\n",
       "        [ 0.,  1.,  0.],\n",
       "        [ 0.,  1.,  0.],\n",
       "        [ 0.,  0.,  1.],\n",
       "        [ 1.,  0.,  0.],\n",
       "        [ 1.,  0.,  0.],\n",
       "        [ 1.,  0.,  0.],\n",
       "        [ 0.,  0.,  1.],\n",
       "        [ 0.,  0.,  1.],\n",
       "        [ 0.,  0.,  1.],\n",
       "        [ 0.,  0.,  1.],\n",
       "        [ 0.,  1.,  0.],\n",
       "        [ 0.,  1.,  0.],\n",
       "        [ 0.,  1.,  0.],\n",
       "        [ 0.,  0.,  1.],\n",
       "        [ 0.,  0.,  1.],\n",
       "        [ 0.,  1.,  0.],\n",
       "        [ 0.,  1.,  0.],\n",
       "        [ 0.,  0.,  1.],\n",
       "        [ 0.,  0.,  1.],\n",
       "        [ 0.,  0.,  1.],\n",
       "        [ 0.,  1.,  0.],\n",
       "        [ 0.,  1.,  0.],\n",
       "        [ 1.,  0.,  0.],\n",
       "        [ 0.,  0.,  1.],\n",
       "        [ 0.,  0.,  1.],\n",
       "        [ 0.,  0.,  1.],\n",
       "        [ 1.,  0.,  0.],\n",
       "        [ 0.,  0.,  1.],\n",
       "        [ 1.,  0.,  0.],\n",
       "        [ 0.,  1.,  0.],\n",
       "        [ 1.,  0.,  0.],\n",
       "        [ 1.,  0.,  0.],\n",
       "        [ 1.,  0.,  0.],\n",
       "        [ 0.,  1.,  0.],\n",
       "        [ 1.,  0.,  0.],\n",
       "        [ 0.,  0.,  1.],\n",
       "        [ 1.,  0.,  0.],\n",
       "        [ 0.,  1.,  0.],\n",
       "        [ 0.,  1.,  0.],\n",
       "        [ 0.,  0.,  1.],\n",
       "        [ 0.,  1.,  0.],\n",
       "        [ 0.,  1.,  0.],\n",
       "        [ 1.,  0.,  0.],\n",
       "        [ 0.,  0.,  1.],\n",
       "        [ 0.,  0.,  1.],\n",
       "        [ 0.,  1.,  0.],\n",
       "        [ 1.,  0.,  0.],\n",
       "        [ 0.,  1.,  0.],\n",
       "        [ 0.,  1.,  0.],\n",
       "        [ 0.,  0.,  1.],\n",
       "        [ 0.,  1.,  0.],\n",
       "        [ 0.,  1.,  0.],\n",
       "        [ 1.,  0.,  0.],\n",
       "        [ 1.,  0.,  0.],\n",
       "        [ 0.,  1.,  0.],\n",
       "        [ 1.,  0.,  0.],\n",
       "        [ 0.,  0.,  1.],\n",
       "        [ 0.,  0.,  1.],\n",
       "        [ 0.,  1.,  0.],\n",
       "        [ 1.,  0.,  0.],\n",
       "        [ 0.,  1.,  0.],\n",
       "        [ 0.,  0.,  1.],\n",
       "        [ 1.,  0.,  0.],\n",
       "        [ 1.,  0.,  0.],\n",
       "        [ 0.,  0.,  1.],\n",
       "        [ 0.,  0.,  1.],\n",
       "        [ 0.,  1.,  0.],\n",
       "        [ 0.,  1.,  0.],\n",
       "        [ 0.,  1.,  0.],\n",
       "        [ 0.,  1.,  0.],\n",
       "        [ 0.,  0.,  1.],\n",
       "        [ 0.,  1.,  0.],\n",
       "        [ 0.,  0.,  1.],\n",
       "        [ 1.,  0.,  0.],\n",
       "        [ 0.,  1.,  0.],\n",
       "        [ 0.,  0.,  1.],\n",
       "        [ 0.,  0.,  1.],\n",
       "        [ 1.,  0.,  0.],\n",
       "        [ 1.,  0.,  0.],\n",
       "        [ 0.,  1.,  0.],\n",
       "        [ 0.,  0.,  1.],\n",
       "        [ 1.,  0.,  0.],\n",
       "        [ 0.,  0.,  1.],\n",
       "        [ 0.,  1.,  0.],\n",
       "        [ 1.,  0.,  0.],\n",
       "        [ 0.,  1.,  0.],\n",
       "        [ 0.,  1.,  0.],\n",
       "        [ 0.,  0.,  1.],\n",
       "        [ 0.,  0.,  1.],\n",
       "        [ 0.,  0.,  1.],\n",
       "        [ 1.,  0.,  0.],\n",
       "        [ 0.,  1.,  0.],\n",
       "        [ 0.,  0.,  1.],\n",
       "        [ 1.,  0.,  0.],\n",
       "        [ 0.,  0.,  1.],\n",
       "        [ 0.,  0.,  1.],\n",
       "        [ 1.,  0.,  0.],\n",
       "        [ 0.,  0.,  1.],\n",
       "        [ 0.,  0.,  1.],\n",
       "        [ 0.,  0.,  1.],\n",
       "        [ 1.,  0.,  0.],\n",
       "        [ 0.,  1.,  0.],\n",
       "        [ 0.,  1.,  0.],\n",
       "        [ 1.,  0.,  0.],\n",
       "        [ 0.,  1.,  0.],\n",
       "        [ 0.,  1.,  0.],\n",
       "        [ 0.,  0.,  1.],\n",
       "        [ 0.,  1.,  0.],\n",
       "        [ 0.,  0.,  1.],\n",
       "        [ 0.,  0.,  1.],\n",
       "        [ 0.,  1.,  0.],\n",
       "        [ 1.,  0.,  0.],\n",
       "        [ 1.,  0.,  0.],\n",
       "        [ 0.,  0.,  1.],\n",
       "        [ 0.,  0.,  1.],\n",
       "        [ 1.,  0.,  0.],\n",
       "        [ 0.,  1.,  0.],\n",
       "        [ 0.,  0.,  1.],\n",
       "        [ 0.,  0.,  1.],\n",
       "        [ 0.,  0.,  1.],\n",
       "        [ 0.,  1.,  0.],\n",
       "        [ 0.,  1.,  0.],\n",
       "        [ 0.,  1.,  0.],\n",
       "        [ 0.,  1.,  0.],\n",
       "        [ 0.,  1.,  0.],\n",
       "        [ 0.,  0.,  1.],\n",
       "        [ 0.,  0.,  1.],\n",
       "        [ 1.,  0.,  0.],\n",
       "        [ 0.,  0.,  1.],\n",
       "        [ 0.,  0.,  1.],\n",
       "        [ 1.,  0.,  0.],\n",
       "        [ 0.,  1.,  0.],\n",
       "        [ 0.,  1.,  0.],\n",
       "        [ 0.,  0.,  1.],\n",
       "        [ 0.,  0.,  1.],\n",
       "        [ 0.,  0.,  1.],\n",
       "        [ 1.,  0.,  0.],\n",
       "        [ 0.,  1.,  0.],\n",
       "        [ 0.,  1.,  0.],\n",
       "        [ 1.,  0.,  0.],\n",
       "        [ 0.,  1.,  0.],\n",
       "        [ 0.,  0.,  1.],\n",
       "        [ 1.,  0.,  0.],\n",
       "        [ 0.,  0.,  1.],\n",
       "        [ 0.,  0.,  1.],\n",
       "        [ 0.,  0.,  1.],\n",
       "        [ 0.,  0.,  1.],\n",
       "        [ 0.,  0.,  1.],\n",
       "        [ 1.,  0.,  0.],\n",
       "        [ 0.,  1.,  0.],\n",
       "        [ 0.,  0.,  1.],\n",
       "        [ 1.,  0.,  0.],\n",
       "        [ 0.,  0.,  1.],\n",
       "        [ 0.,  1.,  0.],\n",
       "        [ 0.,  1.,  0.],\n",
       "        [ 1.,  0.,  0.],\n",
       "        [ 1.,  0.,  0.],\n",
       "        [ 1.,  0.,  0.],\n",
       "        [ 0.,  0.,  1.],\n",
       "        [ 0.,  0.,  1.],\n",
       "        [ 1.,  0.,  0.],\n",
       "        [ 0.,  1.,  0.],\n",
       "        [ 0.,  0.,  1.],\n",
       "        [ 0.,  0.,  1.],\n",
       "        [ 0.,  0.,  1.],\n",
       "        [ 0.,  1.,  0.],\n",
       "        [ 0.,  1.,  0.],\n",
       "        [ 0.,  0.,  1.],\n",
       "        [ 0.,  0.,  1.],\n",
       "        [ 1.,  0.,  0.],\n",
       "        [ 0.,  1.,  0.],\n",
       "        [ 0.,  0.,  1.]]))"
      ]
     },
     "execution_count": 9,
     "metadata": {},
     "output_type": "execute_result"
    }
   ],
   "source": [
    "Y_train = np_utils.to_categorical(Y_train,3)\n",
    "X_train, Y_train"
   ]
  },
  {
   "cell_type": "code",
   "execution_count": 10,
   "metadata": {},
   "outputs": [
    {
     "data": {
      "text/plain": [
       "(300, 5184)"
      ]
     },
     "execution_count": 10,
     "metadata": {},
     "output_type": "execute_result"
    }
   ],
   "source": [
    "X_train = X_train.reshape(X_train.shape[0], X_train.shape[1])\n",
    "X_train.shape"
   ]
  },
  {
   "cell_type": "code",
   "execution_count": 11,
   "metadata": {
    "scrolled": true
   },
   "outputs": [
    {
     "name": "stdout",
     "output_type": "stream",
     "text": [
      "Epoch 1/40\n",
      "300/300 [==============================] - 0s 315us/step - loss: 1.6624\n",
      "Epoch 2/40\n",
      "300/300 [==============================] - 0s 129us/step - loss: 0.8032\n",
      "Epoch 3/40\n",
      "300/300 [==============================] - 0s 153us/step - loss: 0.5759\n",
      "Epoch 4/40\n",
      "300/300 [==============================] - 0s 143us/step - loss: 0.4045\n",
      "Epoch 5/40\n",
      "300/300 [==============================] - 0s 128us/step - loss: 0.3818\n",
      "Epoch 6/40\n",
      "300/300 [==============================] - 0s 120us/step - loss: 0.3070\n",
      "Epoch 7/40\n",
      "300/300 [==============================] - 0s 126us/step - loss: 0.2793\n",
      "Epoch 8/40\n",
      "300/300 [==============================] - 0s 138us/step - loss: 0.2388\n",
      "Epoch 9/40\n",
      "300/300 [==============================] - 0s 124us/step - loss: 0.1988\n",
      "Epoch 10/40\n",
      "300/300 [==============================] - 0s 127us/step - loss: 0.2091\n",
      "Epoch 11/40\n",
      "300/300 [==============================] - 0s 136us/step - loss: 0.1577\n",
      "Epoch 12/40\n",
      "300/300 [==============================] - 0s 134us/step - loss: 0.1714\n",
      "Epoch 13/40\n",
      "300/300 [==============================] - 0s 128us/step - loss: 0.1661\n",
      "Epoch 14/40\n",
      "300/300 [==============================] - 0s 119us/step - loss: 0.1692\n",
      "Epoch 15/40\n",
      "300/300 [==============================] - 0s 143us/step - loss: 0.1672\n",
      "Epoch 16/40\n",
      "300/300 [==============================] - 0s 115us/step - loss: 0.1607\n",
      "Epoch 17/40\n",
      "300/300 [==============================] - 0s 116us/step - loss: 0.1054\n",
      "Epoch 18/40\n",
      "300/300 [==============================] - 0s 123us/step - loss: 0.1263\n",
      "Epoch 19/40\n",
      "300/300 [==============================] - 0s 113us/step - loss: 0.1594\n",
      "Epoch 20/40\n",
      "300/300 [==============================] - 0s 126us/step - loss: 0.0962\n",
      "Epoch 21/40\n",
      "300/300 [==============================] - 0s 118us/step - loss: 0.0755\n",
      "Epoch 22/40\n",
      "300/300 [==============================] - 0s 114us/step - loss: 0.0705\n",
      "Epoch 23/40\n",
      "300/300 [==============================] - 0s 121us/step - loss: 0.0628\n",
      "Epoch 24/40\n",
      "300/300 [==============================] - 0s 123us/step - loss: 0.0607\n",
      "Epoch 25/40\n",
      "300/300 [==============================] - 0s 116us/step - loss: 0.0600\n",
      "Epoch 26/40\n",
      "300/300 [==============================] - 0s 118us/step - loss: 0.0548\n",
      "Epoch 27/40\n",
      "300/300 [==============================] - 0s 105us/step - loss: 0.0514\n",
      "Epoch 28/40\n",
      "300/300 [==============================] - 0s 115us/step - loss: 0.0496\n",
      "Epoch 29/40\n",
      "300/300 [==============================] - 0s 151us/step - loss: 0.0517\n",
      "Epoch 30/40\n",
      "300/300 [==============================] - 0s 149us/step - loss: 0.0616\n",
      "Epoch 31/40\n",
      "300/300 [==============================] - 0s 116us/step - loss: 0.0609\n",
      "Epoch 32/40\n",
      "300/300 [==============================] - 0s 117us/step - loss: 0.0408\n",
      "Epoch 33/40\n",
      "300/300 [==============================] - 0s 117us/step - loss: 0.0396\n",
      "Epoch 34/40\n",
      "300/300 [==============================] - 0s 104us/step - loss: 0.0392\n",
      "Epoch 35/40\n",
      "300/300 [==============================] - 0s 107us/step - loss: 0.0392\n",
      "Epoch 36/40\n",
      "300/300 [==============================] - 0s 110us/step - loss: 0.0371\n",
      "Epoch 37/40\n",
      "300/300 [==============================] - 0s 110us/step - loss: 0.0344\n",
      "Epoch 38/40\n",
      "300/300 [==============================] - 0s 108us/step - loss: 0.0328\n",
      "Epoch 39/40\n",
      "300/300 [==============================] - 0s 104us/step - loss: 0.0354\n",
      "Epoch 40/40\n",
      "300/300 [==============================] - 0s 107us/step - loss: 0.0452\n"
     ]
    },
    {
     "data": {
      "text/plain": [
       "<keras.callbacks.History at 0x7f572740b7f0>"
      ]
     },
     "execution_count": 11,
     "metadata": {},
     "output_type": "execute_result"
    }
   ],
   "source": [
    "from keras.models import Sequential \n",
    "from keras import utils\n",
    "model = Sequential()\n",
    "\n",
    "from keras.layers import Dense, Activation, Flatten\n",
    "\n",
    "model.add(Dense(3, input_shape=(X_train.shape[1],), activation='softmax'))\n",
    "#model.add(Flatten())\n",
    "#model.add(Dense(3, activation='softmax'))\n",
    "\n",
    "from keras.optimizers import SGD, adam\n",
    "sgd = SGD(lr=0.01,decay=1e-6, momentum=0.9, nesterov=True) \n",
    "adam = adam(lr=0.001, beta_1=0.9, beta_2=0.999, epsilon=None, decay=0.0, amsgrad=False)\n",
    "model.compile(loss='categorical_crossentropy', optimizer=adam)\n",
    "\n",
    "\n",
    "model.fit(X_train, Y_train, epochs=40, batch_size=32)"
   ]
  },
  {
   "cell_type": "code",
   "execution_count": 12,
   "metadata": {},
   "outputs": [
    {
     "name": "stdout",
     "output_type": "stream",
     "text": [
      "_________________________________________________________________\n",
      "Layer (type)                 Output Shape              Param #   \n",
      "=================================================================\n",
      "dense_1 (Dense)              (None, 3)                 15555     \n",
      "=================================================================\n",
      "Total params: 15,555\n",
      "Trainable params: 15,555\n",
      "Non-trainable params: 0\n",
      "_________________________________________________________________\n"
     ]
    }
   ],
   "source": [
    "model.summary()"
   ]
  },
  {
   "cell_type": "code",
   "execution_count": 13,
   "metadata": {
    "scrolled": true
   },
   "outputs": [
    {
     "data": {
      "text/plain": [
       "array([[ 0.,  1.,  0.]], dtype=float32)"
      ]
     },
     "execution_count": 13,
     "metadata": {},
     "output_type": "execute_result"
    }
   ],
   "source": [
    "X_test = generate_a_disk()\n",
    "X_test = X_test.reshape(1, X_test.shape[0])\n",
    "model.predict(X_test)\n"
   ]
  },
  {
   "cell_type": "markdown",
   "metadata": {},
   "source": [
    "# Partie 2 - Visualization of the solution"
   ]
  },
  {
   "cell_type": "code",
   "execution_count": 14,
   "metadata": {},
   "outputs": [],
   "source": [
    "weights = model.get_weights()\n",
    "weightMat = np.asarray(weights[0])"
   ]
  },
  {
   "cell_type": "code",
   "execution_count": 15,
   "metadata": {},
   "outputs": [
    {
     "data": {
      "text/plain": [
       "<matplotlib.image.AxesImage at 0x7f57268bb9e8>"
      ]
     },
     "execution_count": 15,
     "metadata": {},
     "output_type": "execute_result"
    },
    {
     "data": {
      "image/png": "[encoded data removed]",
      "text/plain": [
       "<matplotlib.figure.Figure at 0x7f572692e4e0>"
      ]
     },
     "metadata": {},
     "output_type": "display_data"
    },
    {
     "data": {
      "image/png": "[encoded data removed]",
      "text/plain": [
       "<matplotlib.figure.Figure at 0x7f572692e4a8>"
      ]
     },
     "metadata": {},
     "output_type": "display_data"
    },
    {
     "data": {
      "image/png": "[encoded data removed]",
      "text/plain": [
       "<matplotlib.figure.Figure at 0x7f57268c5358>"
      ]
     },
     "metadata": {},
     "output_type": "display_data"
    }
   ],
   "source": [
    "plt.imshow(weightMat[:,0].reshape(72,72),interpolation='none')\n",
    "plt.figure()\n",
    "plt.imshow(weightMat[:,1].reshape(72,72),interpolation='none')\n",
    "plt.figure()\n",
    "plt.imshow(weightMat[:,2].reshape(72,72),interpolation='none')"
   ]
  },
  {
   "cell_type": "markdown",
   "metadata": {},
   "source": [
    "# Partie 3 - A More Difficult Classification Problem"
   ]
  },
  {
   "cell_type": "code",
   "execution_count": 16,
   "metadata": {
    "scrolled": true
   },
   "outputs": [
    {
     "name": "stdout",
     "output_type": "stream",
     "text": [
      "Creating data:\n",
      "0\n",
      "10\n",
      "20\n",
      "30\n",
      "40\n",
      "50\n",
      "60\n",
      "70\n",
      "80\n",
      "90\n",
      "100\n",
      "110\n",
      "120\n",
      "130\n",
      "140\n",
      "150\n",
      "160\n",
      "170\n",
      "180\n",
      "190\n",
      "200\n",
      "210\n",
      "220\n",
      "230\n",
      "240\n",
      "250\n",
      "260\n",
      "270\n",
      "280\n",
      "290\n"
     ]
    }
   ],
   "source": [
    "[X_train, Y_train] = generate_dataset_classification(300, 20, True)\n",
    "Y_train = utils.np_utils.to_categorical(Y_train,3)"
   ]
  },
  {
   "cell_type": "markdown",
   "metadata": {},
   "source": [
    "## Classifieur linéaire"
   ]
  },
  {
   "cell_type": "code",
   "execution_count": 17,
   "metadata": {},
   "outputs": [
    {
     "name": "stdout",
     "output_type": "stream",
     "text": [
      "Epoch 1/40\n",
      "300/300 [==============================] - 0s 338us/step - loss: 2.0551 - acc: 0.3167\n",
      "Epoch 2/40\n",
      "300/300 [==============================] - 0s 133us/step - loss: 1.1969 - acc: 0.4033\n",
      "Epoch 3/40\n",
      "300/300 [==============================] - 0s 123us/step - loss: 1.1760 - acc: 0.4133\n",
      "Epoch 4/40\n",
      "300/300 [==============================] - 0s 138us/step - loss: 1.0033 - acc: 0.4733\n",
      "Epoch 5/40\n",
      "300/300 [==============================] - 0s 135us/step - loss: 0.9709 - acc: 0.5133\n",
      "Epoch 6/40\n",
      "300/300 [==============================] - 0s 152us/step - loss: 0.9296 - acc: 0.5433\n",
      "Epoch 7/40\n",
      "300/300 [==============================] - 0s 134us/step - loss: 0.9407 - acc: 0.4867\n",
      "Epoch 8/40\n",
      "300/300 [==============================] - 0s 125us/step - loss: 0.8994 - acc: 0.5567\n",
      "Epoch 9/40\n",
      "300/300 [==============================] - 0s 133us/step - loss: 0.8446 - acc: 0.5900\n",
      "Epoch 10/40\n",
      "300/300 [==============================] - 0s 127us/step - loss: 0.9782 - acc: 0.5233\n",
      "Epoch 11/40\n",
      "300/300 [==============================] - 0s 124us/step - loss: 0.9403 - acc: 0.5433\n",
      "Epoch 12/40\n",
      "300/300 [==============================] - 0s 150us/step - loss: 0.9109 - acc: 0.5500\n",
      "Epoch 13/40\n",
      "300/300 [==============================] - 0s 137us/step - loss: 0.8533 - acc: 0.5800\n",
      "Epoch 14/40\n",
      "300/300 [==============================] - 0s 155us/step - loss: 0.8104 - acc: 0.5933\n",
      "Epoch 15/40\n",
      "300/300 [==============================] - 0s 152us/step - loss: 0.7929 - acc: 0.6067\n",
      "Epoch 16/40\n",
      "300/300 [==============================] - 0s 105us/step - loss: 0.7714 - acc: 0.6133\n",
      "Epoch 17/40\n",
      "300/300 [==============================] - 0s 129us/step - loss: 0.7815 - acc: 0.6500\n",
      "Epoch 18/40\n",
      "300/300 [==============================] - 0s 114us/step - loss: 0.8746 - acc: 0.5933\n",
      "Epoch 19/40\n",
      "300/300 [==============================] - 0s 125us/step - loss: 0.7537 - acc: 0.6933\n",
      "Epoch 20/40\n",
      "300/300 [==============================] - 0s 135us/step - loss: 0.7949 - acc: 0.6100\n",
      "Epoch 21/40\n",
      "300/300 [==============================] - 0s 119us/step - loss: 0.7083 - acc: 0.6667\n",
      "Epoch 22/40\n",
      "300/300 [==============================] - 0s 129us/step - loss: 0.7033 - acc: 0.6633\n",
      "Epoch 23/40\n",
      "300/300 [==============================] - 0s 150us/step - loss: 0.6932 - acc: 0.7233\n",
      "Epoch 24/40\n",
      "300/300 [==============================] - 0s 123us/step - loss: 0.7176 - acc: 0.6800\n",
      "Epoch 25/40\n",
      "300/300 [==============================] - 0s 120us/step - loss: 0.6787 - acc: 0.7333\n",
      "Epoch 26/40\n",
      "300/300 [==============================] - 0s 139us/step - loss: 0.7721 - acc: 0.5967\n",
      "Epoch 27/40\n",
      "300/300 [==============================] - 0s 111us/step - loss: 0.8199 - acc: 0.6200\n",
      "Epoch 28/40\n",
      "300/300 [==============================] - 0s 143us/step - loss: 0.7245 - acc: 0.7000\n",
      "Epoch 29/40\n",
      "300/300 [==============================] - 0s 123us/step - loss: 0.7572 - acc: 0.6500\n",
      "Epoch 30/40\n",
      "300/300 [==============================] - 0s 124us/step - loss: 0.6962 - acc: 0.6967\n",
      "Epoch 31/40\n",
      "300/300 [==============================] - 0s 141us/step - loss: 0.6804 - acc: 0.6967\n",
      "Epoch 32/40\n",
      "300/300 [==============================] - 0s 146us/step - loss: 0.7289 - acc: 0.6633\n",
      "Epoch 33/40\n",
      "300/300 [==============================] - 0s 122us/step - loss: 0.7656 - acc: 0.6300\n",
      "Epoch 34/40\n",
      "300/300 [==============================] - 0s 116us/step - loss: 0.7188 - acc: 0.6600\n",
      "Epoch 35/40\n",
      "300/300 [==============================] - 0s 121us/step - loss: 0.6657 - acc: 0.6967\n",
      "Epoch 36/40\n",
      "300/300 [==============================] - ETA: 0s - loss: 0.6778 - acc: 0.656 - 0s 138us/step - loss: 0.6338 - acc: 0.7267\n",
      "Epoch 37/40\n",
      "300/300 [==============================] - 0s 130us/step - loss: 0.6423 - acc: 0.7100\n",
      "Epoch 38/40\n",
      "300/300 [==============================] - 0s 142us/step - loss: 0.6738 - acc: 0.6467\n",
      "Epoch 39/40\n",
      "300/300 [==============================] - 0s 116us/step - loss: 0.6644 - acc: 0.6900\n",
      "Epoch 40/40\n",
      "300/300 [==============================] - 0s 137us/step - loss: 0.6815 - acc: 0.6867\n"
     ]
    },
    {
     "data": {
      "text/plain": [
       "<keras.callbacks.History at 0x7f57251a9c88>"
      ]
     },
     "execution_count": 17,
     "metadata": {},
     "output_type": "execute_result"
    }
   ],
   "source": [
    "from keras.models import Sequential \n",
    "from keras import utils\n",
    "model2 = Sequential()\n",
    "\n",
    "from keras.layers import Dense, Activation, Flatten\n",
    "\n",
    "model2.add(Dense(3, input_shape=(X_train.shape[1],), activation='softmax'))\n",
    "#model.add(Flatten())\n",
    "#model.add(Dense(3, activation='softmax'))\n",
    "\n",
    "from keras.optimizers import SGD, adam\n",
    "sgd = SGD(lr=0.01,decay=1e-6, momentum=0.9, nesterov=True) \n",
    "adam = adam(lr=0.001, beta_1=0.9, beta_2=0.999, epsilon=None, decay=0.0, amsgrad=False)\n",
    "model2.compile(loss='categorical_crossentropy', optimizer=adam,  metrics=['accuracy'])\n",
    "\n",
    "\n",
    "model2.fit(X_train, Y_train, epochs=40, batch_size=32)"
   ]
  },
  {
   "cell_type": "code",
   "execution_count": 18,
   "metadata": {},
   "outputs": [
    {
     "name": "stdout",
     "output_type": "stream",
     "text": [
      "Creating data:\n",
      "0\n",
      "10\n",
      "20\n",
      "30\n",
      "40\n",
      "50\n",
      "60\n",
      "70\n",
      "80\n",
      "90\n",
      "100\n",
      "110\n",
      "120\n",
      "130\n",
      "140\n",
      "150\n",
      "160\n",
      "170\n",
      "180\n",
      "190\n",
      "200\n",
      "210\n",
      "220\n",
      "230\n",
      "240\n",
      "250\n",
      "260\n",
      "270\n",
      "280\n",
      "290\n",
      "300/300 [==============================] - 0s 100us/step\n"
     ]
    },
    {
     "data": {
      "text/plain": [
       "[1.0138840635617574, 0.54999999920527143]"
      ]
     },
     "execution_count": 18,
     "metadata": {},
     "output_type": "execute_result"
    }
   ],
   "source": [
    "[X_test, Y_test] = generate_test_set_classification()\n",
    "model2.evaluate(X_test, Y_test)"
   ]
  },
  {
   "cell_type": "markdown",
   "metadata": {},
   "source": [
    "## CNN"
   ]
  },
  {
   "cell_type": "code",
   "execution_count": 19,
   "metadata": {},
   "outputs": [],
   "source": [
    "X_train.shape\n",
    "X_train = X_train.reshape(X_train.shape[0],72,72,1)"
   ]
  },
  {
   "cell_type": "code",
   "execution_count": 20,
   "metadata": {},
   "outputs": [
    {
     "name": "stdout",
     "output_type": "stream",
     "text": [
      "Epoch 1/25\n",
      "300/300 [==============================] - 1s 3ms/step - loss: 1.3791 - acc: 0.3733\n",
      "Epoch 2/25\n",
      "300/300 [==============================] - 1s 3ms/step - loss: 1.0185 - acc: 0.4900\n",
      "Epoch 3/25\n",
      "300/300 [==============================] - 1s 3ms/step - loss: 0.9192 - acc: 0.6067\n",
      "Epoch 4/25\n",
      "300/300 [==============================] - 1s 3ms/step - loss: 0.8312 - acc: 0.6967\n",
      "Epoch 5/25\n",
      "300/300 [==============================] - 1s 3ms/step - loss: 0.7505 - acc: 0.7700\n",
      "Epoch 6/25\n",
      "300/300 [==============================] - 1s 3ms/step - loss: 0.6916 - acc: 0.8033\n",
      "Epoch 7/25\n",
      "300/300 [==============================] - 1s 3ms/step - loss: 0.6747 - acc: 0.7433\n",
      "Epoch 8/25\n",
      "300/300 [==============================] - 1s 3ms/step - loss: 0.6183 - acc: 0.8033\n",
      "Epoch 9/25\n",
      "300/300 [==============================] - 1s 3ms/step - loss: 0.5765 - acc: 0.8067\n",
      "Epoch 10/25\n",
      "300/300 [==============================] - 1s 3ms/step - loss: 0.5439 - acc: 0.8633\n",
      "Epoch 11/25\n",
      "300/300 [==============================] - 1s 3ms/step - loss: 0.5277 - acc: 0.8467\n",
      "Epoch 12/25\n",
      "300/300 [==============================] - 1s 3ms/step - loss: 0.4843 - acc: 0.8833\n",
      "Epoch 13/25\n",
      "300/300 [==============================] - 1s 3ms/step - loss: 0.4495 - acc: 0.9000\n",
      "Epoch 14/25\n",
      "300/300 [==============================] - 1s 3ms/step - loss: 0.4306 - acc: 0.9067\n",
      "Epoch 15/25\n",
      "300/300 [==============================] - 1s 3ms/step - loss: 0.4110 - acc: 0.8900\n",
      "Epoch 16/25\n",
      "300/300 [==============================] - 1s 3ms/step - loss: 0.4278 - acc: 0.8833\n",
      "Epoch 17/25\n",
      "300/300 [==============================] - 1s 3ms/step - loss: 0.3647 - acc: 0.9200\n",
      "Epoch 18/25\n",
      "300/300 [==============================] - 1s 3ms/step - loss: 0.3588 - acc: 0.9067\n",
      "Epoch 19/25\n",
      "300/300 [==============================] - 1s 3ms/step - loss: 0.3216 - acc: 0.9367\n",
      "Epoch 20/25\n",
      "300/300 [==============================] - 1s 3ms/step - loss: 0.3158 - acc: 0.9500\n",
      "Epoch 21/25\n",
      "300/300 [==============================] - 1s 3ms/step - loss: 0.2941 - acc: 0.9600\n",
      "Epoch 22/25\n",
      "300/300 [==============================] - 1s 3ms/step - loss: 0.2877 - acc: 0.9467\n",
      "Epoch 23/25\n",
      "300/300 [==============================] - 1s 3ms/step - loss: 0.3012 - acc: 0.9400\n",
      "Epoch 24/25\n",
      "300/300 [==============================] - 1s 3ms/step - loss: 0.2626 - acc: 0.9567\n",
      "Epoch 25/25\n",
      "300/300 [==============================] - 1s 3ms/step - loss: 0.2409 - acc: 0.9867\n"
     ]
    },
    {
     "data": {
      "text/plain": [
       "<keras.callbacks.History at 0x7f572824a2e8>"
      ]
     },
     "execution_count": 20,
     "metadata": {},
     "output_type": "execute_result"
    }
   ],
   "source": [
    "from keras.models import Sequential \n",
    "from keras import utils\n",
    "model3 = Sequential()\n",
    "\n",
    "from keras.layers import Dense, Activation, Flatten, Conv2D, MaxPooling2D\n",
    "from keras.callbacks import History \n",
    "history = History()\n",
    "\n",
    "model3.add(Conv2D(16, (5,5), input_shape=(X_train.shape[1],X_train.shape[2],X_train.shape[3])   )    )\n",
    "model3.add( MaxPooling2D() )\n",
    "model3.add(Flatten())\n",
    "model3.add(Dense(3, input_shape=(X_train.shape[1],), activation='softmax'))\n",
    "\n",
    "\n",
    "from keras.optimizers import SGD, adam\n",
    "sgd = SGD(lr=0.01,decay=1e-6, momentum=0.9, nesterov=True) \n",
    "adam = adam(lr=0.001, beta_1=0.9, beta_2=0.999, epsilon=None, decay=0.0, amsgrad=False)\n",
    "model3.compile(loss='categorical_crossentropy', optimizer=adam,  metrics=['accuracy'])\n",
    "\n",
    "\n",
    "model3.fit(X_train, Y_train, epochs=25, batch_size=32,  callbacks=[history])\n",
    "\n"
   ]
  },
  {
   "cell_type": "code",
   "execution_count": 21,
   "metadata": {},
   "outputs": [
    {
     "data": {
      "text/plain": [
       "[<matplotlib.lines.Line2D at 0x7f5726900358>]"
      ]
     },
     "execution_count": 21,
     "metadata": {},
     "output_type": "execute_result"
    },
    {
     "data": {
      "image/png": "[encoded data removed]",
      "text/plain": [
       "<matplotlib.figure.Figure at 0x7f57282902b0>"
      ]
     },
     "metadata": {},
     "output_type": "display_data"
    },
    {
     "data": {
      "image/png": "[encoded data removed]",
      "text/plain": [
       "<matplotlib.figure.Figure at 0x7f5728290470>"
      ]
     },
     "metadata": {},
     "output_type": "display_data"
    }
   ],
   "source": [
    "plt.plot(history.history['loss'])\n",
    "plt.figure()\n",
    "plt.plot(history.history['acc'])"
   ]
  },
  {
   "cell_type": "code",
   "execution_count": null,
   "metadata": {},
   "outputs": [],
   "source": [
    "[X_test, Y_test] = generate_test_set_classification()\n",
    "model3.evaluate(X_test, Y_test)"
   ]
  },
  {
   "cell_type": "markdown",
   "metadata": {},
   "source": [
    "## Big Fat CNN"
   ]
  },
  {
   "cell_type": "code",
   "execution_count": null,
   "metadata": {},
   "outputs": [],
   "source": []
  },
  {
   "cell_type": "code",
   "execution_count": 22,
   "metadata": {},
   "outputs": [],
   "source": [
    "#TODO"
   ]
  },
  {
   "cell_type": "markdown",
   "metadata": {},
   "source": [
    "# Partie 4 - Regression"
   ]
  },
  {
   "cell_type": "code",
   "execution_count": 23,
   "metadata": {},
   "outputs": [
    {
     "name": "stdout",
     "output_type": "stream",
     "text": [
      "Creating data:\n",
      "0\n",
      "10\n",
      "20\n",
      "30\n",
      "40\n",
      "50\n",
      "60\n",
      "70\n",
      "80\n",
      "90\n",
      "100\n",
      "110\n",
      "120\n",
      "130\n",
      "140\n",
      "150\n",
      "160\n",
      "170\n",
      "180\n",
      "190\n",
      "200\n",
      "210\n",
      "220\n",
      "230\n",
      "240\n",
      "250\n",
      "260\n",
      "270\n",
      "280\n",
      "290\n"
     ]
    }
   ],
   "source": [
    "[X_train, Y_train] = generate_dataset_regression(300, 20)\n"
   ]
  },
  {
   "cell_type": "code",
   "execution_count": 24,
   "metadata": {},
   "outputs": [
    {
     "data": {
      "image/png": "[encoded data removed]",
      "text/plain": [
       "<matplotlib.figure.Figure at 0x7f5721b20828>"
      ]
     },
     "metadata": {},
     "output_type": "display_data"
    }
   ],
   "source": [
    "visualize_prediction(X_train[1], Y_train[1])"
   ]
  },
  {
   "cell_type": "code",
   "execution_count": 50,
   "metadata": {},
   "outputs": [
    {
     "data": {
      "text/plain": [
       "(300, 5184)"
      ]
     },
     "execution_count": 50,
     "metadata": {},
     "output_type": "execute_result"
    }
   ],
   "source": [
    "X_train = X_train.reshape(X_train.shape[0],72*72)\n",
    "X_train.shape"
   ]
  },
  {
   "cell_type": "code",
   "execution_count": 51,
   "metadata": {},
   "outputs": [
    {
     "data": {
      "text/plain": [
       "5184"
      ]
     },
     "execution_count": 51,
     "metadata": {},
     "output_type": "execute_result"
    }
   ],
   "source": [
    "X_train.shape[1]"
   ]
  },
  {
   "cell_type": "code",
   "execution_count": 64,
   "metadata": {},
   "outputs": [
    {
     "name": "stdout",
     "output_type": "stream",
     "text": [
      "Epoch 1/200\n",
      "300/300 [==============================] - 0s 1ms/step - loss: 1.6560\n",
      "Epoch 2/200\n",
      "300/300 [==============================] - 0s 526us/step - loss: 0.1396\n",
      "Epoch 3/200\n",
      "300/300 [==============================] - 0s 513us/step - loss: 0.1228\n",
      "Epoch 4/200\n",
      "300/300 [==============================] - 0s 482us/step - loss: 0.1167\n",
      "Epoch 5/200\n",
      "300/300 [==============================] - 0s 574us/step - loss: 0.1100\n",
      "Epoch 6/200\n",
      "300/300 [==============================] - 0s 531us/step - loss: 0.1049\n",
      "Epoch 7/200\n",
      "300/300 [==============================] - 0s 535us/step - loss: 0.0998\n",
      "Epoch 8/200\n",
      "300/300 [==============================] - 0s 512us/step - loss: 0.0995\n",
      "Epoch 9/200\n",
      "300/300 [==============================] - 0s 528us/step - loss: 0.0987\n",
      "Epoch 10/200\n",
      "300/300 [==============================] - 0s 523us/step - loss: 0.0917\n",
      "Epoch 11/200\n",
      "300/300 [==============================] - 0s 512us/step - loss: 0.0909\n",
      "Epoch 12/200\n",
      "300/300 [==============================] - 0s 502us/step - loss: 0.0867\n",
      "Epoch 13/200\n",
      "300/300 [==============================] - 0s 516us/step - loss: 0.0797\n",
      "Epoch 14/200\n",
      "300/300 [==============================] - 0s 494us/step - loss: 0.0839\n",
      "Epoch 15/200\n",
      "300/300 [==============================] - 0s 550us/step - loss: 0.0770\n",
      "Epoch 16/200\n",
      "300/300 [==============================] - 0s 653us/step - loss: 0.0769\n",
      "Epoch 17/200\n",
      "300/300 [==============================] - 0s 588us/step - loss: 0.0740\n",
      "Epoch 18/200\n",
      "300/300 [==============================] - 0s 490us/step - loss: 0.0736\n",
      "Epoch 19/200\n",
      "300/300 [==============================] - 0s 488us/step - loss: 0.0732\n",
      "Epoch 20/200\n",
      "300/300 [==============================] - 0s 494us/step - loss: 0.0740\n",
      "Epoch 21/200\n",
      "300/300 [==============================] - 0s 493us/step - loss: 0.0677\n",
      "Epoch 22/200\n",
      "300/300 [==============================] - 0s 514us/step - loss: 0.0711\n",
      "Epoch 23/200\n",
      "300/300 [==============================] - 0s 509us/step - loss: 0.0659\n",
      "Epoch 24/200\n",
      "300/300 [==============================] - 0s 507us/step - loss: 0.0672\n",
      "Epoch 25/200\n",
      "300/300 [==============================] - 0s 525us/step - loss: 0.0645\n",
      "Epoch 26/200\n",
      "300/300 [==============================] - 0s 550us/step - loss: 0.0664\n",
      "Epoch 27/200\n",
      "300/300 [==============================] - 0s 512us/step - loss: 0.0614\n",
      "Epoch 28/200\n",
      "300/300 [==============================] - 0s 613us/step - loss: 0.0642\n",
      "Epoch 29/200\n",
      "300/300 [==============================] - 0s 711us/step - loss: 0.0597\n",
      "Epoch 30/200\n",
      "300/300 [==============================] - 0s 570us/step - loss: 0.0628\n",
      "Epoch 31/200\n",
      "300/300 [==============================] - 0s 548us/step - loss: 0.0611\n",
      "Epoch 32/200\n",
      "300/300 [==============================] - 0s 575us/step - loss: 0.0625\n",
      "Epoch 33/200\n",
      "300/300 [==============================] - 0s 532us/step - loss: 0.0579\n",
      "Epoch 34/200\n",
      "300/300 [==============================] - 0s 543us/step - loss: 0.0612\n",
      "Epoch 35/200\n",
      "300/300 [==============================] - 0s 497us/step - loss: 0.0578\n",
      "Epoch 36/200\n",
      "300/300 [==============================] - 0s 674us/step - loss: 0.0591\n",
      "Epoch 37/200\n",
      "300/300 [==============================] - 0s 852us/step - loss: 0.0571\n",
      "Epoch 38/200\n",
      "300/300 [==============================] - 0s 588us/step - loss: 0.0582\n",
      "Epoch 39/200\n",
      "300/300 [==============================] - 0s 653us/step - loss: 0.0581\n",
      "Epoch 40/200\n",
      "300/300 [==============================] - 0s 559us/step - loss: 0.0561\n",
      "Epoch 41/200\n",
      "300/300 [==============================] - 0s 538us/step - loss: 0.0530\n",
      "Epoch 42/200\n",
      "300/300 [==============================] - 0s 537us/step - loss: 0.0562\n",
      "Epoch 43/200\n",
      "300/300 [==============================] - 0s 579us/step - loss: 0.0559\n",
      "Epoch 44/200\n",
      "300/300 [==============================] - 0s 603us/step - loss: 0.0555\n",
      "Epoch 45/200\n",
      "300/300 [==============================] - 0s 615us/step - loss: 0.0540\n",
      "Epoch 46/200\n",
      "300/300 [==============================] - 0s 544us/step - loss: 0.0529\n",
      "Epoch 47/200\n",
      "300/300 [==============================] - 0s 513us/step - loss: 0.0496\n",
      "Epoch 48/200\n",
      "300/300 [==============================] - 0s 506us/step - loss: 0.0475\n",
      "Epoch 49/200\n",
      "300/300 [==============================] - 0s 675us/step - loss: 0.0496\n",
      "Epoch 50/200\n",
      "300/300 [==============================] - 0s 669us/step - loss: 0.0499\n",
      "Epoch 51/200\n",
      "300/300 [==============================] - 0s 525us/step - loss: 0.0500\n",
      "Epoch 52/200\n",
      "300/300 [==============================] - 0s 439us/step - loss: 0.0491\n",
      "Epoch 53/200\n",
      "300/300 [==============================] - 0s 488us/step - loss: 0.0495\n",
      "Epoch 54/200\n",
      "300/300 [==============================] - 0s 469us/step - loss: 0.0487\n",
      "Epoch 55/200\n",
      "300/300 [==============================] - 0s 444us/step - loss: 0.0481\n",
      "Epoch 56/200\n",
      "300/300 [==============================] - 0s 486us/step - loss: 0.0473\n",
      "Epoch 57/200\n",
      "300/300 [==============================] - 0s 463us/step - loss: 0.0487\n",
      "Epoch 58/200\n",
      "300/300 [==============================] - 0s 456us/step - loss: 0.0462\n",
      "Epoch 59/200\n",
      "300/300 [==============================] - 0s 413us/step - loss: 0.0469\n",
      "Epoch 60/200\n",
      "300/300 [==============================] - 0s 437us/step - loss: 0.0459\n",
      "Epoch 61/200\n",
      "300/300 [==============================] - 0s 438us/step - loss: 0.0466\n",
      "Epoch 62/200\n",
      "300/300 [==============================] - 0s 436us/step - loss: 0.0459\n",
      "Epoch 63/200\n",
      "300/300 [==============================] - 0s 452us/step - loss: 0.0437\n",
      "Epoch 64/200\n",
      "300/300 [==============================] - 0s 441us/step - loss: 0.0451\n",
      "Epoch 65/200\n",
      "300/300 [==============================] - 0s 475us/step - loss: 0.0460\n",
      "Epoch 66/200\n",
      "300/300 [==============================] - 0s 511us/step - loss: 0.0448\n",
      "Epoch 67/200\n",
      "300/300 [==============================] - 0s 491us/step - loss: 0.0431\n",
      "Epoch 68/200\n",
      "300/300 [==============================] - 0s 486us/step - loss: 0.0441\n",
      "Epoch 69/200\n",
      "300/300 [==============================] - 0s 414us/step - loss: 0.0445\n",
      "Epoch 70/200\n",
      "300/300 [==============================] - 0s 455us/step - loss: 0.0441\n",
      "Epoch 71/200\n",
      "300/300 [==============================] - 0s 430us/step - loss: 0.0430\n",
      "Epoch 72/200\n",
      "300/300 [==============================] - 0s 505us/step - loss: 0.0426\n",
      "Epoch 73/200\n",
      "300/300 [==============================] - 0s 484us/step - loss: 0.0423\n",
      "Epoch 74/200\n",
      "300/300 [==============================] - 0s 434us/step - loss: 0.0436\n",
      "Epoch 75/200\n",
      "300/300 [==============================] - 0s 405us/step - loss: 0.0418\n",
      "Epoch 76/200\n",
      "300/300 [==============================] - 0s 448us/step - loss: 0.0427\n",
      "Epoch 77/200\n",
      "300/300 [==============================] - 0s 426us/step - loss: 0.0426\n",
      "Epoch 78/200\n",
      "300/300 [==============================] - 0s 435us/step - loss: 0.0422\n",
      "Epoch 79/200\n",
      "300/300 [==============================] - 0s 472us/step - loss: 0.0423\n",
      "Epoch 80/200\n",
      "300/300 [==============================] - 0s 436us/step - loss: 0.0417\n",
      "Epoch 81/200\n",
      "300/300 [==============================] - 0s 475us/step - loss: 0.0420\n",
      "Epoch 82/200\n",
      "300/300 [==============================] - 0s 436us/step - loss: 0.0414\n",
      "Epoch 83/200\n",
      "300/300 [==============================] - 0s 440us/step - loss: 0.0411\n",
      "Epoch 84/200\n",
      "300/300 [==============================] - 0s 419us/step - loss: 0.0408\n",
      "Epoch 85/200\n",
      "300/300 [==============================] - 0s 420us/step - loss: 0.0414\n",
      "Epoch 86/200\n",
      "300/300 [==============================] - 0s 419us/step - loss: 0.0410\n",
      "Epoch 87/200\n",
      "300/300 [==============================] - 0s 415us/step - loss: 0.0407\n",
      "Epoch 88/200\n",
      "300/300 [==============================] - 0s 440us/step - loss: 0.0412\n",
      "Epoch 89/200\n",
      "300/300 [==============================] - 0s 433us/step - loss: 0.0411\n",
      "Epoch 90/200\n",
      "300/300 [==============================] - 0s 460us/step - loss: 0.0426\n",
      "Epoch 91/200\n",
      "300/300 [==============================] - 0s 500us/step - loss: 0.0410\n",
      "Epoch 92/200\n",
      "300/300 [==============================] - 0s 482us/step - loss: 0.0408\n",
      "Epoch 93/200\n",
      "300/300 [==============================] - 0s 629us/step - loss: 0.0403\n",
      "Epoch 94/200\n",
      "300/300 [==============================] - 0s 603us/step - loss: 0.0410\n",
      "Epoch 95/200\n",
      "300/300 [==============================] - 0s 660us/step - loss: 0.0402\n",
      "Epoch 96/200\n",
      "300/300 [==============================] - 0s 542us/step - loss: 0.0414\n",
      "Epoch 97/200\n"
     ]
    },
    {
     "name": "stdout",
     "output_type": "stream",
     "text": [
      "300/300 [==============================] - 0s 451us/step - loss: 0.0407\n",
      "Epoch 98/200\n",
      "300/300 [==============================] - 0s 504us/step - loss: 0.0402\n",
      "Epoch 99/200\n",
      "300/300 [==============================] - 0s 443us/step - loss: 0.0410\n",
      "Epoch 100/200\n",
      "300/300 [==============================] - 0s 465us/step - loss: 0.0406\n",
      "Epoch 101/200\n",
      "300/300 [==============================] - 0s 468us/step - loss: 0.0403\n",
      "Epoch 102/200\n",
      "300/300 [==============================] - 0s 458us/step - loss: 0.0402\n",
      "Epoch 103/200\n",
      "300/300 [==============================] - 0s 450us/step - loss: 0.0403\n",
      "Epoch 104/200\n",
      "300/300 [==============================] - 0s 467us/step - loss: 0.0398\n",
      "Epoch 105/200\n",
      "300/300 [==============================] - 0s 452us/step - loss: 0.0408\n",
      "Epoch 106/200\n",
      "300/300 [==============================] - 0s 557us/step - loss: 0.0407\n",
      "Epoch 107/200\n",
      "300/300 [==============================] - 0s 621us/step - loss: 0.0412\n",
      "Epoch 108/200\n",
      "300/300 [==============================] - 0s 594us/step - loss: 0.0413\n",
      "Epoch 109/200\n",
      "300/300 [==============================] - 0s 560us/step - loss: 0.0408\n",
      "Epoch 110/200\n",
      "300/300 [==============================] - 0s 516us/step - loss: 0.0405\n",
      "Epoch 111/200\n",
      "300/300 [==============================] - 0s 479us/step - loss: 0.0403\n",
      "Epoch 112/200\n",
      "300/300 [==============================] - 0s 462us/step - loss: 0.0392\n",
      "Epoch 113/200\n",
      "300/300 [==============================] - 0s 437us/step - loss: 0.0398\n",
      "Epoch 114/200\n",
      "300/300 [==============================] - 0s 449us/step - loss: 0.0405\n",
      "Epoch 115/200\n",
      "300/300 [==============================] - 0s 442us/step - loss: 0.0399\n",
      "Epoch 116/200\n",
      "300/300 [==============================] - 0s 437us/step - loss: 0.0396\n",
      "Epoch 117/200\n",
      "300/300 [==============================] - 0s 449us/step - loss: 0.0401\n",
      "Epoch 118/200\n",
      "300/300 [==============================] - 0s 439us/step - loss: 0.0398\n",
      "Epoch 119/200\n",
      "300/300 [==============================] - 0s 416us/step - loss: 0.0402\n",
      "Epoch 120/200\n",
      "300/300 [==============================] - 0s 433us/step - loss: 0.0402\n",
      "Epoch 121/200\n",
      "300/300 [==============================] - 0s 436us/step - loss: 0.0397\n",
      "Epoch 122/200\n",
      "300/300 [==============================] - 0s 439us/step - loss: 0.0400\n",
      "Epoch 123/200\n",
      "300/300 [==============================] - 0s 437us/step - loss: 0.0403\n",
      "Epoch 124/200\n",
      "300/300 [==============================] - 0s 425us/step - loss: 0.0397\n",
      "Epoch 125/200\n",
      "300/300 [==============================] - 0s 433us/step - loss: 0.0401\n",
      "Epoch 126/200\n",
      "300/300 [==============================] - 0s 417us/step - loss: 0.0398\n",
      "Epoch 127/200\n",
      "300/300 [==============================] - 0s 446us/step - loss: 0.0402\n",
      "Epoch 128/200\n",
      "300/300 [==============================] - 0s 452us/step - loss: 0.0394\n",
      "Epoch 129/200\n",
      "300/300 [==============================] - 0s 439us/step - loss: 0.0394\n",
      "Epoch 130/200\n",
      "300/300 [==============================] - 0s 484us/step - loss: 0.0409\n",
      "Epoch 131/200\n",
      "300/300 [==============================] - 0s 437us/step - loss: 0.0407\n",
      "Epoch 132/200\n",
      "300/300 [==============================] - 0s 425us/step - loss: 0.0399\n",
      "Epoch 133/200\n",
      "300/300 [==============================] - 0s 428us/step - loss: 0.0399\n",
      "Epoch 134/200\n",
      "300/300 [==============================] - 0s 437us/step - loss: 0.0399\n",
      "Epoch 135/200\n",
      "300/300 [==============================] - 0s 430us/step - loss: 0.0400\n",
      "Epoch 136/200\n",
      "300/300 [==============================] - 0s 437us/step - loss: 0.0406\n",
      "Epoch 137/200\n",
      "300/300 [==============================] - 0s 425us/step - loss: 0.0409\n",
      "Epoch 138/200\n",
      "300/300 [==============================] - 0s 434us/step - loss: 0.0398\n",
      "Epoch 139/200\n",
      "300/300 [==============================] - 0s 431us/step - loss: 0.0399\n",
      "Epoch 140/200\n",
      "300/300 [==============================] - 0s 417us/step - loss: 0.0395\n",
      "Epoch 141/200\n",
      "300/300 [==============================] - 0s 439us/step - loss: 0.0398\n",
      "Epoch 142/200\n",
      "300/300 [==============================] - 0s 549us/step - loss: 0.0405\n",
      "Epoch 143/200\n",
      "300/300 [==============================] - 0s 553us/step - loss: 0.0403\n",
      "Epoch 144/200\n",
      "300/300 [==============================] - 0s 514us/step - loss: 0.0405\n",
      "Epoch 145/200\n",
      "300/300 [==============================] - 0s 431us/step - loss: 0.0402\n",
      "Epoch 146/200\n",
      "300/300 [==============================] - 0s 424us/step - loss: 0.0404\n",
      "Epoch 147/200\n",
      "300/300 [==============================] - 0s 406us/step - loss: 0.0398\n",
      "Epoch 148/200\n",
      "300/300 [==============================] - 0s 427us/step - loss: 0.0395\n",
      "Epoch 149/200\n",
      "300/300 [==============================] - 0s 448us/step - loss: 0.0399\n",
      "Epoch 150/200\n",
      "300/300 [==============================] - 0s 452us/step - loss: 0.0400\n",
      "Epoch 151/200\n",
      "300/300 [==============================] - 0s 459us/step - loss: 0.0398\n",
      "Epoch 152/200\n",
      "300/300 [==============================] - 0s 402us/step - loss: 0.0400\n",
      "Epoch 153/200\n",
      "300/300 [==============================] - 0s 422us/step - loss: 0.0397\n",
      "Epoch 154/200\n",
      "300/300 [==============================] - 0s 435us/step - loss: 0.0404\n",
      "Epoch 155/200\n",
      "300/300 [==============================] - 0s 409us/step - loss: 0.0401\n",
      "Epoch 156/200\n",
      "300/300 [==============================] - 0s 445us/step - loss: 0.0399\n",
      "Epoch 157/200\n",
      "300/300 [==============================] - 0s 426us/step - loss: 0.0394\n",
      "Epoch 158/200\n",
      "300/300 [==============================] - 0s 434us/step - loss: 0.0405\n",
      "Epoch 159/200\n",
      "300/300 [==============================] - 0s 445us/step - loss: 0.0402\n",
      "Epoch 160/200\n",
      "300/300 [==============================] - 0s 459us/step - loss: 0.0399\n",
      "Epoch 161/200\n",
      "300/300 [==============================] - 0s 446us/step - loss: 0.0403\n",
      "Epoch 162/200\n",
      "300/300 [==============================] - 0s 460us/step - loss: 0.0406\n",
      "Epoch 163/200\n",
      "300/300 [==============================] - 0s 445us/step - loss: 0.0403\n",
      "Epoch 164/200\n",
      "300/300 [==============================] - 0s 438us/step - loss: 0.0405\n",
      "Epoch 165/200\n",
      "300/300 [==============================] - 0s 445us/step - loss: 0.0403\n",
      "Epoch 166/200\n",
      "300/300 [==============================] - 0s 448us/step - loss: 0.0397\n",
      "Epoch 167/200\n",
      "300/300 [==============================] - 0s 434us/step - loss: 0.0402\n",
      "Epoch 168/200\n",
      "300/300 [==============================] - 0s 411us/step - loss: 0.0400\n",
      "Epoch 169/200\n",
      "300/300 [==============================] - 0s 463us/step - loss: 0.0402\n",
      "Epoch 170/200\n",
      "300/300 [==============================] - 0s 440us/step - loss: 0.0396\n",
      "Epoch 171/200\n",
      "300/300 [==============================] - 0s 455us/step - loss: 0.0401\n",
      "Epoch 172/200\n",
      "300/300 [==============================] - 0s 440us/step - loss: 0.0398\n",
      "Epoch 173/200\n",
      "300/300 [==============================] - 0s 416us/step - loss: 0.0395\n",
      "Epoch 174/200\n",
      "300/300 [==============================] - 0s 426us/step - loss: 0.0396\n",
      "Epoch 175/200\n",
      "300/300 [==============================] - 0s 430us/step - loss: 0.0394\n",
      "Epoch 176/200\n",
      "300/300 [==============================] - 0s 441us/step - loss: 0.0399\n",
      "Epoch 177/200\n",
      "300/300 [==============================] - 0s 420us/step - loss: 0.0403\n",
      "Epoch 178/200\n",
      "300/300 [==============================] - 0s 460us/step - loss: 0.0401\n",
      "Epoch 179/200\n",
      "300/300 [==============================] - 0s 430us/step - loss: 0.0401\n",
      "Epoch 180/200\n",
      "300/300 [==============================] - 0s 409us/step - loss: 0.0402\n",
      "Epoch 181/200\n",
      "300/300 [==============================] - 0s 410us/step - loss: 0.0394\n",
      "Epoch 182/200\n",
      "300/300 [==============================] - 0s 405us/step - loss: 0.0402\n",
      "Epoch 183/200\n",
      "300/300 [==============================] - 0s 403us/step - loss: 0.0395\n",
      "Epoch 184/200\n",
      "300/300 [==============================] - 0s 409us/step - loss: 0.0396\n",
      "Epoch 185/200\n",
      "300/300 [==============================] - 0s 458us/step - loss: 0.0396\n",
      "Epoch 186/200\n",
      "300/300 [==============================] - 0s 443us/step - loss: 0.0395\n",
      "Epoch 187/200\n",
      "300/300 [==============================] - 0s 427us/step - loss: 0.0402\n",
      "Epoch 188/200\n",
      "300/300 [==============================] - 0s 428us/step - loss: 0.0405\n",
      "Epoch 189/200\n",
      "300/300 [==============================] - 0s 448us/step - loss: 0.0403\n",
      "Epoch 190/200\n",
      "300/300 [==============================] - 0s 454us/step - loss: 0.0410\n",
      "Epoch 191/200\n",
      "300/300 [==============================] - 0s 423us/step - loss: 0.0414\n",
      "Epoch 192/200\n"
     ]
    },
    {
     "name": "stdout",
     "output_type": "stream",
     "text": [
      "300/300 [==============================] - 0s 424us/step - loss: 0.0398\n",
      "Epoch 193/200\n",
      "300/300 [==============================] - 0s 402us/step - loss: 0.0403\n",
      "Epoch 194/200\n",
      "300/300 [==============================] - 0s 417us/step - loss: 0.0402\n",
      "Epoch 195/200\n",
      "300/300 [==============================] - 0s 410us/step - loss: 0.0401\n",
      "Epoch 196/200\n",
      "300/300 [==============================] - 0s 412us/step - loss: 0.0399\n",
      "Epoch 197/200\n",
      "300/300 [==============================] - 0s 408us/step - loss: 0.0402\n",
      "Epoch 198/200\n",
      "300/300 [==============================] - 0s 433us/step - loss: 0.0398\n",
      "Epoch 199/200\n",
      "300/300 [==============================] - 0s 417us/step - loss: 0.0398\n",
      "Epoch 200/200\n",
      "300/300 [==============================] - 0s 432us/step - loss: 0.0395\n"
     ]
    },
    {
     "data": {
      "text/plain": [
       "<keras.callbacks.History at 0x7f571e3d2898>"
      ]
     },
     "execution_count": 64,
     "metadata": {},
     "output_type": "execute_result"
    }
   ],
   "source": [
    "from keras.models import Sequential \n",
    "from keras import utils\n",
    "model4 = Sequential()\n",
    "\n",
    "from keras.layers import Dense, Activation, Flatten, Dropout\n",
    "\n",
    "\n",
    "model4.add(Dense(100, input_shape = (X_train.shape[1],),activation = 'relu'))\n",
    "model4.add(Dropout(0.4))\n",
    "model4.add(Dense(6, activation = 'linear'))\n",
    "\n",
    "#model.add(Flatten())\n",
    "#model.add(Dense(3, activation='softmax'))\n",
    "\n",
    "from keras.optimizers import SGD, adam\n",
    "sgd = SGD(lr=0.01,decay=1e-6, momentum=0.9, nesterov=True) \n",
    "adam = adam(lr=0.001, beta_1=0.9, beta_2=0.999, epsilon=None, decay=0.0, amsgrad=False)\n",
    "model4.compile(loss='logcosh', optimizer=adam)\n",
    "\n",
    "\n",
    "model4.fit(X_train, Y_train, epochs=200, batch_size=32)"
   ]
  },
  {
   "cell_type": "code",
   "execution_count": null,
   "metadata": {},
   "outputs": [],
   "source": []
  },
  {
   "cell_type": "code",
   "execution_count": 28,
   "metadata": {},
   "outputs": [
    {
     "data": {
      "text/plain": [
       "array([[  9.17014941e-01,   1.87301544e-01,   1.63837063e-01,\n",
       "          8.68932650e-01,   8.51839530e-01,   2.64340715e-01],\n",
       "       [  5.47973159e-02,   4.48144634e-02,   3.41259094e-01,\n",
       "          9.64522283e-01,   6.00344370e-01,   5.82273507e-01],\n",
       "       [  5.91773914e-01,   6.55125977e-01,   8.28597570e-01,\n",
       "          4.39996637e-01,   9.46166571e-01,   3.61513053e-01],\n",
       "       ..., \n",
       "       [  7.04759373e-01,   6.71115676e-01,   6.01493116e-01,\n",
       "          5.65298967e-01,   9.59509840e-01,   6.99165651e-02],\n",
       "       [  9.81529460e-01,   7.30845517e-01,   1.19658628e-01,\n",
       "          6.06943115e-01,   8.23647658e-02,   6.72925867e-01],\n",
       "       [  8.07061665e-01,   6.76762245e-01,   3.84007323e-01,\n",
       "          7.81502556e-01,   6.62123166e-04,   3.30588043e-01]])"
      ]
     },
     "execution_count": 28,
     "metadata": {},
     "output_type": "execute_result"
    }
   ],
   "source": [
    "Y_train"
   ]
  },
  {
   "cell_type": "code",
   "execution_count": 54,
   "metadata": {
    "scrolled": true
   },
   "outputs": [
    {
     "name": "stdout",
     "output_type": "stream",
     "text": [
      "Creating data:\n",
      "0\n",
      "10\n",
      "20\n",
      "30\n",
      "40\n",
      "50\n",
      "60\n",
      "70\n",
      "80\n",
      "90\n",
      "100\n",
      "110\n",
      "120\n",
      "130\n",
      "140\n",
      "150\n",
      "160\n",
      "170\n",
      "180\n",
      "190\n",
      "200\n",
      "210\n",
      "220\n",
      "230\n",
      "240\n",
      "250\n",
      "260\n",
      "270\n",
      "280\n",
      "290\n"
     ]
    }
   ],
   "source": [
    "[X_test, Y_test] = generate_test_set_regression()\n",
    "X_test = X_test.reshape(X_test.shape[0],72*72)"
   ]
  },
  {
   "cell_type": "code",
   "execution_count": 59,
   "metadata": {},
   "outputs": [],
   "source": [
    "Y_test = model4.predict(X_test)"
   ]
  },
  {
   "cell_type": "code",
   "execution_count": 61,
   "metadata": {},
   "outputs": [
    {
     "data": {
      "image/png": "[encoded data removed]",
      "text/plain": [
       "<matplotlib.figure.Figure at 0x7f5727880198>"
      ]
     },
     "metadata": {},
     "output_type": "display_data"
    }
   ],
   "source": [
    "i=10\n",
    "visualize_prediction(X_test[i], Y_test[i])"
   ]
  },
  {
   "cell_type": "code",
   "execution_count": 31,
   "metadata": {},
   "outputs": [
    {
     "data": {
      "text/plain": [
       "array([ 0.70676231,  0.6411882 ,  0.74981934,  0.67158461,  0.70711857,\n",
       "        0.49935946], dtype=float32)"
      ]
     },
     "execution_count": 31,
     "metadata": {},
     "output_type": "execute_result"
    }
   ],
   "source": [
    "Y_test[0]"
   ]
  },
  {
   "cell_type": "code",
   "execution_count": 32,
   "metadata": {},
   "outputs": [
    {
     "data": {
      "text/plain": [
       "(300, 6)"
      ]
     },
     "execution_count": 32,
     "metadata": {},
     "output_type": "execute_result"
    }
   ],
   "source": [
    "Y_train.shape"
   ]
  },
  {
   "cell_type": "code",
   "execution_count": 33,
   "metadata": {},
   "outputs": [
    {
     "data": {
      "text/plain": [
       "array([ 0.70676231,  0.6411882 ,  0.74981934,  0.67158461,  0.70711857,\n",
       "        0.49935946], dtype=float32)"
      ]
     },
     "execution_count": 33,
     "metadata": {},
     "output_type": "execute_result"
    }
   ],
   "source": [
    "Y_test[0]"
   ]
  },
  {
   "cell_type": "code",
   "execution_count": 34,
   "metadata": {},
   "outputs": [
    {
     "data": {
      "text/plain": [
       "array([ 0.91701494,  0.18730154,  0.16383706,  0.86893265,  0.85183953,\n",
       "        0.26434072])"
      ]
     },
     "execution_count": 34,
     "metadata": {},
     "output_type": "execute_result"
    }
   ],
   "source": [
    "Y_train[0]"
   ]
  },
  {
   "cell_type": "code",
   "execution_count": 35,
   "metadata": {},
   "outputs": [
    {
     "data": {
      "text/plain": [
       "array([[ 1.,  0.,  0.],\n",
       "       [ 1.,  0.,  0.],\n",
       "       [ 1.,  0.,  0.],\n",
       "       [ 1.,  0.,  0.],\n",
       "       [ 1.,  0.,  0.],\n",
       "       [ 1.,  0.,  0.]])"
      ]
     },
     "execution_count": 35,
     "metadata": {},
     "output_type": "execute_result"
    }
   ],
   "source": [
    "np_utils.to_categorical(Y_train[3], 3) "
   ]
  },
  {
   "cell_type": "code",
   "execution_count": null,
   "metadata": {},
   "outputs": [],
   "source": []
  }
 ],
 "metadata": {
  "kernelspec": {
   "display_name": "Python 3",
   "language": "python",
   "name": "python3"
  }
 },
 "nbformat": 4,
 "nbformat_minor": 2
}
